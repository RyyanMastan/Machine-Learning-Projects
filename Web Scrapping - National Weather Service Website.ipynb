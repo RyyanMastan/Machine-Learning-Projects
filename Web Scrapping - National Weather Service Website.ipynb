{
 "cells": [
  {
   "cell_type": "code",
   "execution_count": 1,
   "metadata": {},
   "outputs": [],
   "source": [
    "import requests\n",
    "from bs4 import BeautifulSoup"
   ]
  },
  {
   "cell_type": "code",
   "execution_count": 2,
   "metadata": {},
   "outputs": [
    {
     "name": "stdout",
     "output_type": "stream",
     "text": [
      "<div class=\"tombstone-container\">\n",
      " <p class=\"period-name\">\n",
      "  Overnight\n",
      "  <br/>\n",
      "  <br/>\n",
      " </p>\n",
      " <p>\n",
      "  <img alt=\"Overnight: Mostly clear, with a low around 47. North wind 11 to 16 mph. \" class=\"forecast-icon\" src=\"newimages/medium/nfew.png\" title=\"Overnight: Mostly clear, with a low around 47. North wind 11 to 16 mph. \"/>\n",
      " </p>\n",
      " <p class=\"short-desc\">\n",
      "  Mostly Clear\n",
      " </p>\n",
      " <p class=\"temp temp-low\">\n",
      "  Low: 47 °F\n",
      " </p>\n",
      "</div>\n"
     ]
    }
   ],
   "source": [
    "# creating the object to hold to page source content\n",
    "page = requests.get(\"https://forecast.weather.gov/MapClick.php?lat=37.7772&lon=-122.4168#.XpLOY8gzbcc\")\n",
    "#print(page)\n",
    "\n",
    "# creating an object to store the page source in proper html formmat\n",
    "soup = BeautifulSoup(page.content , 'html.parser')\n",
    "#print(soup)\n",
    "\n",
    "# storing the page source belonging to a particular id tag on the page\n",
    "seven_day = soup.find(id = \"seven-day-forecast\")\n",
    "#print(seven_day)\n",
    "\n",
    "# finding all instances of a particular class tag within the id and storing it to object\n",
    "forecast_items = seven_day.find_all(class_ = \"tombstone-container\")\n",
    "#print(forecast_items)\n",
    "\n",
    "tonight = forecast_items[0]\n",
    "print(tonight.prettify())"
   ]
  },
  {
   "cell_type": "code",
   "execution_count": 3,
   "metadata": {},
   "outputs": [
    {
     "name": "stdout",
     "output_type": "stream",
     "text": [
      "Overnight\n",
      "Mostly Clear\n",
      "Low: 47 °F\n"
     ]
    }
   ],
   "source": [
    "# extracting values from sub tag\n",
    "period = tonight.find(class_=\"period-name\").get_text()\n",
    "short_desc = tonight.find(class_=\"short-desc\").get_text()\n",
    "temp = tonight.find(class_=\"temp temp-low\").get_text()\n",
    "\n",
    "print(period)\n",
    "print(short_desc)\n",
    "print(temp)"
   ]
  },
  {
   "cell_type": "code",
   "execution_count": 4,
   "metadata": {},
   "outputs": [
    {
     "name": "stdout",
     "output_type": "stream",
     "text": [
      "Overnight: Mostly clear, with a low around 47. North wind 11 to 16 mph. \n"
     ]
    }
   ],
   "source": [
    "#extract the title part of the img tag\n",
    "\n",
    "img = tonight.find(\"img\")\n",
    "desc = img['title']\n",
    "print(desc)"
   ]
  },
  {
   "cell_type": "code",
   "execution_count": 5,
   "metadata": {},
   "outputs": [
    {
     "name": "stdout",
     "output_type": "stream",
     "text": [
      "['Overnight', 'Sunday', 'SundayNight', 'Monday', 'MondayNight', 'Tuesday', 'TuesdayNight', 'Wednesday', 'WednesdayNight']\n"
     ]
    }
   ],
   "source": [
    "# extracting all values for the period tag from the entire object\n",
    "\n",
    "period_tags = seven_day.select(\".tombstone-container .period-name\")\n",
    "periods = [pt.get_text() for pt in period_tags]\n",
    "print(periods)"
   ]
  },
  {
   "cell_type": "code",
   "execution_count": 6,
   "metadata": {},
   "outputs": [
    {
     "name": "stdout",
     "output_type": "stream",
     "text": [
      "['Mostly Clear', 'Sunny', 'Mostly Clear', 'Sunny', 'Partly Cloudy', 'Mostly Sunny', 'Partly Cloudy', 'Sunny', 'Mostly Clear']\n",
      "\n",
      "['Low: 47 °F', 'High: 65 °F', 'Low: 45 °F', 'High: 62 °F', 'Low: 44 °F', 'High: 64 °F', 'Low: 45 °F', 'High: 62 °F', 'Low: 46 °F']\n",
      "\n",
      "['Overnight: Mostly clear, with a low around 47. North wind 11 to 16 mph. ', 'Sunday: Sunny, with a high near 65. North northeast wind 5 to 9 mph becoming calm. ', 'Sunday Night: Mostly clear, with a low around 45. West wind around 6 mph becoming calm  in the evening. ', 'Monday: Sunny, with a high near 62. Light and variable wind becoming southwest 5 to 10 mph in the afternoon. ', 'Monday Night: Partly cloudy, with a low around 44. West southwest wind around 5 mph becoming calm. ', 'Tuesday: Mostly sunny, with a high near 64.', 'Tuesday Night: Partly cloudy, with a low around 45.', 'Wednesday: Sunny, with a high near 62.', 'Wednesday Night: Mostly clear, with a low around 46.']\n"
     ]
    }
   ],
   "source": [
    "# extracting all values for the short-desc and temp tag from the entire object\n",
    "short_descs = [sd.get_text() for sd in seven_day.select(\".tombstone-container .short-desc\")]\n",
    "temps = [t.get_text() for t in seven_day.select(\".tombstone-container .temp\")]\n",
    "descs = [d[\"title\"] for d in seven_day.select(\".tombstone-container img\")]\n",
    "print(short_descs)\n",
    "print()\n",
    "print(temps)\n",
    "print()\n",
    "print(descs)\n",
    "\n"
   ]
  },
  {
   "cell_type": "code",
   "execution_count": 7,
   "metadata": {
    "scrolled": true
   },
   "outputs": [
    {
     "data": {
      "text/html": [
       "<div>\n",
       "<style scoped>\n",
       "    .dataframe tbody tr th:only-of-type {\n",
       "        vertical-align: middle;\n",
       "    }\n",
       "\n",
       "    .dataframe tbody tr th {\n",
       "        vertical-align: top;\n",
       "    }\n",
       "\n",
       "    .dataframe thead th {\n",
       "        text-align: right;\n",
       "    }\n",
       "</style>\n",
       "<table border=\"1\" class=\"dataframe\">\n",
       "  <thead>\n",
       "    <tr style=\"text-align: right;\">\n",
       "      <th></th>\n",
       "      <th>period</th>\n",
       "      <th>short_desc</th>\n",
       "      <th>temp</th>\n",
       "      <th>desc</th>\n",
       "    </tr>\n",
       "  </thead>\n",
       "  <tbody>\n",
       "    <tr>\n",
       "      <th>0</th>\n",
       "      <td>Overnight</td>\n",
       "      <td>Mostly Clear</td>\n",
       "      <td>Low: 47 °F</td>\n",
       "      <td>Overnight: Mostly clear, with a low around 47....</td>\n",
       "    </tr>\n",
       "    <tr>\n",
       "      <th>1</th>\n",
       "      <td>Sunday</td>\n",
       "      <td>Sunny</td>\n",
       "      <td>High: 65 °F</td>\n",
       "      <td>Sunday: Sunny, with a high near 65. North nort...</td>\n",
       "    </tr>\n",
       "    <tr>\n",
       "      <th>2</th>\n",
       "      <td>SundayNight</td>\n",
       "      <td>Mostly Clear</td>\n",
       "      <td>Low: 45 °F</td>\n",
       "      <td>Sunday Night: Mostly clear, with a low around ...</td>\n",
       "    </tr>\n",
       "    <tr>\n",
       "      <th>3</th>\n",
       "      <td>Monday</td>\n",
       "      <td>Sunny</td>\n",
       "      <td>High: 62 °F</td>\n",
       "      <td>Monday: Sunny, with a high near 62. Light and ...</td>\n",
       "    </tr>\n",
       "    <tr>\n",
       "      <th>4</th>\n",
       "      <td>MondayNight</td>\n",
       "      <td>Partly Cloudy</td>\n",
       "      <td>Low: 44 °F</td>\n",
       "      <td>Monday Night: Partly cloudy, with a low around...</td>\n",
       "    </tr>\n",
       "    <tr>\n",
       "      <th>5</th>\n",
       "      <td>Tuesday</td>\n",
       "      <td>Mostly Sunny</td>\n",
       "      <td>High: 64 °F</td>\n",
       "      <td>Tuesday: Mostly sunny, with a high near 64.</td>\n",
       "    </tr>\n",
       "    <tr>\n",
       "      <th>6</th>\n",
       "      <td>TuesdayNight</td>\n",
       "      <td>Partly Cloudy</td>\n",
       "      <td>Low: 45 °F</td>\n",
       "      <td>Tuesday Night: Partly cloudy, with a low aroun...</td>\n",
       "    </tr>\n",
       "    <tr>\n",
       "      <th>7</th>\n",
       "      <td>Wednesday</td>\n",
       "      <td>Sunny</td>\n",
       "      <td>High: 62 °F</td>\n",
       "      <td>Wednesday: Sunny, with a high near 62.</td>\n",
       "    </tr>\n",
       "    <tr>\n",
       "      <th>8</th>\n",
       "      <td>WednesdayNight</td>\n",
       "      <td>Mostly Clear</td>\n",
       "      <td>Low: 46 °F</td>\n",
       "      <td>Wednesday Night: Mostly clear, with a low arou...</td>\n",
       "    </tr>\n",
       "  </tbody>\n",
       "</table>\n",
       "</div>"
      ],
      "text/plain": [
       "           period     short_desc         temp  \\\n",
       "0       Overnight   Mostly Clear   Low: 47 °F   \n",
       "1          Sunday          Sunny  High: 65 °F   \n",
       "2     SundayNight   Mostly Clear   Low: 45 °F   \n",
       "3          Monday          Sunny  High: 62 °F   \n",
       "4     MondayNight  Partly Cloudy   Low: 44 °F   \n",
       "5         Tuesday   Mostly Sunny  High: 64 °F   \n",
       "6    TuesdayNight  Partly Cloudy   Low: 45 °F   \n",
       "7       Wednesday          Sunny  High: 62 °F   \n",
       "8  WednesdayNight   Mostly Clear   Low: 46 °F   \n",
       "\n",
       "                                                desc  \n",
       "0  Overnight: Mostly clear, with a low around 47....  \n",
       "1  Sunday: Sunny, with a high near 65. North nort...  \n",
       "2  Sunday Night: Mostly clear, with a low around ...  \n",
       "3  Monday: Sunny, with a high near 62. Light and ...  \n",
       "4  Monday Night: Partly cloudy, with a low around...  \n",
       "5        Tuesday: Mostly sunny, with a high near 64.  \n",
       "6  Tuesday Night: Partly cloudy, with a low aroun...  \n",
       "7             Wednesday: Sunny, with a high near 62.  \n",
       "8  Wednesday Night: Mostly clear, with a low arou...  "
      ]
     },
     "execution_count": 7,
     "metadata": {},
     "output_type": "execute_result"
    }
   ],
   "source": [
    "# combining all tags and creating a dataframe our of it\n",
    "\n",
    "import pandas as pd\n",
    "weather = pd.DataFrame({\n",
    "\"period\": periods,\n",
    "\"short_desc\": short_descs,\n",
    "\"temp\": temps,\n",
    "\"desc\":descs\n",
    "})\n",
    "weather"
   ]
  },
  {
   "cell_type": "code",
   "execution_count": 8,
   "metadata": {},
   "outputs": [
    {
     "name": "stdout",
     "output_type": "stream",
     "text": [
      "                 0                                                  1\n",
      "0        Overnight  Mostly clear, with a low around 47. North wind...\n",
      "1           Sunday  Sunny, with a high near 65. North northeast wi...\n",
      "2     Sunday Night  Mostly clear, with a low around 45. West wind ...\n",
      "3           Monday  Sunny, with a high near 62. Light and variable...\n",
      "4     Monday Night  Partly cloudy, with a low around 44. West sout...\n",
      "5          Tuesday                 Mostly sunny, with a high near 64.\n",
      "6    Tuesday Night               Partly cloudy, with a low around 45.\n",
      "7        Wednesday                        Sunny, with a high near 62.\n",
      "8  Wednesday Night                Mostly clear, with a low around 46.\n"
     ]
    }
   ],
   "source": [
    "# desc has the text that contains the value of period also\n",
    "# trying to split the desc string such that the period part is removed\n",
    "\n",
    "new = weather[\"desc\"].str.split(\": \",expand=True)\n",
    "print(new)"
   ]
  },
  {
   "cell_type": "code",
   "execution_count": 9,
   "metadata": {},
   "outputs": [],
   "source": [
    "#fetching the other part and replacing the desc variable\n",
    "\n",
    "weather[\"desc\"] = new[1]"
   ]
  },
  {
   "cell_type": "code",
   "execution_count": 10,
   "metadata": {},
   "outputs": [
    {
     "data": {
      "text/html": [
       "<div>\n",
       "<style scoped>\n",
       "    .dataframe tbody tr th:only-of-type {\n",
       "        vertical-align: middle;\n",
       "    }\n",
       "\n",
       "    .dataframe tbody tr th {\n",
       "        vertical-align: top;\n",
       "    }\n",
       "\n",
       "    .dataframe thead th {\n",
       "        text-align: right;\n",
       "    }\n",
       "</style>\n",
       "<table border=\"1\" class=\"dataframe\">\n",
       "  <thead>\n",
       "    <tr style=\"text-align: right;\">\n",
       "      <th></th>\n",
       "      <th>period</th>\n",
       "      <th>short_desc</th>\n",
       "      <th>temp</th>\n",
       "      <th>desc</th>\n",
       "    </tr>\n",
       "  </thead>\n",
       "  <tbody>\n",
       "    <tr>\n",
       "      <th>0</th>\n",
       "      <td>Overnight</td>\n",
       "      <td>Mostly Clear</td>\n",
       "      <td>Low: 47 °F</td>\n",
       "      <td>Mostly clear, with a low around 47. North wind...</td>\n",
       "    </tr>\n",
       "    <tr>\n",
       "      <th>1</th>\n",
       "      <td>Sunday</td>\n",
       "      <td>Sunny</td>\n",
       "      <td>High: 65 °F</td>\n",
       "      <td>Sunny, with a high near 65. North northeast wi...</td>\n",
       "    </tr>\n",
       "    <tr>\n",
       "      <th>2</th>\n",
       "      <td>SundayNight</td>\n",
       "      <td>Mostly Clear</td>\n",
       "      <td>Low: 45 °F</td>\n",
       "      <td>Mostly clear, with a low around 45. West wind ...</td>\n",
       "    </tr>\n",
       "    <tr>\n",
       "      <th>3</th>\n",
       "      <td>Monday</td>\n",
       "      <td>Sunny</td>\n",
       "      <td>High: 62 °F</td>\n",
       "      <td>Sunny, with a high near 62. Light and variable...</td>\n",
       "    </tr>\n",
       "    <tr>\n",
       "      <th>4</th>\n",
       "      <td>MondayNight</td>\n",
       "      <td>Partly Cloudy</td>\n",
       "      <td>Low: 44 °F</td>\n",
       "      <td>Partly cloudy, with a low around 44. West sout...</td>\n",
       "    </tr>\n",
       "    <tr>\n",
       "      <th>5</th>\n",
       "      <td>Tuesday</td>\n",
       "      <td>Mostly Sunny</td>\n",
       "      <td>High: 64 °F</td>\n",
       "      <td>Mostly sunny, with a high near 64.</td>\n",
       "    </tr>\n",
       "    <tr>\n",
       "      <th>6</th>\n",
       "      <td>TuesdayNight</td>\n",
       "      <td>Partly Cloudy</td>\n",
       "      <td>Low: 45 °F</td>\n",
       "      <td>Partly cloudy, with a low around 45.</td>\n",
       "    </tr>\n",
       "    <tr>\n",
       "      <th>7</th>\n",
       "      <td>Wednesday</td>\n",
       "      <td>Sunny</td>\n",
       "      <td>High: 62 °F</td>\n",
       "      <td>Sunny, with a high near 62.</td>\n",
       "    </tr>\n",
       "    <tr>\n",
       "      <th>8</th>\n",
       "      <td>WednesdayNight</td>\n",
       "      <td>Mostly Clear</td>\n",
       "      <td>Low: 46 °F</td>\n",
       "      <td>Mostly clear, with a low around 46.</td>\n",
       "    </tr>\n",
       "  </tbody>\n",
       "</table>\n",
       "</div>"
      ],
      "text/plain": [
       "           period     short_desc         temp  \\\n",
       "0       Overnight   Mostly Clear   Low: 47 °F   \n",
       "1          Sunday          Sunny  High: 65 °F   \n",
       "2     SundayNight   Mostly Clear   Low: 45 °F   \n",
       "3          Monday          Sunny  High: 62 °F   \n",
       "4     MondayNight  Partly Cloudy   Low: 44 °F   \n",
       "5         Tuesday   Mostly Sunny  High: 64 °F   \n",
       "6    TuesdayNight  Partly Cloudy   Low: 45 °F   \n",
       "7       Wednesday          Sunny  High: 62 °F   \n",
       "8  WednesdayNight   Mostly Clear   Low: 46 °F   \n",
       "\n",
       "                                                desc  \n",
       "0  Mostly clear, with a low around 47. North wind...  \n",
       "1  Sunny, with a high near 65. North northeast wi...  \n",
       "2  Mostly clear, with a low around 45. West wind ...  \n",
       "3  Sunny, with a high near 62. Light and variable...  \n",
       "4  Partly cloudy, with a low around 44. West sout...  \n",
       "5                 Mostly sunny, with a high near 64.  \n",
       "6               Partly cloudy, with a low around 45.  \n",
       "7                        Sunny, with a high near 62.  \n",
       "8                Mostly clear, with a low around 46.  "
      ]
     },
     "execution_count": 10,
     "metadata": {},
     "output_type": "execute_result"
    }
   ],
   "source": [
    "weather"
   ]
  },
  {
   "cell_type": "code",
   "execution_count": 53,
   "metadata": {},
   "outputs": [],
   "source": [
    "# To store the dataframe as an excel\n",
    "\n",
    "weather.to_excel(\"weather_details.xlsx\" , header = True)"
   ]
  },
  {
   "cell_type": "code",
   "execution_count": 58,
   "metadata": {},
   "outputs": [
    {
     "data": {
      "text/plain": [
       "'C:\\\\Users\\\\hp'"
      ]
     },
     "execution_count": 58,
     "metadata": {},
     "output_type": "execute_result"
    }
   ],
   "source": [
    "import os\n",
    "os.getcwd()"
   ]
  }
 ],
 "metadata": {
  "kernelspec": {
   "display_name": "Python 3",
   "language": "python",
   "name": "python3"
  },
  "language_info": {
   "codemirror_mode": {
    "name": "ipython",
    "version": 3
   },
   "file_extension": ".py",
   "mimetype": "text/x-python",
   "name": "python",
   "nbconvert_exporter": "python",
   "pygments_lexer": "ipython3",
   "version": "3.7.4"
  }
 },
 "nbformat": 4,
 "nbformat_minor": 2
}
