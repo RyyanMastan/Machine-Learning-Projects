{
 "cells": [
  {
   "cell_type": "markdown",
   "metadata": {},
   "source": [
    "<h2>California Housing Price Prediction</h2>\n",
    "\n",
    "dataset source - https://www.kaggle.com/camnugent/california-housing-prices"
   ]
  },
  {
   "cell_type": "code",
   "execution_count": 1,
   "metadata": {},
   "outputs": [],
   "source": [
    "import numpy as np\n",
    "import pandas as pd\n",
    "import matplotlib.pyplot as plt\n",
    "%matplotlib inline"
   ]
  },
  {
   "cell_type": "code",
   "execution_count": 2,
   "metadata": {
    "scrolled": true
   },
   "outputs": [
    {
     "data": {
      "text/html": [
       "<div>\n",
       "<style scoped>\n",
       "    .dataframe tbody tr th:only-of-type {\n",
       "        vertical-align: middle;\n",
       "    }\n",
       "\n",
       "    .dataframe tbody tr th {\n",
       "        vertical-align: top;\n",
       "    }\n",
       "\n",
       "    .dataframe thead th {\n",
       "        text-align: right;\n",
       "    }\n",
       "</style>\n",
       "<table border=\"1\" class=\"dataframe\">\n",
       "  <thead>\n",
       "    <tr style=\"text-align: right;\">\n",
       "      <th></th>\n",
       "      <th>longitude</th>\n",
       "      <th>latitude</th>\n",
       "      <th>housing_median_age</th>\n",
       "      <th>total_rooms</th>\n",
       "      <th>total_bedrooms</th>\n",
       "      <th>population</th>\n",
       "      <th>households</th>\n",
       "      <th>median_income</th>\n",
       "      <th>median_house_value</th>\n",
       "      <th>ocean_proximity</th>\n",
       "    </tr>\n",
       "  </thead>\n",
       "  <tbody>\n",
       "    <tr>\n",
       "      <th>0</th>\n",
       "      <td>-122.23</td>\n",
       "      <td>37.88</td>\n",
       "      <td>41.0</td>\n",
       "      <td>880.0</td>\n",
       "      <td>129.0</td>\n",
       "      <td>322.0</td>\n",
       "      <td>126.0</td>\n",
       "      <td>8.3252</td>\n",
       "      <td>452600.0</td>\n",
       "      <td>NEAR BAY</td>\n",
       "    </tr>\n",
       "    <tr>\n",
       "      <th>1</th>\n",
       "      <td>-122.22</td>\n",
       "      <td>37.86</td>\n",
       "      <td>21.0</td>\n",
       "      <td>7099.0</td>\n",
       "      <td>1106.0</td>\n",
       "      <td>2401.0</td>\n",
       "      <td>1138.0</td>\n",
       "      <td>8.3014</td>\n",
       "      <td>358500.0</td>\n",
       "      <td>NEAR BAY</td>\n",
       "    </tr>\n",
       "    <tr>\n",
       "      <th>2</th>\n",
       "      <td>-122.24</td>\n",
       "      <td>37.85</td>\n",
       "      <td>52.0</td>\n",
       "      <td>1467.0</td>\n",
       "      <td>190.0</td>\n",
       "      <td>496.0</td>\n",
       "      <td>177.0</td>\n",
       "      <td>7.2574</td>\n",
       "      <td>352100.0</td>\n",
       "      <td>NEAR BAY</td>\n",
       "    </tr>\n",
       "    <tr>\n",
       "      <th>3</th>\n",
       "      <td>-122.25</td>\n",
       "      <td>37.85</td>\n",
       "      <td>52.0</td>\n",
       "      <td>1274.0</td>\n",
       "      <td>235.0</td>\n",
       "      <td>558.0</td>\n",
       "      <td>219.0</td>\n",
       "      <td>5.6431</td>\n",
       "      <td>341300.0</td>\n",
       "      <td>NEAR BAY</td>\n",
       "    </tr>\n",
       "    <tr>\n",
       "      <th>4</th>\n",
       "      <td>-122.25</td>\n",
       "      <td>37.85</td>\n",
       "      <td>52.0</td>\n",
       "      <td>1627.0</td>\n",
       "      <td>280.0</td>\n",
       "      <td>565.0</td>\n",
       "      <td>259.0</td>\n",
       "      <td>3.8462</td>\n",
       "      <td>342200.0</td>\n",
       "      <td>NEAR BAY</td>\n",
       "    </tr>\n",
       "  </tbody>\n",
       "</table>\n",
       "</div>"
      ],
      "text/plain": [
       "   longitude  latitude  housing_median_age  total_rooms  total_bedrooms  \\\n",
       "0    -122.23     37.88                41.0        880.0           129.0   \n",
       "1    -122.22     37.86                21.0       7099.0          1106.0   \n",
       "2    -122.24     37.85                52.0       1467.0           190.0   \n",
       "3    -122.25     37.85                52.0       1274.0           235.0   \n",
       "4    -122.25     37.85                52.0       1627.0           280.0   \n",
       "\n",
       "   population  households  median_income  median_house_value ocean_proximity  \n",
       "0       322.0       126.0         8.3252            452600.0        NEAR BAY  \n",
       "1      2401.0      1138.0         8.3014            358500.0        NEAR BAY  \n",
       "2       496.0       177.0         7.2574            352100.0        NEAR BAY  \n",
       "3       558.0       219.0         5.6431            341300.0        NEAR BAY  \n",
       "4       565.0       259.0         3.8462            342200.0        NEAR BAY  "
      ]
     },
     "execution_count": 2,
     "metadata": {},
     "output_type": "execute_result"
    }
   ],
   "source": [
    "housingDf = pd.read_csv(\"housing.csv\")\n",
    "housingDf.head()"
   ]
  },
  {
   "cell_type": "code",
   "execution_count": 3,
   "metadata": {},
   "outputs": [
    {
     "data": {
      "text/plain": [
       "(20640, 10)"
      ]
     },
     "execution_count": 3,
     "metadata": {},
     "output_type": "execute_result"
    }
   ],
   "source": [
    "housingDf.shape"
   ]
  },
  {
   "cell_type": "code",
   "execution_count": 4,
   "metadata": {},
   "outputs": [
    {
     "name": "stdout",
     "output_type": "stream",
     "text": [
      "<class 'pandas.core.frame.DataFrame'>\n",
      "RangeIndex: 20640 entries, 0 to 20639\n",
      "Data columns (total 10 columns):\n",
      " #   Column              Non-Null Count  Dtype  \n",
      "---  ------              --------------  -----  \n",
      " 0   longitude           20640 non-null  float64\n",
      " 1   latitude            20640 non-null  float64\n",
      " 2   housing_median_age  20640 non-null  float64\n",
      " 3   total_rooms         20640 non-null  float64\n",
      " 4   total_bedrooms      20433 non-null  float64\n",
      " 5   population          20640 non-null  float64\n",
      " 6   households          20640 non-null  float64\n",
      " 7   median_income       20640 non-null  float64\n",
      " 8   median_house_value  20640 non-null  float64\n",
      " 9   ocean_proximity     20640 non-null  object \n",
      "dtypes: float64(9), object(1)\n",
      "memory usage: 1.6+ MB\n"
     ]
    }
   ],
   "source": [
    "housingDf.info()"
   ]
  },
  {
   "cell_type": "code",
   "execution_count": 5,
   "metadata": {},
   "outputs": [
    {
     "data": {
      "text/plain": [
       "longitude               0\n",
       "latitude                0\n",
       "housing_median_age      0\n",
       "total_rooms             0\n",
       "total_bedrooms        207\n",
       "population              0\n",
       "households              0\n",
       "median_income           0\n",
       "median_house_value      0\n",
       "ocean_proximity         0\n",
       "dtype: int64"
      ]
     },
     "execution_count": 5,
     "metadata": {},
     "output_type": "execute_result"
    }
   ],
   "source": [
    "housingDf.isnull().sum()"
   ]
  },
  {
   "cell_type": "markdown",
   "metadata": {},
   "source": [
    "Only the \"total_bedrooms\" attribute has missing values i.e 207 missing values"
   ]
  },
  {
   "cell_type": "code",
   "execution_count": 6,
   "metadata": {},
   "outputs": [
    {
     "data": {
      "text/plain": [
       "<1H OCEAN     9136\n",
       "INLAND        6551\n",
       "NEAR OCEAN    2658\n",
       "NEAR BAY      2290\n",
       "ISLAND           5\n",
       "Name: ocean_proximity, dtype: int64"
      ]
     },
     "execution_count": 6,
     "metadata": {},
     "output_type": "execute_result"
    }
   ],
   "source": [
    "housingDf[\"ocean_proximity\"].value_counts()"
   ]
  },
  {
   "cell_type": "code",
   "execution_count": 7,
   "metadata": {},
   "outputs": [
    {
     "data": {
      "text/html": [
       "<div>\n",
       "<style scoped>\n",
       "    .dataframe tbody tr th:only-of-type {\n",
       "        vertical-align: middle;\n",
       "    }\n",
       "\n",
       "    .dataframe tbody tr th {\n",
       "        vertical-align: top;\n",
       "    }\n",
       "\n",
       "    .dataframe thead th {\n",
       "        text-align: right;\n",
       "    }\n",
       "</style>\n",
       "<table border=\"1\" class=\"dataframe\">\n",
       "  <thead>\n",
       "    <tr style=\"text-align: right;\">\n",
       "      <th></th>\n",
       "      <th>longitude</th>\n",
       "      <th>latitude</th>\n",
       "      <th>housing_median_age</th>\n",
       "      <th>total_rooms</th>\n",
       "      <th>total_bedrooms</th>\n",
       "      <th>population</th>\n",
       "      <th>households</th>\n",
       "      <th>median_income</th>\n",
       "      <th>median_house_value</th>\n",
       "    </tr>\n",
       "  </thead>\n",
       "  <tbody>\n",
       "    <tr>\n",
       "      <th>count</th>\n",
       "      <td>20640.000000</td>\n",
       "      <td>20640.000000</td>\n",
       "      <td>20640.000000</td>\n",
       "      <td>20640.000000</td>\n",
       "      <td>20433.000000</td>\n",
       "      <td>20640.000000</td>\n",
       "      <td>20640.000000</td>\n",
       "      <td>20640.000000</td>\n",
       "      <td>20640.000000</td>\n",
       "    </tr>\n",
       "    <tr>\n",
       "      <th>mean</th>\n",
       "      <td>-119.569704</td>\n",
       "      <td>35.631861</td>\n",
       "      <td>28.639486</td>\n",
       "      <td>2635.763081</td>\n",
       "      <td>537.870553</td>\n",
       "      <td>1425.476744</td>\n",
       "      <td>499.539680</td>\n",
       "      <td>3.870671</td>\n",
       "      <td>206855.816909</td>\n",
       "    </tr>\n",
       "    <tr>\n",
       "      <th>std</th>\n",
       "      <td>2.003532</td>\n",
       "      <td>2.135952</td>\n",
       "      <td>12.585558</td>\n",
       "      <td>2181.615252</td>\n",
       "      <td>421.385070</td>\n",
       "      <td>1132.462122</td>\n",
       "      <td>382.329753</td>\n",
       "      <td>1.899822</td>\n",
       "      <td>115395.615874</td>\n",
       "    </tr>\n",
       "    <tr>\n",
       "      <th>min</th>\n",
       "      <td>-124.350000</td>\n",
       "      <td>32.540000</td>\n",
       "      <td>1.000000</td>\n",
       "      <td>2.000000</td>\n",
       "      <td>1.000000</td>\n",
       "      <td>3.000000</td>\n",
       "      <td>1.000000</td>\n",
       "      <td>0.499900</td>\n",
       "      <td>14999.000000</td>\n",
       "    </tr>\n",
       "    <tr>\n",
       "      <th>25%</th>\n",
       "      <td>-121.800000</td>\n",
       "      <td>33.930000</td>\n",
       "      <td>18.000000</td>\n",
       "      <td>1447.750000</td>\n",
       "      <td>296.000000</td>\n",
       "      <td>787.000000</td>\n",
       "      <td>280.000000</td>\n",
       "      <td>2.563400</td>\n",
       "      <td>119600.000000</td>\n",
       "    </tr>\n",
       "    <tr>\n",
       "      <th>50%</th>\n",
       "      <td>-118.490000</td>\n",
       "      <td>34.260000</td>\n",
       "      <td>29.000000</td>\n",
       "      <td>2127.000000</td>\n",
       "      <td>435.000000</td>\n",
       "      <td>1166.000000</td>\n",
       "      <td>409.000000</td>\n",
       "      <td>3.534800</td>\n",
       "      <td>179700.000000</td>\n",
       "    </tr>\n",
       "    <tr>\n",
       "      <th>75%</th>\n",
       "      <td>-118.010000</td>\n",
       "      <td>37.710000</td>\n",
       "      <td>37.000000</td>\n",
       "      <td>3148.000000</td>\n",
       "      <td>647.000000</td>\n",
       "      <td>1725.000000</td>\n",
       "      <td>605.000000</td>\n",
       "      <td>4.743250</td>\n",
       "      <td>264725.000000</td>\n",
       "    </tr>\n",
       "    <tr>\n",
       "      <th>max</th>\n",
       "      <td>-114.310000</td>\n",
       "      <td>41.950000</td>\n",
       "      <td>52.000000</td>\n",
       "      <td>39320.000000</td>\n",
       "      <td>6445.000000</td>\n",
       "      <td>35682.000000</td>\n",
       "      <td>6082.000000</td>\n",
       "      <td>15.000100</td>\n",
       "      <td>500001.000000</td>\n",
       "    </tr>\n",
       "  </tbody>\n",
       "</table>\n",
       "</div>"
      ],
      "text/plain": [
       "          longitude      latitude  housing_median_age   total_rooms  \\\n",
       "count  20640.000000  20640.000000        20640.000000  20640.000000   \n",
       "mean    -119.569704     35.631861           28.639486   2635.763081   \n",
       "std        2.003532      2.135952           12.585558   2181.615252   \n",
       "min     -124.350000     32.540000            1.000000      2.000000   \n",
       "25%     -121.800000     33.930000           18.000000   1447.750000   \n",
       "50%     -118.490000     34.260000           29.000000   2127.000000   \n",
       "75%     -118.010000     37.710000           37.000000   3148.000000   \n",
       "max     -114.310000     41.950000           52.000000  39320.000000   \n",
       "\n",
       "       total_bedrooms    population    households  median_income  \\\n",
       "count    20433.000000  20640.000000  20640.000000   20640.000000   \n",
       "mean       537.870553   1425.476744    499.539680       3.870671   \n",
       "std        421.385070   1132.462122    382.329753       1.899822   \n",
       "min          1.000000      3.000000      1.000000       0.499900   \n",
       "25%        296.000000    787.000000    280.000000       2.563400   \n",
       "50%        435.000000   1166.000000    409.000000       3.534800   \n",
       "75%        647.000000   1725.000000    605.000000       4.743250   \n",
       "max       6445.000000  35682.000000   6082.000000      15.000100   \n",
       "\n",
       "       median_house_value  \n",
       "count        20640.000000  \n",
       "mean        206855.816909  \n",
       "std         115395.615874  \n",
       "min          14999.000000  \n",
       "25%         119600.000000  \n",
       "50%         179700.000000  \n",
       "75%         264725.000000  \n",
       "max         500001.000000  "
      ]
     },
     "execution_count": 7,
     "metadata": {},
     "output_type": "execute_result"
    }
   ],
   "source": [
    "housingDf.describe()"
   ]
  },
  {
   "cell_type": "code",
   "execution_count": 8,
   "metadata": {},
   "outputs": [
    {
     "data": {
      "image/png": "[encoded data removed]",
      "text/plain": [
       "<Figure size 1440x1080 with 9 Axes>"
      ]
     },
     "metadata": {
      "needs_background": "light"
     },
     "output_type": "display_data"
    }
   ],
   "source": [
    "housingDf.hist(bins=50, figsize=(20, 15))\n",
    "plt.show()"
   ]
  },
  {
   "cell_type": "code",
   "execution_count": 9,
   "metadata": {},
   "outputs": [
    {
     "data": {
      "text/plain": [
       "<matplotlib.axes._subplots.AxesSubplot at 0x1c3cacc1248>"
      ]
     },
     "execution_count": 9,
     "metadata": {},
     "output_type": "execute_result"
    },
    {
     "data": {
      "image/png": "[encoded data removed]",
      "text/plain": [
       "<Figure size 432x288 with 1 Axes>"
      ]
     },
     "metadata": {
      "needs_background": "light"
     },
     "output_type": "display_data"
    }
   ],
   "source": [
    "housingDf['median_income'].hist()"
   ]
  },
  {
   "cell_type": "code",
   "execution_count": 10,
   "metadata": {},
   "outputs": [],
   "source": [
    "# Creating 5 income categories \n",
    "\n",
    "housingDf['income_category'] = np.ceil(housingDf['median_income'] / 1.5)\n",
    "\n",
    "# Putiing all values more than 5th category in 5th category\n",
    "\n",
    "housingDf['income_category'].where(housingDf['income_category']<5 , other = 5.0 , inplace = True)"
   ]
  },
  {
   "cell_type": "code",
   "execution_count": 11,
   "metadata": {},
   "outputs": [
    {
     "data": {
      "text/html": [
       "<div>\n",
       "<style scoped>\n",
       "    .dataframe tbody tr th:only-of-type {\n",
       "        vertical-align: middle;\n",
       "    }\n",
       "\n",
       "    .dataframe tbody tr th {\n",
       "        vertical-align: top;\n",
       "    }\n",
       "\n",
       "    .dataframe thead th {\n",
       "        text-align: right;\n",
       "    }\n",
       "</style>\n",
       "<table border=\"1\" class=\"dataframe\">\n",
       "  <thead>\n",
       "    <tr style=\"text-align: right;\">\n",
       "      <th></th>\n",
       "      <th>longitude</th>\n",
       "      <th>latitude</th>\n",
       "      <th>housing_median_age</th>\n",
       "      <th>total_rooms</th>\n",
       "      <th>total_bedrooms</th>\n",
       "      <th>population</th>\n",
       "      <th>households</th>\n",
       "      <th>median_income</th>\n",
       "      <th>median_house_value</th>\n",
       "      <th>ocean_proximity</th>\n",
       "      <th>income_category</th>\n",
       "    </tr>\n",
       "  </thead>\n",
       "  <tbody>\n",
       "    <tr>\n",
       "      <th>0</th>\n",
       "      <td>-122.23</td>\n",
       "      <td>37.88</td>\n",
       "      <td>41.0</td>\n",
       "      <td>880.0</td>\n",
       "      <td>129.0</td>\n",
       "      <td>322.0</td>\n",
       "      <td>126.0</td>\n",
       "      <td>8.3252</td>\n",
       "      <td>452600.0</td>\n",
       "      <td>NEAR BAY</td>\n",
       "      <td>5.0</td>\n",
       "    </tr>\n",
       "    <tr>\n",
       "      <th>1</th>\n",
       "      <td>-122.22</td>\n",
       "      <td>37.86</td>\n",
       "      <td>21.0</td>\n",
       "      <td>7099.0</td>\n",
       "      <td>1106.0</td>\n",
       "      <td>2401.0</td>\n",
       "      <td>1138.0</td>\n",
       "      <td>8.3014</td>\n",
       "      <td>358500.0</td>\n",
       "      <td>NEAR BAY</td>\n",
       "      <td>5.0</td>\n",
       "    </tr>\n",
       "    <tr>\n",
       "      <th>2</th>\n",
       "      <td>-122.24</td>\n",
       "      <td>37.85</td>\n",
       "      <td>52.0</td>\n",
       "      <td>1467.0</td>\n",
       "      <td>190.0</td>\n",
       "      <td>496.0</td>\n",
       "      <td>177.0</td>\n",
       "      <td>7.2574</td>\n",
       "      <td>352100.0</td>\n",
       "      <td>NEAR BAY</td>\n",
       "      <td>5.0</td>\n",
       "    </tr>\n",
       "    <tr>\n",
       "      <th>3</th>\n",
       "      <td>-122.25</td>\n",
       "      <td>37.85</td>\n",
       "      <td>52.0</td>\n",
       "      <td>1274.0</td>\n",
       "      <td>235.0</td>\n",
       "      <td>558.0</td>\n",
       "      <td>219.0</td>\n",
       "      <td>5.6431</td>\n",
       "      <td>341300.0</td>\n",
       "      <td>NEAR BAY</td>\n",
       "      <td>4.0</td>\n",
       "    </tr>\n",
       "    <tr>\n",
       "      <th>4</th>\n",
       "      <td>-122.25</td>\n",
       "      <td>37.85</td>\n",
       "      <td>52.0</td>\n",
       "      <td>1627.0</td>\n",
       "      <td>280.0</td>\n",
       "      <td>565.0</td>\n",
       "      <td>259.0</td>\n",
       "      <td>3.8462</td>\n",
       "      <td>342200.0</td>\n",
       "      <td>NEAR BAY</td>\n",
       "      <td>3.0</td>\n",
       "    </tr>\n",
       "  </tbody>\n",
       "</table>\n",
       "</div>"
      ],
      "text/plain": [
       "   longitude  latitude  housing_median_age  total_rooms  total_bedrooms  \\\n",
       "0    -122.23     37.88                41.0        880.0           129.0   \n",
       "1    -122.22     37.86                21.0       7099.0          1106.0   \n",
       "2    -122.24     37.85                52.0       1467.0           190.0   \n",
       "3    -122.25     37.85                52.0       1274.0           235.0   \n",
       "4    -122.25     37.85                52.0       1627.0           280.0   \n",
       "\n",
       "   population  households  median_income  median_house_value ocean_proximity  \\\n",
       "0       322.0       126.0         8.3252            452600.0        NEAR BAY   \n",
       "1      2401.0      1138.0         8.3014            358500.0        NEAR BAY   \n",
       "2       496.0       177.0         7.2574            352100.0        NEAR BAY   \n",
       "3       558.0       219.0         5.6431            341300.0        NEAR BAY   \n",
       "4       565.0       259.0         3.8462            342200.0        NEAR BAY   \n",
       "\n",
       "   income_category  \n",
       "0              5.0  \n",
       "1              5.0  \n",
       "2              5.0  \n",
       "3              4.0  \n",
       "4              3.0  "
      ]
     },
     "execution_count": 11,
     "metadata": {},
     "output_type": "execute_result"
    }
   ],
   "source": [
    "housingDf.head()"
   ]
  },
  {
   "cell_type": "code",
   "execution_count": 12,
   "metadata": {},
   "outputs": [
    {
     "data": {
      "text/plain": [
       "3.0    7236\n",
       "2.0    6581\n",
       "4.0    3639\n",
       "5.0    2362\n",
       "1.0     822\n",
       "Name: income_category, dtype: int64"
      ]
     },
     "execution_count": 12,
     "metadata": {},
     "output_type": "execute_result"
    }
   ],
   "source": [
    "housingDf['income_category'].value_counts()"
   ]
  },
  {
   "cell_type": "code",
   "execution_count": 13,
   "metadata": {},
   "outputs": [],
   "source": [
    "from sklearn.model_selection import StratifiedShuffleSplit\n",
    "\n",
    "split = StratifiedShuffleSplit(n_splits=1, test_size=0.2, random_state=29)\n",
    "\n",
    "for train_index, test_index in split.split(housingDf, housingDf['income_category']):\n",
    "    strat_train_set = housingDf.loc[train_index]\n",
    "    strat_test_set = housingDf.loc[test_index]"
   ]
  },
  {
   "cell_type": "code",
   "execution_count": 14,
   "metadata": {},
   "outputs": [
    {
     "data": {
      "text/plain": [
       "3.0    0.350581\n",
       "2.0    0.318847\n",
       "4.0    0.176308\n",
       "5.0    0.114438\n",
       "1.0    0.039826\n",
       "Name: income_category, dtype: float64"
      ]
     },
     "execution_count": 14,
     "metadata": {},
     "output_type": "execute_result"
    }
   ],
   "source": [
    "# Checking the distribution after stratification\n",
    "\n",
    "housingDf[\"income_category\"].value_counts() / len(housingDf)"
   ]
  },
  {
   "cell_type": "code",
   "execution_count": 15,
   "metadata": {},
   "outputs": [
    {
     "data": {
      "text/plain": [
       "3.0    0.350533\n",
       "2.0    0.318798\n",
       "4.0    0.176357\n",
       "5.0    0.114583\n",
       "1.0    0.039729\n",
       "Name: income_category, dtype: float64"
      ]
     },
     "execution_count": 15,
     "metadata": {},
     "output_type": "execute_result"
    }
   ],
   "source": [
    "strat_test_set['income_category'].value_counts() / len(strat_test_set)"
   ]
  },
  {
   "cell_type": "code",
   "execution_count": 16,
   "metadata": {},
   "outputs": [],
   "source": [
    "# experimenting: with random sampling now\n",
    "\n",
    "from sklearn.model_selection import train_test_split\n",
    "\n",
    "train_set, test_set = train_test_split(housingDf, test_size=0.2, random_state=29)"
   ]
  },
  {
   "cell_type": "code",
   "execution_count": 17,
   "metadata": {},
   "outputs": [
    {
     "data": {
      "text/html": [
       "<div>\n",
       "<style scoped>\n",
       "    .dataframe tbody tr th:only-of-type {\n",
       "        vertical-align: middle;\n",
       "    }\n",
       "\n",
       "    .dataframe tbody tr th {\n",
       "        vertical-align: top;\n",
       "    }\n",
       "\n",
       "    .dataframe thead th {\n",
       "        text-align: right;\n",
       "    }\n",
       "</style>\n",
       "<table border=\"1\" class=\"dataframe\">\n",
       "  <thead>\n",
       "    <tr style=\"text-align: right;\">\n",
       "      <th></th>\n",
       "      <th>Original Dist</th>\n",
       "      <th>Random Sampling Dist</th>\n",
       "      <th>Stratified Sampling Dist</th>\n",
       "      <th>random %error</th>\n",
       "      <th>strat. %error</th>\n",
       "    </tr>\n",
       "  </thead>\n",
       "  <tbody>\n",
       "    <tr>\n",
       "      <th>1.0</th>\n",
       "      <td>0.039826</td>\n",
       "      <td>0.042636</td>\n",
       "      <td>0.039729</td>\n",
       "      <td>7.055961</td>\n",
       "      <td>-0.243309</td>\n",
       "    </tr>\n",
       "    <tr>\n",
       "      <th>2.0</th>\n",
       "      <td>0.318847</td>\n",
       "      <td>0.311531</td>\n",
       "      <td>0.318798</td>\n",
       "      <td>-2.294484</td>\n",
       "      <td>-0.015195</td>\n",
       "    </tr>\n",
       "    <tr>\n",
       "      <th>3.0</th>\n",
       "      <td>0.350581</td>\n",
       "      <td>0.344719</td>\n",
       "      <td>0.350533</td>\n",
       "      <td>-1.672195</td>\n",
       "      <td>-0.013820</td>\n",
       "    </tr>\n",
       "    <tr>\n",
       "      <th>4.0</th>\n",
       "      <td>0.176308</td>\n",
       "      <td>0.181686</td>\n",
       "      <td>0.176357</td>\n",
       "      <td>3.050289</td>\n",
       "      <td>0.027480</td>\n",
       "    </tr>\n",
       "    <tr>\n",
       "      <th>5.0</th>\n",
       "      <td>0.114438</td>\n",
       "      <td>0.119428</td>\n",
       "      <td>0.114583</td>\n",
       "      <td>4.360711</td>\n",
       "      <td>0.127011</td>\n",
       "    </tr>\n",
       "  </tbody>\n",
       "</table>\n",
       "</div>"
      ],
      "text/plain": [
       "     Original Dist  Random Sampling Dist  Stratified Sampling Dist  \\\n",
       "1.0       0.039826              0.042636                  0.039729   \n",
       "2.0       0.318847              0.311531                  0.318798   \n",
       "3.0       0.350581              0.344719                  0.350533   \n",
       "4.0       0.176308              0.181686                  0.176357   \n",
       "5.0       0.114438              0.119428                  0.114583   \n",
       "\n",
       "     random %error  strat. %error  \n",
       "1.0       7.055961      -0.243309  \n",
       "2.0      -2.294484      -0.015195  \n",
       "3.0      -1.672195      -0.013820  \n",
       "4.0       3.050289       0.027480  \n",
       "5.0       4.360711       0.127011  "
      ]
     },
     "execution_count": 17,
     "metadata": {},
     "output_type": "execute_result"
    }
   ],
   "source": [
    "# Function for comparing the random samples and stratified samples distribution\n",
    "\n",
    "def income_category_dist (dataframe):\n",
    "    return dataframe['income_category'].value_counts() / len(dataframe)\n",
    "\n",
    "Dist_Compare = pd.DataFrame ({\n",
    "    \n",
    "    \"Original Dist\" : income_category_dist(housingDf),\n",
    "    \"Random Sampling Dist\" : income_category_dist(test_set),\n",
    "    \"Stratified Sampling Dist\" : income_category_dist(strat_test_set)\n",
    "}).sort_index()\n",
    "\n",
    "Dist_Compare[\"random %error\"] = 100 * Dist_Compare[\"Random Sampling Dist\"] / Dist_Compare[\"Original Dist\"] - 100\n",
    "Dist_Compare[\"strat. %error\"] = 100 * Dist_Compare[\"Stratified Sampling Dist\"] / Dist_Compare[\"Original Dist\"] - 100\n",
    "\n",
    "Dist_Compare"
   ]
  },
  {
   "cell_type": "code",
   "execution_count": 18,
   "metadata": {},
   "outputs": [],
   "source": [
    "for items in (strat_train_set, strat_test_set):\n",
    "    items.drop(\"income_category\", axis=1, inplace=True)"
   ]
  },
  {
   "cell_type": "code",
   "execution_count": 19,
   "metadata": {},
   "outputs": [],
   "source": [
    "housingDf = strat_train_set.copy()"
   ]
  },
  {
   "cell_type": "code",
   "execution_count": 20,
   "metadata": {
    "scrolled": false
   },
   "outputs": [
    {
     "data": {
      "text/plain": [
       "<matplotlib.legend.Legend at 0x1c3caf45c88>"
      ]
     },
     "execution_count": 20,
     "metadata": {},
     "output_type": "execute_result"
    },
    {
     "data": {
      "image/png": "[encoded data removed]",
      "text/plain": [
       "<Figure size 864x576 with 2 Axes>"
      ]
     },
     "metadata": {
      "needs_background": "light"
     },
     "output_type": "display_data"
    }
   ],
   "source": [
    "housingDf.plot(kind = \"scatter\" , x = \"longitude\" , y = \"latitude\" , alpha = 0.4,\n",
    "              s = housingDf[\"population\"]/100 , label = \"Population\",figsize = (12,8),\n",
    "              c = \"median_house_value\" , cmap = plt.get_cmap(\"jet\") , sharex = False)\n",
    "plt.legend()"
   ]
  },
  {
   "cell_type": "code",
   "execution_count": 21,
   "metadata": {},
   "outputs": [],
   "source": [
    "# Visualization on the actual map of California ."
   ]
  },
  {
   "cell_type": "code",
   "execution_count": 22,
   "metadata": {},
   "outputs": [],
   "source": [
    "import matplotlib.image as mpimg"
   ]
  },
  {
   "cell_type": "code",
   "execution_count": 23,
   "metadata": {
    "scrolled": false
   },
   "outputs": [
    {
     "data": {
      "image/png": "[encoded data removed]",
      "text/plain": [
       "<Figure size 864x576 with 2 Axes>"
      ]
     },
     "metadata": {
      "needs_background": "light"
     },
     "output_type": "display_data"
    }
   ],
   "source": [
    "a = housingDf.plot(kind = \"scatter\" , x = \"longitude\" , y = \"latitude\" , alpha = 0.4,\n",
    "              s = housingDf[\"population\"]/100 , label = \"Population\",figsize = (12,8),\n",
    "              c = \"median_house_value\" , cmap = plt.get_cmap(\"jet\") , sharex = False)\n",
    "\n",
    "img = mpimg.imread(\"California_blank_map.png\")\n",
    "\n",
    "plt.imshow(img , extent=[-124.55, -113.8, 32.45, 42.05], alpha=0.5, cmap=plt.get_cmap(\"jet\"))\n",
    "\n",
    "plt.xlabel(\"Longitude\", fontsize=14)\n",
    "plt.ylabel(\"Latitude\", fontsize=14)\n",
    "\n",
    "plt.legend(fontsize=14)\n",
    "plt.show()"
   ]
  },
  {
   "cell_type": "markdown",
   "metadata": {},
   "source": [
    "<h2>Looking for Correlations</h2>\n",
    "\n",
    "(Pearson's Distance Correlation equation)"
   ]
  },
  {
   "cell_type": "code",
   "execution_count": 24,
   "metadata": {},
   "outputs": [
    {
     "data": {
      "text/plain": [
       "median_house_value    1.000000\n",
       "median_income         0.691071\n",
       "total_rooms           0.127306\n",
       "housing_median_age    0.108483\n",
       "households            0.060084\n",
       "total_bedrooms        0.043921\n",
       "population           -0.028341\n",
       "longitude            -0.043780\n",
       "latitude             -0.146422\n",
       "Name: median_house_value, dtype: float64"
      ]
     },
     "execution_count": 24,
     "metadata": {},
     "output_type": "execute_result"
    }
   ],
   "source": [
    "corr_matrix = housingDf.corr()\n",
    "\n",
    "corr_matrix['median_house_value'].sort_values(ascending = False)"
   ]
  },
  {
   "cell_type": "markdown",
   "metadata": {},
   "source": [
    "## Creating custom features"
   ]
  },
  {
   "cell_type": "code",
   "execution_count": 25,
   "metadata": {},
   "outputs": [
    {
     "data": {
      "text/html": [
       "<div>\n",
       "<style scoped>\n",
       "    .dataframe tbody tr th:only-of-type {\n",
       "        vertical-align: middle;\n",
       "    }\n",
       "\n",
       "    .dataframe tbody tr th {\n",
       "        vertical-align: top;\n",
       "    }\n",
       "\n",
       "    .dataframe thead th {\n",
       "        text-align: right;\n",
       "    }\n",
       "</style>\n",
       "<table border=\"1\" class=\"dataframe\">\n",
       "  <thead>\n",
       "    <tr style=\"text-align: right;\">\n",
       "      <th></th>\n",
       "      <th>longitude</th>\n",
       "      <th>latitude</th>\n",
       "      <th>housing_median_age</th>\n",
       "      <th>total_rooms</th>\n",
       "      <th>total_bedrooms</th>\n",
       "      <th>population</th>\n",
       "      <th>households</th>\n",
       "      <th>median_income</th>\n",
       "      <th>median_house_value</th>\n",
       "      <th>ocean_proximity</th>\n",
       "    </tr>\n",
       "  </thead>\n",
       "  <tbody>\n",
       "    <tr>\n",
       "      <th>7771</th>\n",
       "      <td>-118.09</td>\n",
       "      <td>33.92</td>\n",
       "      <td>35.0</td>\n",
       "      <td>1994.0</td>\n",
       "      <td>419.0</td>\n",
       "      <td>1491.0</td>\n",
       "      <td>428.0</td>\n",
       "      <td>3.7383</td>\n",
       "      <td>166200.0</td>\n",
       "      <td>&lt;1H OCEAN</td>\n",
       "    </tr>\n",
       "    <tr>\n",
       "      <th>9352</th>\n",
       "      <td>-122.57</td>\n",
       "      <td>37.96</td>\n",
       "      <td>52.0</td>\n",
       "      <td>3458.0</td>\n",
       "      <td>468.0</td>\n",
       "      <td>1449.0</td>\n",
       "      <td>471.0</td>\n",
       "      <td>9.1834</td>\n",
       "      <td>500001.0</td>\n",
       "      <td>NEAR BAY</td>\n",
       "    </tr>\n",
       "    <tr>\n",
       "      <th>18657</th>\n",
       "      <td>-121.96</td>\n",
       "      <td>36.97</td>\n",
       "      <td>23.0</td>\n",
       "      <td>4324.0</td>\n",
       "      <td>1034.0</td>\n",
       "      <td>1844.0</td>\n",
       "      <td>875.0</td>\n",
       "      <td>3.0777</td>\n",
       "      <td>263800.0</td>\n",
       "      <td>NEAR OCEAN</td>\n",
       "    </tr>\n",
       "    <tr>\n",
       "      <th>4873</th>\n",
       "      <td>-118.28</td>\n",
       "      <td>34.02</td>\n",
       "      <td>52.0</td>\n",
       "      <td>281.0</td>\n",
       "      <td>103.0</td>\n",
       "      <td>470.0</td>\n",
       "      <td>96.0</td>\n",
       "      <td>1.9375</td>\n",
       "      <td>38800.0</td>\n",
       "      <td>&lt;1H OCEAN</td>\n",
       "    </tr>\n",
       "    <tr>\n",
       "      <th>12350</th>\n",
       "      <td>-116.50</td>\n",
       "      <td>33.81</td>\n",
       "      <td>26.0</td>\n",
       "      <td>5032.0</td>\n",
       "      <td>1229.0</td>\n",
       "      <td>3086.0</td>\n",
       "      <td>1183.0</td>\n",
       "      <td>2.5399</td>\n",
       "      <td>94800.0</td>\n",
       "      <td>INLAND</td>\n",
       "    </tr>\n",
       "  </tbody>\n",
       "</table>\n",
       "</div>"
      ],
      "text/plain": [
       "       longitude  latitude  housing_median_age  total_rooms  total_bedrooms  \\\n",
       "7771     -118.09     33.92                35.0       1994.0           419.0   \n",
       "9352     -122.57     37.96                52.0       3458.0           468.0   \n",
       "18657    -121.96     36.97                23.0       4324.0          1034.0   \n",
       "4873     -118.28     34.02                52.0        281.0           103.0   \n",
       "12350    -116.50     33.81                26.0       5032.0          1229.0   \n",
       "\n",
       "       population  households  median_income  median_house_value  \\\n",
       "7771       1491.0       428.0         3.7383            166200.0   \n",
       "9352       1449.0       471.0         9.1834            500001.0   \n",
       "18657      1844.0       875.0         3.0777            263800.0   \n",
       "4873        470.0        96.0         1.9375             38800.0   \n",
       "12350      3086.0      1183.0         2.5399             94800.0   \n",
       "\n",
       "      ocean_proximity  \n",
       "7771        <1H OCEAN  \n",
       "9352         NEAR BAY  \n",
       "18657      NEAR OCEAN  \n",
       "4873        <1H OCEAN  \n",
       "12350          INLAND  "
      ]
     },
     "execution_count": 25,
     "metadata": {},
     "output_type": "execute_result"
    }
   ],
   "source": [
    "housingDf.head()"
   ]
  },
  {
   "cell_type": "code",
   "execution_count": 26,
   "metadata": {},
   "outputs": [],
   "source": [
    "housingDf[\"bedrooms_per_room\"] = housingDf[\"total_bedrooms\"] / housingDf[\"total_rooms\"]\n",
    "housingDf[\"population_per_household\"] = housingDf[\"population\"] / housingDf[\"households\"]\n",
    "housingDf[\"rooms_per_household\"] = housingDf[\"total_rooms\"]/housingDf[\"households\"]"
   ]
  },
  {
   "cell_type": "code",
   "execution_count": 27,
   "metadata": {},
   "outputs": [
    {
     "data": {
      "text/plain": [
       "median_house_value          1.000000\n",
       "median_income               0.691071\n",
       "rooms_per_household         0.151804\n",
       "total_rooms                 0.127306\n",
       "housing_median_age          0.108483\n",
       "households                  0.060084\n",
       "total_bedrooms              0.043921\n",
       "population_per_household   -0.021688\n",
       "population                 -0.028341\n",
       "longitude                  -0.043780\n",
       "latitude                   -0.146422\n",
       "bedrooms_per_room          -0.253572\n",
       "Name: median_house_value, dtype: float64"
      ]
     },
     "execution_count": 27,
     "metadata": {},
     "output_type": "execute_result"
    }
   ],
   "source": [
    "corr_matrix = housingDf.corr()\n",
    "\n",
    "corr_matrix['median_house_value'].sort_values(ascending = False)"
   ]
  },
  {
   "cell_type": "markdown",
   "metadata": {},
   "source": [
    "The \"bedrooms_per_room \" attribute is inversely correlated to the \"median_house_value \" . Therefore the less the number of bed rooms to room ratio , the more the price ."
   ]
  },
  {
   "cell_type": "code",
   "execution_count": 28,
   "metadata": {},
   "outputs": [
    {
     "data": {
      "image/png": "[encoded data removed]",
      "text/plain": [
       "<Figure size 432x288 with 1 Axes>"
      ]
     },
     "metadata": {
      "needs_background": "light"
     },
     "output_type": "display_data"
    }
   ],
   "source": [
    "housingDf.plot(kind=\"scatter\", x=\"rooms_per_household\", y=\"median_house_value\", alpha=0.2)\n",
    "plt.axis([0, 5, 0, 520000])\n",
    "plt.show()"
   ]
  },
  {
   "cell_type": "code",
   "execution_count": 29,
   "metadata": {},
   "outputs": [
    {
     "data": {
      "text/html": [
       "<div>\n",
       "<style scoped>\n",
       "    .dataframe tbody tr th:only-of-type {\n",
       "        vertical-align: middle;\n",
       "    }\n",
       "\n",
       "    .dataframe tbody tr th {\n",
       "        vertical-align: top;\n",
       "    }\n",
       "\n",
       "    .dataframe thead th {\n",
       "        text-align: right;\n",
       "    }\n",
       "</style>\n",
       "<table border=\"1\" class=\"dataframe\">\n",
       "  <thead>\n",
       "    <tr style=\"text-align: right;\">\n",
       "      <th></th>\n",
       "      <th>longitude</th>\n",
       "      <th>latitude</th>\n",
       "      <th>housing_median_age</th>\n",
       "      <th>total_rooms</th>\n",
       "      <th>total_bedrooms</th>\n",
       "      <th>population</th>\n",
       "      <th>households</th>\n",
       "      <th>median_income</th>\n",
       "      <th>median_house_value</th>\n",
       "      <th>bedrooms_per_room</th>\n",
       "      <th>population_per_household</th>\n",
       "      <th>rooms_per_household</th>\n",
       "    </tr>\n",
       "  </thead>\n",
       "  <tbody>\n",
       "    <tr>\n",
       "      <th>count</th>\n",
       "      <td>16512.000000</td>\n",
       "      <td>16512.000000</td>\n",
       "      <td>16512.000000</td>\n",
       "      <td>16512.000000</td>\n",
       "      <td>16349.000000</td>\n",
       "      <td>16512.000000</td>\n",
       "      <td>16512.000000</td>\n",
       "      <td>16512.000000</td>\n",
       "      <td>16512.000000</td>\n",
       "      <td>16349.000000</td>\n",
       "      <td>16512.000000</td>\n",
       "      <td>16512.000000</td>\n",
       "    </tr>\n",
       "    <tr>\n",
       "      <th>mean</th>\n",
       "      <td>-119.574691</td>\n",
       "      <td>35.642798</td>\n",
       "      <td>28.655220</td>\n",
       "      <td>2622.124879</td>\n",
       "      <td>535.192672</td>\n",
       "      <td>1418.447372</td>\n",
       "      <td>496.865492</td>\n",
       "      <td>3.870355</td>\n",
       "      <td>206418.759872</td>\n",
       "      <td>0.212973</td>\n",
       "      <td>3.103875</td>\n",
       "      <td>5.434516</td>\n",
       "    </tr>\n",
       "    <tr>\n",
       "      <th>std</th>\n",
       "      <td>2.005064</td>\n",
       "      <td>2.142773</td>\n",
       "      <td>12.535491</td>\n",
       "      <td>2171.310387</td>\n",
       "      <td>421.124910</td>\n",
       "      <td>1137.484934</td>\n",
       "      <td>382.194550</td>\n",
       "      <td>1.903633</td>\n",
       "      <td>115088.961605</td>\n",
       "      <td>0.058323</td>\n",
       "      <td>11.603193</td>\n",
       "      <td>2.520743</td>\n",
       "    </tr>\n",
       "    <tr>\n",
       "      <th>min</th>\n",
       "      <td>-124.350000</td>\n",
       "      <td>32.540000</td>\n",
       "      <td>1.000000</td>\n",
       "      <td>2.000000</td>\n",
       "      <td>1.000000</td>\n",
       "      <td>3.000000</td>\n",
       "      <td>1.000000</td>\n",
       "      <td>0.499900</td>\n",
       "      <td>14999.000000</td>\n",
       "      <td>0.100000</td>\n",
       "      <td>0.692308</td>\n",
       "      <td>0.846154</td>\n",
       "    </tr>\n",
       "    <tr>\n",
       "      <th>25%</th>\n",
       "      <td>-121.800000</td>\n",
       "      <td>33.930000</td>\n",
       "      <td>18.000000</td>\n",
       "      <td>1446.000000</td>\n",
       "      <td>295.000000</td>\n",
       "      <td>785.000000</td>\n",
       "      <td>279.000000</td>\n",
       "      <td>2.559725</td>\n",
       "      <td>119175.000000</td>\n",
       "      <td>0.175448</td>\n",
       "      <td>2.433980</td>\n",
       "      <td>4.443478</td>\n",
       "    </tr>\n",
       "    <tr>\n",
       "      <th>50%</th>\n",
       "      <td>-118.500000</td>\n",
       "      <td>34.260000</td>\n",
       "      <td>29.000000</td>\n",
       "      <td>2123.000000</td>\n",
       "      <td>433.000000</td>\n",
       "      <td>1159.000000</td>\n",
       "      <td>407.000000</td>\n",
       "      <td>3.532750</td>\n",
       "      <td>179650.000000</td>\n",
       "      <td>0.202964</td>\n",
       "      <td>2.817596</td>\n",
       "      <td>5.230221</td>\n",
       "    </tr>\n",
       "    <tr>\n",
       "      <th>75%</th>\n",
       "      <td>-118.010000</td>\n",
       "      <td>37.720000</td>\n",
       "      <td>37.000000</td>\n",
       "      <td>3121.250000</td>\n",
       "      <td>641.000000</td>\n",
       "      <td>1715.000000</td>\n",
       "      <td>599.000000</td>\n",
       "      <td>4.739375</td>\n",
       "      <td>264700.000000</td>\n",
       "      <td>0.239351</td>\n",
       "      <td>3.273248</td>\n",
       "      <td>6.056361</td>\n",
       "    </tr>\n",
       "    <tr>\n",
       "      <th>max</th>\n",
       "      <td>-114.310000</td>\n",
       "      <td>41.950000</td>\n",
       "      <td>52.000000</td>\n",
       "      <td>39320.000000</td>\n",
       "      <td>6445.000000</td>\n",
       "      <td>35682.000000</td>\n",
       "      <td>6082.000000</td>\n",
       "      <td>15.000100</td>\n",
       "      <td>500001.000000</td>\n",
       "      <td>1.000000</td>\n",
       "      <td>1243.333333</td>\n",
       "      <td>141.909091</td>\n",
       "    </tr>\n",
       "  </tbody>\n",
       "</table>\n",
       "</div>"
      ],
      "text/plain": [
       "          longitude      latitude  housing_median_age   total_rooms  \\\n",
       "count  16512.000000  16512.000000        16512.000000  16512.000000   \n",
       "mean    -119.574691     35.642798           28.655220   2622.124879   \n",
       "std        2.005064      2.142773           12.535491   2171.310387   \n",
       "min     -124.350000     32.540000            1.000000      2.000000   \n",
       "25%     -121.800000     33.930000           18.000000   1446.000000   \n",
       "50%     -118.500000     34.260000           29.000000   2123.000000   \n",
       "75%     -118.010000     37.720000           37.000000   3121.250000   \n",
       "max     -114.310000     41.950000           52.000000  39320.000000   \n",
       "\n",
       "       total_bedrooms    population    households  median_income  \\\n",
       "count    16349.000000  16512.000000  16512.000000   16512.000000   \n",
       "mean       535.192672   1418.447372    496.865492       3.870355   \n",
       "std        421.124910   1137.484934    382.194550       1.903633   \n",
       "min          1.000000      3.000000      1.000000       0.499900   \n",
       "25%        295.000000    785.000000    279.000000       2.559725   \n",
       "50%        433.000000   1159.000000    407.000000       3.532750   \n",
       "75%        641.000000   1715.000000    599.000000       4.739375   \n",
       "max       6445.000000  35682.000000   6082.000000      15.000100   \n",
       "\n",
       "       median_house_value  bedrooms_per_room  population_per_household  \\\n",
       "count        16512.000000       16349.000000              16512.000000   \n",
       "mean        206418.759872           0.212973                  3.103875   \n",
       "std         115088.961605           0.058323                 11.603193   \n",
       "min          14999.000000           0.100000                  0.692308   \n",
       "25%         119175.000000           0.175448                  2.433980   \n",
       "50%         179650.000000           0.202964                  2.817596   \n",
       "75%         264700.000000           0.239351                  3.273248   \n",
       "max         500001.000000           1.000000               1243.333333   \n",
       "\n",
       "       rooms_per_household  \n",
       "count         16512.000000  \n",
       "mean              5.434516  \n",
       "std               2.520743  \n",
       "min               0.846154  \n",
       "25%               4.443478  \n",
       "50%               5.230221  \n",
       "75%               6.056361  \n",
       "max             141.909091  "
      ]
     },
     "execution_count": 29,
     "metadata": {},
     "output_type": "execute_result"
    }
   ],
   "source": [
    "housingDf.describe()"
   ]
  },
  {
   "cell_type": "markdown",
   "metadata": {},
   "source": [
    "## Preparing data for Machine Learning Algorithims"
   ]
  },
  {
   "cell_type": "code",
   "execution_count": 30,
   "metadata": {},
   "outputs": [],
   "source": [
    "housing = strat_train_set.drop(\"median_house_value\", axis=1)\n",
    "housing_labels = strat_train_set[\"median_house_value\"].copy()"
   ]
  },
  {
   "cell_type": "code",
   "execution_count": 31,
   "metadata": {},
   "outputs": [
    {
     "data": {
      "text/plain": [
       "longitude               0\n",
       "latitude                0\n",
       "housing_median_age      0\n",
       "total_rooms             0\n",
       "total_bedrooms        163\n",
       "population              0\n",
       "households              0\n",
       "median_income           0\n",
       "ocean_proximity         0\n",
       "dtype: int64"
      ]
     },
     "execution_count": 31,
     "metadata": {},
     "output_type": "execute_result"
    }
   ],
   "source": [
    "housing.isnull().sum()"
   ]
  },
  {
   "cell_type": "code",
   "execution_count": 32,
   "metadata": {},
   "outputs": [
    {
     "data": {
      "text/html": [
       "<div>\n",
       "<style scoped>\n",
       "    .dataframe tbody tr th:only-of-type {\n",
       "        vertical-align: middle;\n",
       "    }\n",
       "\n",
       "    .dataframe tbody tr th {\n",
       "        vertical-align: top;\n",
       "    }\n",
       "\n",
       "    .dataframe thead th {\n",
       "        text-align: right;\n",
       "    }\n",
       "</style>\n",
       "<table border=\"1\" class=\"dataframe\">\n",
       "  <thead>\n",
       "    <tr style=\"text-align: right;\">\n",
       "      <th></th>\n",
       "      <th>longitude</th>\n",
       "      <th>latitude</th>\n",
       "      <th>housing_median_age</th>\n",
       "      <th>total_rooms</th>\n",
       "      <th>total_bedrooms</th>\n",
       "      <th>population</th>\n",
       "      <th>households</th>\n",
       "      <th>median_income</th>\n",
       "      <th>ocean_proximity</th>\n",
       "    </tr>\n",
       "  </thead>\n",
       "  <tbody>\n",
       "    <tr>\n",
       "      <th>5654</th>\n",
       "      <td>-118.30</td>\n",
       "      <td>33.73</td>\n",
       "      <td>42.0</td>\n",
       "      <td>1731.0</td>\n",
       "      <td>433.0</td>\n",
       "      <td>866.0</td>\n",
       "      <td>403.0</td>\n",
       "      <td>2.7451</td>\n",
       "      <td>NEAR OCEAN</td>\n",
       "    </tr>\n",
       "    <tr>\n",
       "      <th>14930</th>\n",
       "      <td>-117.02</td>\n",
       "      <td>32.66</td>\n",
       "      <td>19.0</td>\n",
       "      <td>771.0</td>\n",
       "      <td>433.0</td>\n",
       "      <td>376.0</td>\n",
       "      <td>108.0</td>\n",
       "      <td>6.6272</td>\n",
       "      <td>NEAR OCEAN</td>\n",
       "    </tr>\n",
       "    <tr>\n",
       "      <th>9814</th>\n",
       "      <td>-121.93</td>\n",
       "      <td>36.62</td>\n",
       "      <td>34.0</td>\n",
       "      <td>2351.0</td>\n",
       "      <td>433.0</td>\n",
       "      <td>1063.0</td>\n",
       "      <td>428.0</td>\n",
       "      <td>3.7250</td>\n",
       "      <td>NEAR OCEAN</td>\n",
       "    </tr>\n",
       "    <tr>\n",
       "      <th>14986</th>\n",
       "      <td>-117.03</td>\n",
       "      <td>32.73</td>\n",
       "      <td>34.0</td>\n",
       "      <td>2061.0</td>\n",
       "      <td>433.0</td>\n",
       "      <td>1169.0</td>\n",
       "      <td>400.0</td>\n",
       "      <td>3.5096</td>\n",
       "      <td>NEAR OCEAN</td>\n",
       "    </tr>\n",
       "    <tr>\n",
       "      <th>4767</th>\n",
       "      <td>-118.37</td>\n",
       "      <td>34.03</td>\n",
       "      <td>37.0</td>\n",
       "      <td>1236.0</td>\n",
       "      <td>433.0</td>\n",
       "      <td>966.0</td>\n",
       "      <td>292.0</td>\n",
       "      <td>3.0694</td>\n",
       "      <td>&lt;1H OCEAN</td>\n",
       "    </tr>\n",
       "  </tbody>\n",
       "</table>\n",
       "</div>"
      ],
      "text/plain": [
       "       longitude  latitude  housing_median_age  total_rooms  total_bedrooms  \\\n",
       "5654     -118.30     33.73                42.0       1731.0           433.0   \n",
       "14930    -117.02     32.66                19.0        771.0           433.0   \n",
       "9814     -121.93     36.62                34.0       2351.0           433.0   \n",
       "14986    -117.03     32.73                34.0       2061.0           433.0   \n",
       "4767     -118.37     34.03                37.0       1236.0           433.0   \n",
       "\n",
       "       population  households  median_income ocean_proximity  \n",
       "5654        866.0       403.0         2.7451      NEAR OCEAN  \n",
       "14930       376.0       108.0         6.6272      NEAR OCEAN  \n",
       "9814       1063.0       428.0         3.7250      NEAR OCEAN  \n",
       "14986      1169.0       400.0         3.5096      NEAR OCEAN  \n",
       "4767        966.0       292.0         3.0694       <1H OCEAN  "
      ]
     },
     "execution_count": 32,
     "metadata": {},
     "output_type": "execute_result"
    }
   ],
   "source": [
    "# Handling missing values using custom imputer \n",
    "\n",
    "sample_incomplete_rows = housing[housing.isnull().any(axis = 1)].head()\n",
    "median = housing[\"total_bedrooms\"].median()\n",
    "sample_incomplete_rows[\"total_bedrooms\"].fillna(median , inplace = True)\n",
    "sample_incomplete_rows"
   ]
  },
  {
   "cell_type": "code",
   "execution_count": 33,
   "metadata": {},
   "outputs": [
    {
     "data": {
      "text/plain": [
       "longitude             0\n",
       "latitude              0\n",
       "housing_median_age    0\n",
       "total_rooms           0\n",
       "total_bedrooms        0\n",
       "population            0\n",
       "households            0\n",
       "median_income         0\n",
       "ocean_proximity       0\n",
       "dtype: int64"
      ]
     },
     "execution_count": 33,
     "metadata": {},
     "output_type": "execute_result"
    }
   ],
   "source": [
    "sample_incomplete_rows.isnull().sum()"
   ]
  },
  {
   "cell_type": "code",
   "execution_count": 34,
   "metadata": {},
   "outputs": [],
   "source": [
    "# Handling missing values using Scikit Learns Imputer \n",
    "\n",
    "from sklearn.impute import SimpleImputer\n",
    "\n",
    "Imputer = SimpleImputer(strategy=\"median\")"
   ]
  },
  {
   "cell_type": "code",
   "execution_count": 35,
   "metadata": {},
   "outputs": [
    {
     "data": {
      "text/plain": [
       "SimpleImputer(add_indicator=False, copy=True, fill_value=None,\n",
       "              missing_values=nan, strategy='median', verbose=0)"
      ]
     },
     "execution_count": 35,
     "metadata": {},
     "output_type": "execute_result"
    }
   ],
   "source": [
    "housing_num = housing.drop(\"ocean_proximity\", axis=1)\n",
    "\n",
    "Imputer.fit(housing_num)"
   ]
  },
  {
   "cell_type": "code",
   "execution_count": 36,
   "metadata": {},
   "outputs": [
    {
     "data": {
      "text/plain": [
       "array([-118.5    ,   34.26   ,   29.     , 2123.     ,  433.     ,\n",
       "       1159.     ,  407.     ,    3.53275])"
      ]
     },
     "execution_count": 36,
     "metadata": {},
     "output_type": "execute_result"
    }
   ],
   "source": [
    "Imputer.statistics_"
   ]
  },
  {
   "cell_type": "code",
   "execution_count": 37,
   "metadata": {},
   "outputs": [
    {
     "data": {
      "text/plain": [
       "array([-118.5    ,   34.26   ,   29.     , 2123.     ,  433.     ,\n",
       "       1159.     ,  407.     ,    3.53275])"
      ]
     },
     "execution_count": 37,
     "metadata": {},
     "output_type": "execute_result"
    }
   ],
   "source": [
    "housing_num.median().values"
   ]
  },
  {
   "cell_type": "code",
   "execution_count": 38,
   "metadata": {},
   "outputs": [],
   "source": [
    "X = Imputer.transform(housing_num)"
   ]
  },
  {
   "cell_type": "code",
   "execution_count": 39,
   "metadata": {},
   "outputs": [],
   "source": [
    "Housing_Transformed = pd.DataFrame(X , columns = housing_num.columns)"
   ]
  },
  {
   "cell_type": "code",
   "execution_count": 40,
   "metadata": {},
   "outputs": [
    {
     "data": {
      "text/plain": [
       "longitude             0\n",
       "latitude              0\n",
       "housing_median_age    0\n",
       "total_rooms           0\n",
       "total_bedrooms        0\n",
       "population            0\n",
       "households            0\n",
       "median_income         0\n",
       "dtype: int64"
      ]
     },
     "execution_count": 40,
     "metadata": {},
     "output_type": "execute_result"
    }
   ],
   "source": [
    "Housing_Transformed.isnull().sum()"
   ]
  },
  {
   "cell_type": "code",
   "execution_count": 41,
   "metadata": {},
   "outputs": [
    {
     "data": {
      "text/html": [
       "<div>\n",
       "<style scoped>\n",
       "    .dataframe tbody tr th:only-of-type {\n",
       "        vertical-align: middle;\n",
       "    }\n",
       "\n",
       "    .dataframe tbody tr th {\n",
       "        vertical-align: top;\n",
       "    }\n",
       "\n",
       "    .dataframe thead th {\n",
       "        text-align: right;\n",
       "    }\n",
       "</style>\n",
       "<table border=\"1\" class=\"dataframe\">\n",
       "  <thead>\n",
       "    <tr style=\"text-align: right;\">\n",
       "      <th></th>\n",
       "      <th>longitude</th>\n",
       "      <th>latitude</th>\n",
       "      <th>housing_median_age</th>\n",
       "      <th>total_rooms</th>\n",
       "      <th>total_bedrooms</th>\n",
       "      <th>population</th>\n",
       "      <th>households</th>\n",
       "      <th>median_income</th>\n",
       "    </tr>\n",
       "  </thead>\n",
       "  <tbody>\n",
       "    <tr>\n",
       "      <th>0</th>\n",
       "      <td>-118.09</td>\n",
       "      <td>33.92</td>\n",
       "      <td>35.0</td>\n",
       "      <td>1994.0</td>\n",
       "      <td>419.0</td>\n",
       "      <td>1491.0</td>\n",
       "      <td>428.0</td>\n",
       "      <td>3.7383</td>\n",
       "    </tr>\n",
       "    <tr>\n",
       "      <th>1</th>\n",
       "      <td>-122.57</td>\n",
       "      <td>37.96</td>\n",
       "      <td>52.0</td>\n",
       "      <td>3458.0</td>\n",
       "      <td>468.0</td>\n",
       "      <td>1449.0</td>\n",
       "      <td>471.0</td>\n",
       "      <td>9.1834</td>\n",
       "    </tr>\n",
       "    <tr>\n",
       "      <th>2</th>\n",
       "      <td>-121.96</td>\n",
       "      <td>36.97</td>\n",
       "      <td>23.0</td>\n",
       "      <td>4324.0</td>\n",
       "      <td>1034.0</td>\n",
       "      <td>1844.0</td>\n",
       "      <td>875.0</td>\n",
       "      <td>3.0777</td>\n",
       "    </tr>\n",
       "    <tr>\n",
       "      <th>3</th>\n",
       "      <td>-118.28</td>\n",
       "      <td>34.02</td>\n",
       "      <td>52.0</td>\n",
       "      <td>281.0</td>\n",
       "      <td>103.0</td>\n",
       "      <td>470.0</td>\n",
       "      <td>96.0</td>\n",
       "      <td>1.9375</td>\n",
       "    </tr>\n",
       "    <tr>\n",
       "      <th>4</th>\n",
       "      <td>-116.50</td>\n",
       "      <td>33.81</td>\n",
       "      <td>26.0</td>\n",
       "      <td>5032.0</td>\n",
       "      <td>1229.0</td>\n",
       "      <td>3086.0</td>\n",
       "      <td>1183.0</td>\n",
       "      <td>2.5399</td>\n",
       "    </tr>\n",
       "  </tbody>\n",
       "</table>\n",
       "</div>"
      ],
      "text/plain": [
       "   longitude  latitude  housing_median_age  total_rooms  total_bedrooms  \\\n",
       "0    -118.09     33.92                35.0       1994.0           419.0   \n",
       "1    -122.57     37.96                52.0       3458.0           468.0   \n",
       "2    -121.96     36.97                23.0       4324.0          1034.0   \n",
       "3    -118.28     34.02                52.0        281.0           103.0   \n",
       "4    -116.50     33.81                26.0       5032.0          1229.0   \n",
       "\n",
       "   population  households  median_income  \n",
       "0      1491.0       428.0         3.7383  \n",
       "1      1449.0       471.0         9.1834  \n",
       "2      1844.0       875.0         3.0777  \n",
       "3       470.0        96.0         1.9375  \n",
       "4      3086.0      1183.0         2.5399  "
      ]
     },
     "execution_count": 41,
     "metadata": {},
     "output_type": "execute_result"
    }
   ],
   "source": [
    "Housing_Transformed.head()"
   ]
  },
  {
   "cell_type": "code",
   "execution_count": 42,
   "metadata": {},
   "outputs": [
    {
     "data": {
      "text/plain": [
       "7771      <1H OCEAN\n",
       "9352       NEAR BAY\n",
       "18657    NEAR OCEAN\n",
       "4873      <1H OCEAN\n",
       "12350        INLAND\n",
       "18621    NEAR OCEAN\n",
       "15543     <1H OCEAN\n",
       "14129    NEAR OCEAN\n",
       "18136     <1H OCEAN\n",
       "14418    NEAR OCEAN\n",
       "Name: ocean_proximity, dtype: object"
      ]
     },
     "execution_count": 42,
     "metadata": {},
     "output_type": "execute_result"
    }
   ],
   "source": [
    "# Handling Categorical Variables\n",
    "\n",
    "#housing_category = housing.select_dtypes(include=[\"O\"]) #- Performing one hot encoding using Pandas Factorize (Will work only on series and not an Data Frames)\n",
    "housing_category = housing[\"ocean_proximity\"]\n",
    "housing_category.head(10)"
   ]
  },
  {
   "cell_type": "code",
   "execution_count": 43,
   "metadata": {},
   "outputs": [],
   "source": [
    "# Performing one hot encoding using Pandas Factorize (Will work only on series and not an Data Frames) \n",
    "\n",
    "housing_category_codes, housing_categories = housing_category.factorize()"
   ]
  },
  {
   "cell_type": "code",
   "execution_count": 44,
   "metadata": {},
   "outputs": [
    {
     "data": {
      "text/plain": [
       "array([0, 1, 2, 0, 3, 2, 0, 2], dtype=int64)"
      ]
     },
     "execution_count": 44,
     "metadata": {},
     "output_type": "execute_result"
    }
   ],
   "source": [
    "housing_category_codes[:8] # Ont hot codes"
   ]
  },
  {
   "cell_type": "code",
   "execution_count": 45,
   "metadata": {},
   "outputs": [
    {
     "data": {
      "text/plain": [
       "Index(['<1H OCEAN', 'NEAR BAY', 'NEAR OCEAN', 'INLAND', 'ISLAND'], dtype='object')"
      ]
     },
     "execution_count": 45,
     "metadata": {},
     "output_type": "execute_result"
    }
   ],
   "source": [
    "housing_categories # Unique Values"
   ]
  },
  {
   "cell_type": "code",
   "execution_count": 46,
   "metadata": {},
   "outputs": [],
   "source": [
    "# Using Sklearns One Hot Encoder \n",
    "\n",
    "from sklearn.preprocessing import OneHotEncoder\n",
    "enc = OneHotEncoder()\n",
    "housing_category_OneHot = enc.fit_transform(housing_category.values.reshape(-1,1))"
   ]
  },
  {
   "cell_type": "code",
   "execution_count": 47,
   "metadata": {},
   "outputs": [
    {
     "data": {
      "text/plain": [
       "<16512x5 sparse matrix of type '<class 'numpy.float64'>'\n",
       "\twith 16512 stored elements in Compressed Sparse Row format>"
      ]
     },
     "execution_count": 47,
     "metadata": {},
     "output_type": "execute_result"
    }
   ],
   "source": [
    "housing_category_OneHot"
   ]
  },
  {
   "cell_type": "code",
   "execution_count": 48,
   "metadata": {},
   "outputs": [
    {
     "data": {
      "text/plain": [
       "array([[1., 0., 0., 0., 0.],\n",
       "       [0., 0., 0., 1., 0.],\n",
       "       [0., 0., 0., 0., 1.],\n",
       "       ...,\n",
       "       [1., 0., 0., 0., 0.],\n",
       "       [0., 1., 0., 0., 0.],\n",
       "       [0., 0., 0., 0., 1.]])"
      ]
     },
     "execution_count": 48,
     "metadata": {},
     "output_type": "execute_result"
    }
   ],
   "source": [
    "housing_category_OneHot.toarray()"
   ]
  },
  {
   "cell_type": "markdown",
   "metadata": {},
   "source": [
    "## Custom Transformations"
   ]
  },
  {
   "cell_type": "code",
   "execution_count": 49,
   "metadata": {},
   "outputs": [],
   "source": [
    "from sklearn.base import BaseEstimator, TransformerMixin\n",
    "\n",
    "#column indexes\n",
    "rooms_ix, bedrooms_ix, population_ix, household_ix = 3, 4, 5, 6\n",
    "\n",
    "class CombinedAttributesAdder(BaseEstimator, TransformerMixin):\n",
    "    \n",
    "    def __init__(self, add_bedrooms_per_room = True):\n",
    "        self.add_bedrooms_per_room = add_bedrooms_per_room\n",
    "        \n",
    "    def fit(self, X, y=None):\n",
    "        return self # nothing to do here\n",
    "    \n",
    "    def transform(self, X, y=None):\n",
    "        rooms_per_household = X[:, rooms_ix] / X[:, household_ix]\n",
    "        population_per_household = X[:, population_ix] / X[:, household_ix]\n",
    "        \n",
    "        if self.add_bedrooms_per_room:\n",
    "            bedrooms_per_room = X[:, bedrooms_ix] / X[:, rooms_ix]\n",
    "            return np.c_[X, rooms_per_household, population_per_household, bedrooms_per_room]\n",
    "        else:\n",
    "            return np.c_[X, rooms_per_household, population_per_household]"
   ]
  },
  {
   "cell_type": "code",
   "execution_count": 50,
   "metadata": {},
   "outputs": [],
   "source": [
    "attr_adder = CombinedAttributesAdder(add_bedrooms_per_room=False)\n",
    "housing_custom_attribs = attr_adder.transform(housing.values)"
   ]
  },
  {
   "cell_type": "code",
   "execution_count": 51,
   "metadata": {},
   "outputs": [
    {
     "data": {
      "text/html": [
       "<div>\n",
       "<style scoped>\n",
       "    .dataframe tbody tr th:only-of-type {\n",
       "        vertical-align: middle;\n",
       "    }\n",
       "\n",
       "    .dataframe tbody tr th {\n",
       "        vertical-align: top;\n",
       "    }\n",
       "\n",
       "    .dataframe thead th {\n",
       "        text-align: right;\n",
       "    }\n",
       "</style>\n",
       "<table border=\"1\" class=\"dataframe\">\n",
       "  <thead>\n",
       "    <tr style=\"text-align: right;\">\n",
       "      <th></th>\n",
       "      <th>longitude</th>\n",
       "      <th>latitude</th>\n",
       "      <th>housing_median_age</th>\n",
       "      <th>total_rooms</th>\n",
       "      <th>total_bedrooms</th>\n",
       "      <th>population</th>\n",
       "      <th>households</th>\n",
       "      <th>median_income</th>\n",
       "      <th>ocean_proximity</th>\n",
       "      <th>rooms_per_household</th>\n",
       "      <th>population_per_household</th>\n",
       "    </tr>\n",
       "  </thead>\n",
       "  <tbody>\n",
       "    <tr>\n",
       "      <th>0</th>\n",
       "      <td>-118.09</td>\n",
       "      <td>33.92</td>\n",
       "      <td>35</td>\n",
       "      <td>1994</td>\n",
       "      <td>419</td>\n",
       "      <td>1491</td>\n",
       "      <td>428</td>\n",
       "      <td>3.7383</td>\n",
       "      <td>&lt;1H OCEAN</td>\n",
       "      <td>4.65888</td>\n",
       "      <td>3.48364</td>\n",
       "    </tr>\n",
       "    <tr>\n",
       "      <th>1</th>\n",
       "      <td>-122.57</td>\n",
       "      <td>37.96</td>\n",
       "      <td>52</td>\n",
       "      <td>3458</td>\n",
       "      <td>468</td>\n",
       "      <td>1449</td>\n",
       "      <td>471</td>\n",
       "      <td>9.1834</td>\n",
       "      <td>NEAR BAY</td>\n",
       "      <td>7.34183</td>\n",
       "      <td>3.07643</td>\n",
       "    </tr>\n",
       "    <tr>\n",
       "      <th>2</th>\n",
       "      <td>-121.96</td>\n",
       "      <td>36.97</td>\n",
       "      <td>23</td>\n",
       "      <td>4324</td>\n",
       "      <td>1034</td>\n",
       "      <td>1844</td>\n",
       "      <td>875</td>\n",
       "      <td>3.0777</td>\n",
       "      <td>NEAR OCEAN</td>\n",
       "      <td>4.94171</td>\n",
       "      <td>2.10743</td>\n",
       "    </tr>\n",
       "    <tr>\n",
       "      <th>3</th>\n",
       "      <td>-118.28</td>\n",
       "      <td>34.02</td>\n",
       "      <td>52</td>\n",
       "      <td>281</td>\n",
       "      <td>103</td>\n",
       "      <td>470</td>\n",
       "      <td>96</td>\n",
       "      <td>1.9375</td>\n",
       "      <td>&lt;1H OCEAN</td>\n",
       "      <td>2.92708</td>\n",
       "      <td>4.89583</td>\n",
       "    </tr>\n",
       "    <tr>\n",
       "      <th>4</th>\n",
       "      <td>-116.5</td>\n",
       "      <td>33.81</td>\n",
       "      <td>26</td>\n",
       "      <td>5032</td>\n",
       "      <td>1229</td>\n",
       "      <td>3086</td>\n",
       "      <td>1183</td>\n",
       "      <td>2.5399</td>\n",
       "      <td>INLAND</td>\n",
       "      <td>4.25359</td>\n",
       "      <td>2.60862</td>\n",
       "    </tr>\n",
       "  </tbody>\n",
       "</table>\n",
       "</div>"
      ],
      "text/plain": [
       "  longitude latitude housing_median_age total_rooms total_bedrooms population  \\\n",
       "0   -118.09    33.92                 35        1994            419       1491   \n",
       "1   -122.57    37.96                 52        3458            468       1449   \n",
       "2   -121.96    36.97                 23        4324           1034       1844   \n",
       "3   -118.28    34.02                 52         281            103        470   \n",
       "4    -116.5    33.81                 26        5032           1229       3086   \n",
       "\n",
       "  households median_income ocean_proximity rooms_per_household  \\\n",
       "0        428        3.7383       <1H OCEAN             4.65888   \n",
       "1        471        9.1834        NEAR BAY             7.34183   \n",
       "2        875        3.0777      NEAR OCEAN             4.94171   \n",
       "3         96        1.9375       <1H OCEAN             2.92708   \n",
       "4       1183        2.5399          INLAND             4.25359   \n",
       "\n",
       "  population_per_household  \n",
       "0                  3.48364  \n",
       "1                  3.07643  \n",
       "2                  2.10743  \n",
       "3                  4.89583  \n",
       "4                  2.60862  "
      ]
     },
     "execution_count": 51,
     "metadata": {},
     "output_type": "execute_result"
    }
   ],
   "source": [
    "housing_custom_attribs = pd.DataFrame(housing_custom_attribs, columns=list(housing.columns)+[\"rooms_per_household\", \n",
    "                                                                                           \"population_per_household\"])\n",
    "housing_custom_attribs.head()"
   ]
  },
  {
   "cell_type": "markdown",
   "metadata": {},
   "source": [
    "## Setting up pipeline for pre-processing"
   ]
  },
  {
   "cell_type": "code",
   "execution_count": 52,
   "metadata": {},
   "outputs": [
    {
     "data": {
      "text/plain": [
       "array([[ 0.74049299, -0.80402818,  0.50616062, ..., -0.30771122,\n",
       "         0.03273077, -0.05512278],\n",
       "       [-1.49391785,  1.081436  ,  1.86235125, ...,  0.75666902,\n",
       "        -0.0023651 , -1.17763788],\n",
       "       [-1.18967887,  0.61940394, -0.45115041, ..., -0.19550447,\n",
       "        -0.08587951,  0.38012387],\n",
       "       ...,\n",
       "       [-1.18967887,  0.79208259,  0.58593654, ..., -0.06328319,\n",
       "        -0.06658929, -0.48812906],\n",
       "       [-0.09741107,  0.51673015,  1.22414389, ..., -0.43053438,\n",
       "         0.07888273,  0.19240118],\n",
       "       [ 0.17690276, -0.64535051, -1.00958184, ..., -0.32344572,\n",
       "        -0.05235215,  0.40450624]])"
      ]
     },
     "execution_count": 52,
     "metadata": {},
     "output_type": "execute_result"
    }
   ],
   "source": [
    "from sklearn.pipeline import Pipeline\n",
    "from sklearn.preprocessing import StandardScaler\n",
    "from sklearn.impute import SimpleImputer\n",
    "\n",
    "num_pipeline = Pipeline([\n",
    "    \n",
    "    (\"imputer\", SimpleImputer(strategy=\"median\")),\n",
    "    (\"attribs_adder\", CombinedAttributesAdder()),\n",
    "    (\"std_scaler\", StandardScaler())\n",
    "    \n",
    "])\n",
    "\n",
    "housing_num_tr = num_pipeline.fit_transform(housing_num)\n",
    "housing_num_tr"
   ]
  },
  {
   "cell_type": "code",
   "execution_count": 53,
   "metadata": {},
   "outputs": [],
   "source": [
    "class DataFrameSelector(BaseEstimator, TransformerMixin):\n",
    "    \n",
    "    def __init__(self, attribute_names):\n",
    "        self.attibute_names = attribute_names\n",
    "        \n",
    "    def fit(self, X, y=None):\n",
    "        return self # do nothing\n",
    "    \n",
    "    def transform(self, X, y=None):\n",
    "        return X[self.attibute_names].values"
   ]
  },
  {
   "cell_type": "code",
   "execution_count": 54,
   "metadata": {},
   "outputs": [],
   "source": [
    "# complete Pipeline\n",
    "\n",
    "num_attribs = list(housing_num.columns)\n",
    "cat_attribs = [\"ocean_proximity\"]\n",
    "\n",
    "num_pipeline = Pipeline([\n",
    "    (\"selector\", DataFrameSelector(num_attribs)),\n",
    "    (\"imputer\", SimpleImputer(strategy=\"median\")),\n",
    "    (\"attribs_adder\", CombinedAttributesAdder()),\n",
    "    (\"std_scaler\", StandardScaler())\n",
    "])\n",
    "\n",
    "cat_pipeline =Pipeline([\n",
    "    (\"selector\", DataFrameSelector(cat_attribs)),\n",
    "    (\"cat_encoder\", OneHotEncoder(sparse=False))\n",
    "])"
   ]
  },
  {
   "cell_type": "code",
   "execution_count": 55,
   "metadata": {},
   "outputs": [],
   "source": [
    "from sklearn.pipeline import FeatureUnion\n",
    "\n",
    "full_pipeline = FeatureUnion(transformer_list=[\n",
    "    ('num_pipeline', num_pipeline),\n",
    "    ('cat_pipeline', cat_pipeline)\n",
    "])"
   ]
  },
  {
   "cell_type": "code",
   "execution_count": 56,
   "metadata": {},
   "outputs": [
    {
     "data": {
      "text/plain": [
       "array([[ 0.74049299, -0.80402818,  0.50616062, ...,  0.        ,\n",
       "         0.        ,  0.        ],\n",
       "       [-1.49391785,  1.081436  ,  1.86235125, ...,  0.        ,\n",
       "         1.        ,  0.        ],\n",
       "       [-1.18967887,  0.61940394, -0.45115041, ...,  0.        ,\n",
       "         0.        ,  1.        ],\n",
       "       ...,\n",
       "       [-1.18967887,  0.79208259,  0.58593654, ...,  0.        ,\n",
       "         0.        ,  0.        ],\n",
       "       [-0.09741107,  0.51673015,  1.22414389, ...,  0.        ,\n",
       "         0.        ,  0.        ],\n",
       "       [ 0.17690276, -0.64535051, -1.00958184, ...,  0.        ,\n",
       "         0.        ,  1.        ]])"
      ]
     },
     "execution_count": 56,
     "metadata": {},
     "output_type": "execute_result"
    }
   ],
   "source": [
    "housing_prepared = full_pipeline.fit_transform(housing)\n",
    "housing_prepared"
   ]
  },
  {
   "cell_type": "markdown",
   "metadata": {},
   "source": [
    "## Selecting and training models"
   ]
  },
  {
   "cell_type": "code",
   "execution_count": 57,
   "metadata": {},
   "outputs": [
    {
     "data": {
      "text/plain": [
       "LinearRegression(copy_X=True, fit_intercept=True, n_jobs=None, normalize=False)"
      ]
     },
     "execution_count": 57,
     "metadata": {},
     "output_type": "execute_result"
    }
   ],
   "source": [
    "from sklearn.linear_model import LinearRegression\n",
    "\n",
    "lin_reg = LinearRegression()\n",
    "lin_reg.fit(housing_prepared, housing_labels)"
   ]
  },
  {
   "cell_type": "code",
   "execution_count": 58,
   "metadata": {},
   "outputs": [],
   "source": [
    "# trying the full pipeline on a few training instances\n",
    "\n",
    "some_data = housing.iloc[:5]\n",
    "some_labels = housing_labels.iloc[:5]\n",
    "\n",
    "some_data_prepared = full_pipeline.transform(some_data)"
   ]
  },
  {
   "cell_type": "code",
   "execution_count": 59,
   "metadata": {},
   "outputs": [
    {
     "name": "stdout",
     "output_type": "stream",
     "text": [
      "Prediction:  [209526.30110297 455497.76141409 252936.22210586 173615.33127943\n",
      " 114294.56522481]\n",
      "Actual Labels:  [166200.0, 500001.0, 263800.0, 38800.0, 94800.0]\n"
     ]
    }
   ],
   "source": [
    "print(\"Prediction: \", lin_reg.predict(some_data_prepared))\n",
    "print(\"Actual Labels: \", list(some_labels))"
   ]
  },
  {
   "cell_type": "code",
   "execution_count": 60,
   "metadata": {},
   "outputs": [
    {
     "data": {
      "text/plain": [
       "67949.91466225038"
      ]
     },
     "execution_count": 60,
     "metadata": {},
     "output_type": "execute_result"
    }
   ],
   "source": [
    "from sklearn.metrics import mean_squared_error\n",
    "housing_predictions = lin_reg.predict(housing_prepared)\n",
    "\n",
    "lin_mse = mean_squared_error(housing_labels, housing_predictions)\n",
    "lin_rmse = np.sqrt(lin_mse)\n",
    "lin_rmse"
   ]
  },
  {
   "cell_type": "code",
   "execution_count": 61,
   "metadata": {},
   "outputs": [
    {
     "data": {
      "text/plain": [
       "DecisionTreeRegressor(ccp_alpha=0.0, criterion='mse', max_depth=None,\n",
       "                      max_features=None, max_leaf_nodes=None,\n",
       "                      min_impurity_decrease=0.0, min_impurity_split=None,\n",
       "                      min_samples_leaf=1, min_samples_split=2,\n",
       "                      min_weight_fraction_leaf=0.0, presort='deprecated',\n",
       "                      random_state=None, splitter='best')"
      ]
     },
     "execution_count": 61,
     "metadata": {},
     "output_type": "execute_result"
    }
   ],
   "source": [
    "from sklearn.tree import DecisionTreeRegressor\n",
    "\n",
    "tree_reg = DecisionTreeRegressor()\n",
    "tree_reg.fit(housing_prepared, housing_labels)"
   ]
  },
  {
   "cell_type": "code",
   "execution_count": 62,
   "metadata": {},
   "outputs": [
    {
     "data": {
      "text/plain": [
       "0.0"
      ]
     },
     "execution_count": 62,
     "metadata": {},
     "output_type": "execute_result"
    }
   ],
   "source": [
    "housing_predictions = tree_reg.predict(housing_prepared)\n",
    "\n",
    "tree_mse = mean_squared_error(housing_labels, housing_predictions)\n",
    "tree_rmse = np.sqrt(tree_mse)\n",
    "tree_rmse"
   ]
  },
  {
   "cell_type": "markdown",
   "metadata": {},
   "source": [
    "## Cross Validation"
   ]
  },
  {
   "cell_type": "code",
   "execution_count": 63,
   "metadata": {},
   "outputs": [],
   "source": [
    "from sklearn.model_selection import cross_val_score\n",
    "\n",
    "scores = cross_val_score(tree_reg, housing_prepared, housing_labels, cv=10, scoring=\"neg_mean_squared_error\")\n",
    "\n",
    "tree_rmse_scores = np.sqrt(-scores)"
   ]
  },
  {
   "cell_type": "code",
   "execution_count": 64,
   "metadata": {},
   "outputs": [
    {
     "name": "stdout",
     "output_type": "stream",
     "text": [
      "scores:  [70153.46652284 68859.12588817 68191.66553454 71840.07229142\n",
      " 69018.49082755 67165.77551313 70655.46608283 70287.09341742\n",
      " 67797.16425544 69555.18504564]\n",
      "mean:  69352.3505378991\n",
      "std deviation:  1354.4437901398862\n"
     ]
    }
   ],
   "source": [
    "def display_scores(scores):\n",
    "    print(\"scores: \", scores)\n",
    "    print(\"mean: \", scores.mean())\n",
    "    print(\"std deviation: \", scores.std())\n",
    "    \n",
    "    \n",
    "display_scores(tree_rmse_scores)"
   ]
  },
  {
   "cell_type": "code",
   "execution_count": 65,
   "metadata": {},
   "outputs": [
    {
     "name": "stdout",
     "output_type": "stream",
     "text": [
      "scores:  [67641.22210761 69245.155892   65690.83401976 67581.651926\n",
      " 66586.04760743 66937.30771561 67397.33645629 69807.64170261\n",
      " 66660.63451034 74883.89423608]\n",
      "mean:  68243.17261737352\n",
      "std deviation:  2500.7262162919783\n"
     ]
    }
   ],
   "source": [
    "lin_scores = cross_val_score(lin_reg, housing_prepared, housing_labels, cv=10, scoring=\"neg_mean_squared_error\")\n",
    "\n",
    "lin_rmse_scores = np.sqrt(-lin_scores)\n",
    "\n",
    "display_scores(lin_rmse_scores)"
   ]
  },
  {
   "cell_type": "code",
   "execution_count": 66,
   "metadata": {},
   "outputs": [
    {
     "data": {
      "text/plain": [
       "RandomForestRegressor(bootstrap=True, ccp_alpha=0.0, criterion='mse',\n",
       "                      max_depth=None, max_features='auto', max_leaf_nodes=None,\n",
       "                      max_samples=None, min_impurity_decrease=0.0,\n",
       "                      min_impurity_split=None, min_samples_leaf=1,\n",
       "                      min_samples_split=2, min_weight_fraction_leaf=0.0,\n",
       "                      n_estimators=100, n_jobs=None, oob_score=False,\n",
       "                      random_state=29, verbose=0, warm_start=False)"
      ]
     },
     "execution_count": 66,
     "metadata": {},
     "output_type": "execute_result"
    }
   ],
   "source": [
    "from sklearn.ensemble import RandomForestRegressor\n",
    "\n",
    "forest_reg = RandomForestRegressor(random_state=29)\n",
    "forest_reg.fit(housing_prepared, housing_labels)"
   ]
  },
  {
   "cell_type": "code",
   "execution_count": 67,
   "metadata": {},
   "outputs": [
    {
     "name": "stdout",
     "output_type": "stream",
     "text": [
      "scores:  [67641.22210761 69245.155892   65690.83401976 67581.651926\n",
      " 66586.04760743 66937.30771561 67397.33645629 69807.64170261\n",
      " 66660.63451034 74883.89423608]\n",
      "mean:  68243.17261737352\n",
      "std deviation:  2500.7262162919783\n"
     ]
    }
   ],
   "source": [
    "housing_pred = forest_reg.predict(housing_prepared)\n",
    "\n",
    "forest_scores = cross_val_score(lin_reg, housing_prepared, housing_labels, cv=10, scoring=\"neg_mean_squared_error\")\n",
    "\n",
    "forest_rmse_scores = np.sqrt(-forest_scores)\n",
    "\n",
    "display_scores(forest_rmse_scores)"
   ]
  },
  {
   "cell_type": "markdown",
   "metadata": {},
   "source": [
    "## Fine Tuning Model"
   ]
  },
  {
   "cell_type": "code",
   "execution_count": 68,
   "metadata": {},
   "outputs": [
    {
     "data": {
      "text/plain": [
       "GridSearchCV(cv=5, error_score=nan,\n",
       "             estimator=RandomForestRegressor(bootstrap=True, ccp_alpha=0.0,\n",
       "                                             criterion='mse', max_depth=None,\n",
       "                                             max_features='auto',\n",
       "                                             max_leaf_nodes=None,\n",
       "                                             max_samples=None,\n",
       "                                             min_impurity_decrease=0.0,\n",
       "                                             min_impurity_split=None,\n",
       "                                             min_samples_leaf=1,\n",
       "                                             min_samples_split=2,\n",
       "                                             min_weight_fraction_leaf=0.0,\n",
       "                                             n_estimators=100, n_jobs=None,\n",
       "                                             oob_score=False, random_state=None,\n",
       "                                             verbose=0, warm_start=False),\n",
       "             iid='deprecated', n_jobs=None,\n",
       "             param_grid=[{'max_features': [2, 4, 6, 8],\n",
       "                          'n_estimators': [3, 10, 30]},\n",
       "                         {'bootstrap': [False], 'max_features': [2, 3, 4],\n",
       "                          'n_estimators': [3, 10]}],\n",
       "             pre_dispatch='2*n_jobs', refit=True, return_train_score=False,\n",
       "             scoring='neg_mean_squared_error', verbose=0)"
      ]
     },
     "execution_count": 68,
     "metadata": {},
     "output_type": "execute_result"
    }
   ],
   "source": [
    "from sklearn.model_selection import GridSearchCV\n",
    "\n",
    "param_grid = [\n",
    "    {'n_estimators': [3, 10, 30], 'max_features': [2, 4, 6, 8]},\n",
    "    {'bootstrap': [False], 'n_estimators': [3, 10], 'max_features': [2, 3, 4]}\n",
    "]\n",
    "\n",
    "rf_reg = RandomForestRegressor()\n",
    "\n",
    "grid_search = GridSearchCV(rf_reg, param_grid, cv=5, scoring=\"neg_mean_squared_error\")\n",
    "\n",
    "grid_search.fit(housing_prepared, housing_labels)"
   ]
  },
  {
   "cell_type": "code",
   "execution_count": 69,
   "metadata": {},
   "outputs": [
    {
     "data": {
      "text/plain": [
       "{'max_features': 6, 'n_estimators': 30}"
      ]
     },
     "execution_count": 69,
     "metadata": {},
     "output_type": "execute_result"
    }
   ],
   "source": [
    "# to get the best combination of hyperparameters\n",
    "grid_search.best_params_"
   ]
  },
  {
   "cell_type": "code",
   "execution_count": 70,
   "metadata": {},
   "outputs": [
    {
     "data": {
      "text/plain": [
       "RandomForestRegressor(bootstrap=True, ccp_alpha=0.0, criterion='mse',\n",
       "                      max_depth=None, max_features=6, max_leaf_nodes=None,\n",
       "                      max_samples=None, min_impurity_decrease=0.0,\n",
       "                      min_impurity_split=None, min_samples_leaf=1,\n",
       "                      min_samples_split=2, min_weight_fraction_leaf=0.0,\n",
       "                      n_estimators=30, n_jobs=None, oob_score=False,\n",
       "                      random_state=None, verbose=0, warm_start=False)"
      ]
     },
     "execution_count": 70,
     "metadata": {},
     "output_type": "execute_result"
    }
   ],
   "source": [
    "# to get the best estimators directly\n",
    "grid_search.best_estimator_"
   ]
  },
  {
   "cell_type": "code",
   "execution_count": 71,
   "metadata": {},
   "outputs": [
    {
     "name": "stdout",
     "output_type": "stream",
     "text": [
      "62602.26555045729 {'max_features': 2, 'n_estimators': 3}\n",
      "54632.70072930125 {'max_features': 2, 'n_estimators': 10}\n",
      "52448.697874788166 {'max_features': 2, 'n_estimators': 30}\n",
      "59642.25005133065 {'max_features': 4, 'n_estimators': 3}\n",
      "52107.041906314436 {'max_features': 4, 'n_estimators': 10}\n",
      "49961.45352624978 {'max_features': 4, 'n_estimators': 30}\n",
      "59065.6867493609 {'max_features': 6, 'n_estimators': 3}\n",
      "51159.29771581027 {'max_features': 6, 'n_estimators': 10}\n",
      "49355.05601495097 {'max_features': 6, 'n_estimators': 30}\n",
      "57630.28195896384 {'max_features': 8, 'n_estimators': 3}\n",
      "51451.535139363776 {'max_features': 8, 'n_estimators': 10}\n",
      "49482.81698573258 {'max_features': 8, 'n_estimators': 30}\n",
      "62094.01010097671 {'bootstrap': False, 'max_features': 2, 'n_estimators': 3}\n",
      "53684.76348842282 {'bootstrap': False, 'max_features': 2, 'n_estimators': 10}\n",
      "59632.05572415237 {'bootstrap': False, 'max_features': 3, 'n_estimators': 3}\n",
      "51388.255121402915 {'bootstrap': False, 'max_features': 3, 'n_estimators': 10}\n",
      "58608.25392298558 {'bootstrap': False, 'max_features': 4, 'n_estimators': 3}\n",
      "51277.96029779331 {'bootstrap': False, 'max_features': 4, 'n_estimators': 10}\n"
     ]
    }
   ],
   "source": [
    "cv_res = grid_search.cv_results_\n",
    "\n",
    "for mean_score, params in zip(cv_res[\"mean_test_score\"], cv_res[\"params\"]):\n",
    "    print(np.sqrt(-mean_score), params)"
   ]
  },
  {
   "cell_type": "code",
   "execution_count": 72,
   "metadata": {},
   "outputs": [
    {
     "data": {
      "text/html": [
       "<div>\n",
       "<style scoped>\n",
       "    .dataframe tbody tr th:only-of-type {\n",
       "        vertical-align: middle;\n",
       "    }\n",
       "\n",
       "    .dataframe tbody tr th {\n",
       "        vertical-align: top;\n",
       "    }\n",
       "\n",
       "    .dataframe thead th {\n",
       "        text-align: right;\n",
       "    }\n",
       "</style>\n",
       "<table border=\"1\" class=\"dataframe\">\n",
       "  <thead>\n",
       "    <tr style=\"text-align: right;\">\n",
       "      <th></th>\n",
       "      <th>mean_fit_time</th>\n",
       "      <th>std_fit_time</th>\n",
       "      <th>mean_score_time</th>\n",
       "      <th>std_score_time</th>\n",
       "      <th>param_max_features</th>\n",
       "      <th>param_n_estimators</th>\n",
       "      <th>param_bootstrap</th>\n",
       "      <th>params</th>\n",
       "      <th>split0_test_score</th>\n",
       "      <th>split1_test_score</th>\n",
       "      <th>split2_test_score</th>\n",
       "      <th>split3_test_score</th>\n",
       "      <th>split4_test_score</th>\n",
       "      <th>mean_test_score</th>\n",
       "      <th>std_test_score</th>\n",
       "      <th>rank_test_score</th>\n",
       "    </tr>\n",
       "  </thead>\n",
       "  <tbody>\n",
       "    <tr>\n",
       "      <th>0</th>\n",
       "      <td>0.163237</td>\n",
       "      <td>0.011838</td>\n",
       "      <td>0.006535</td>\n",
       "      <td>0.001847</td>\n",
       "      <td>2</td>\n",
       "      <td>3</td>\n",
       "      <td>NaN</td>\n",
       "      <td>{'max_features': 2, 'n_estimators': 3}</td>\n",
       "      <td>-3.750295e+09</td>\n",
       "      <td>-4.034574e+09</td>\n",
       "      <td>-3.637468e+09</td>\n",
       "      <td>-4.044719e+09</td>\n",
       "      <td>-4.128162e+09</td>\n",
       "      <td>-3.919044e+09</td>\n",
       "      <td>1.900699e+08</td>\n",
       "      <td>18</td>\n",
       "    </tr>\n",
       "    <tr>\n",
       "      <th>1</th>\n",
       "      <td>0.499630</td>\n",
       "      <td>0.006113</td>\n",
       "      <td>0.020418</td>\n",
       "      <td>0.000388</td>\n",
       "      <td>2</td>\n",
       "      <td>10</td>\n",
       "      <td>NaN</td>\n",
       "      <td>{'max_features': 2, 'n_estimators': 10}</td>\n",
       "      <td>-3.033043e+09</td>\n",
       "      <td>-2.807541e+09</td>\n",
       "      <td>-3.000811e+09</td>\n",
       "      <td>-2.954547e+09</td>\n",
       "      <td>-3.127717e+09</td>\n",
       "      <td>-2.984732e+09</td>\n",
       "      <td>1.052093e+08</td>\n",
       "      <td>11</td>\n",
       "    </tr>\n",
       "    <tr>\n",
       "      <th>2</th>\n",
       "      <td>1.494891</td>\n",
       "      <td>0.025703</td>\n",
       "      <td>0.056336</td>\n",
       "      <td>0.003504</td>\n",
       "      <td>2</td>\n",
       "      <td>30</td>\n",
       "      <td>NaN</td>\n",
       "      <td>{'max_features': 2, 'n_estimators': 30}</td>\n",
       "      <td>-2.701835e+09</td>\n",
       "      <td>-2.722674e+09</td>\n",
       "      <td>-2.715962e+09</td>\n",
       "      <td>-2.761516e+09</td>\n",
       "      <td>-2.852343e+09</td>\n",
       "      <td>-2.750866e+09</td>\n",
       "      <td>5.445764e+07</td>\n",
       "      <td>9</td>\n",
       "    </tr>\n",
       "    <tr>\n",
       "      <th>3</th>\n",
       "      <td>0.249990</td>\n",
       "      <td>0.006448</td>\n",
       "      <td>0.006607</td>\n",
       "      <td>0.002096</td>\n",
       "      <td>4</td>\n",
       "      <td>3</td>\n",
       "      <td>NaN</td>\n",
       "      <td>{'max_features': 4, 'n_estimators': 3}</td>\n",
       "      <td>-3.584705e+09</td>\n",
       "      <td>-3.322905e+09</td>\n",
       "      <td>-3.472318e+09</td>\n",
       "      <td>-3.740774e+09</td>\n",
       "      <td>-3.665288e+09</td>\n",
       "      <td>-3.557198e+09</td>\n",
       "      <td>1.471312e+08</td>\n",
       "      <td>16</td>\n",
       "    </tr>\n",
       "    <tr>\n",
       "      <th>4</th>\n",
       "      <td>0.811940</td>\n",
       "      <td>0.014768</td>\n",
       "      <td>0.019184</td>\n",
       "      <td>0.001359</td>\n",
       "      <td>4</td>\n",
       "      <td>10</td>\n",
       "      <td>NaN</td>\n",
       "      <td>{'max_features': 4, 'n_estimators': 10}</td>\n",
       "      <td>-2.714081e+09</td>\n",
       "      <td>-2.724291e+09</td>\n",
       "      <td>-2.622502e+09</td>\n",
       "      <td>-2.689097e+09</td>\n",
       "      <td>-2.825748e+09</td>\n",
       "      <td>-2.715144e+09</td>\n",
       "      <td>6.569488e+07</td>\n",
       "      <td>8</td>\n",
       "    </tr>\n",
       "    <tr>\n",
       "      <th>5</th>\n",
       "      <td>2.403408</td>\n",
       "      <td>0.019453</td>\n",
       "      <td>0.054475</td>\n",
       "      <td>0.000365</td>\n",
       "      <td>4</td>\n",
       "      <td>30</td>\n",
       "      <td>NaN</td>\n",
       "      <td>{'max_features': 4, 'n_estimators': 30}</td>\n",
       "      <td>-2.436830e+09</td>\n",
       "      <td>-2.418861e+09</td>\n",
       "      <td>-2.498518e+09</td>\n",
       "      <td>-2.526039e+09</td>\n",
       "      <td>-2.600485e+09</td>\n",
       "      <td>-2.496147e+09</td>\n",
       "      <td>6.523386e+07</td>\n",
       "      <td>3</td>\n",
       "    </tr>\n",
       "    <tr>\n",
       "      <th>6</th>\n",
       "      <td>0.335820</td>\n",
       "      <td>0.011625</td>\n",
       "      <td>0.008350</td>\n",
       "      <td>0.000498</td>\n",
       "      <td>6</td>\n",
       "      <td>3</td>\n",
       "      <td>NaN</td>\n",
       "      <td>{'max_features': 6, 'n_estimators': 3}</td>\n",
       "      <td>-3.501828e+09</td>\n",
       "      <td>-3.220939e+09</td>\n",
       "      <td>-3.630789e+09</td>\n",
       "      <td>-3.455507e+09</td>\n",
       "      <td>-3.634713e+09</td>\n",
       "      <td>-3.488755e+09</td>\n",
       "      <td>1.513139e+08</td>\n",
       "      <td>14</td>\n",
       "    </tr>\n",
       "    <tr>\n",
       "      <th>7</th>\n",
       "      <td>1.100150</td>\n",
       "      <td>0.013734</td>\n",
       "      <td>0.018904</td>\n",
       "      <td>0.002231</td>\n",
       "      <td>6</td>\n",
       "      <td>10</td>\n",
       "      <td>NaN</td>\n",
       "      <td>{'max_features': 6, 'n_estimators': 10}</td>\n",
       "      <td>-2.736164e+09</td>\n",
       "      <td>-2.519199e+09</td>\n",
       "      <td>-2.578638e+09</td>\n",
       "      <td>-2.593787e+09</td>\n",
       "      <td>-2.658581e+09</td>\n",
       "      <td>-2.617274e+09</td>\n",
       "      <td>7.416776e+07</td>\n",
       "      <td>4</td>\n",
       "    </tr>\n",
       "    <tr>\n",
       "      <th>8</th>\n",
       "      <td>3.340009</td>\n",
       "      <td>0.044918</td>\n",
       "      <td>0.055947</td>\n",
       "      <td>0.001806</td>\n",
       "      <td>6</td>\n",
       "      <td>30</td>\n",
       "      <td>NaN</td>\n",
       "      <td>{'max_features': 6, 'n_estimators': 30}</td>\n",
       "      <td>-2.437952e+09</td>\n",
       "      <td>-2.319249e+09</td>\n",
       "      <td>-2.422880e+09</td>\n",
       "      <td>-2.409645e+09</td>\n",
       "      <td>-2.589883e+09</td>\n",
       "      <td>-2.435922e+09</td>\n",
       "      <td>8.738575e+07</td>\n",
       "      <td>1</td>\n",
       "    </tr>\n",
       "    <tr>\n",
       "      <th>9</th>\n",
       "      <td>0.422351</td>\n",
       "      <td>0.005919</td>\n",
       "      <td>0.006606</td>\n",
       "      <td>0.001867</td>\n",
       "      <td>8</td>\n",
       "      <td>3</td>\n",
       "      <td>NaN</td>\n",
       "      <td>{'max_features': 8, 'n_estimators': 3}</td>\n",
       "      <td>-3.507307e+09</td>\n",
       "      <td>-3.236924e+09</td>\n",
       "      <td>-3.381897e+09</td>\n",
       "      <td>-3.004138e+09</td>\n",
       "      <td>-3.475981e+09</td>\n",
       "      <td>-3.321249e+09</td>\n",
       "      <td>1.843408e+08</td>\n",
       "      <td>12</td>\n",
       "    </tr>\n",
       "    <tr>\n",
       "      <th>10</th>\n",
       "      <td>1.405640</td>\n",
       "      <td>0.025444</td>\n",
       "      <td>0.019825</td>\n",
       "      <td>0.001596</td>\n",
       "      <td>8</td>\n",
       "      <td>10</td>\n",
       "      <td>NaN</td>\n",
       "      <td>{'max_features': 8, 'n_estimators': 10}</td>\n",
       "      <td>-2.584970e+09</td>\n",
       "      <td>-2.533353e+09</td>\n",
       "      <td>-2.747545e+09</td>\n",
       "      <td>-2.529094e+09</td>\n",
       "      <td>-2.841340e+09</td>\n",
       "      <td>-2.647260e+09</td>\n",
       "      <td>1.253333e+08</td>\n",
       "      <td>7</td>\n",
       "    </tr>\n",
       "    <tr>\n",
       "      <th>11</th>\n",
       "      <td>4.216919</td>\n",
       "      <td>0.019453</td>\n",
       "      <td>0.056311</td>\n",
       "      <td>0.002637</td>\n",
       "      <td>8</td>\n",
       "      <td>30</td>\n",
       "      <td>NaN</td>\n",
       "      <td>{'max_features': 8, 'n_estimators': 30}</td>\n",
       "      <td>-2.411601e+09</td>\n",
       "      <td>-2.336863e+09</td>\n",
       "      <td>-2.473658e+09</td>\n",
       "      <td>-2.428968e+09</td>\n",
       "      <td>-2.591656e+09</td>\n",
       "      <td>-2.448549e+09</td>\n",
       "      <td>8.406264e+07</td>\n",
       "      <td>2</td>\n",
       "    </tr>\n",
       "    <tr>\n",
       "      <th>12</th>\n",
       "      <td>0.243685</td>\n",
       "      <td>0.008302</td>\n",
       "      <td>0.007272</td>\n",
       "      <td>0.001641</td>\n",
       "      <td>2</td>\n",
       "      <td>3</td>\n",
       "      <td>False</td>\n",
       "      <td>{'bootstrap': False, 'max_features': 2, 'n_est...</td>\n",
       "      <td>-3.879546e+09</td>\n",
       "      <td>-3.638053e+09</td>\n",
       "      <td>-3.844453e+09</td>\n",
       "      <td>-3.992696e+09</td>\n",
       "      <td>-3.923583e+09</td>\n",
       "      <td>-3.855666e+09</td>\n",
       "      <td>1.195334e+08</td>\n",
       "      <td>17</td>\n",
       "    </tr>\n",
       "    <tr>\n",
       "      <th>13</th>\n",
       "      <td>0.806606</td>\n",
       "      <td>0.010588</td>\n",
       "      <td>0.021815</td>\n",
       "      <td>0.002175</td>\n",
       "      <td>2</td>\n",
       "      <td>10</td>\n",
       "      <td>False</td>\n",
       "      <td>{'bootstrap': False, 'max_features': 2, 'n_est...</td>\n",
       "      <td>-2.951867e+09</td>\n",
       "      <td>-2.862527e+09</td>\n",
       "      <td>-2.894083e+09</td>\n",
       "      <td>-2.825130e+09</td>\n",
       "      <td>-2.876663e+09</td>\n",
       "      <td>-2.882054e+09</td>\n",
       "      <td>4.163945e+07</td>\n",
       "      <td>10</td>\n",
       "    </tr>\n",
       "    <tr>\n",
       "      <th>14</th>\n",
       "      <td>0.312650</td>\n",
       "      <td>0.011378</td>\n",
       "      <td>0.007994</td>\n",
       "      <td>0.000015</td>\n",
       "      <td>3</td>\n",
       "      <td>3</td>\n",
       "      <td>False</td>\n",
       "      <td>{'bootstrap': False, 'max_features': 3, 'n_est...</td>\n",
       "      <td>-3.306707e+09</td>\n",
       "      <td>-3.517370e+09</td>\n",
       "      <td>-3.751705e+09</td>\n",
       "      <td>-3.494705e+09</td>\n",
       "      <td>-3.709425e+09</td>\n",
       "      <td>-3.555982e+09</td>\n",
       "      <td>1.607707e+08</td>\n",
       "      <td>15</td>\n",
       "    </tr>\n",
       "    <tr>\n",
       "      <th>15</th>\n",
       "      <td>1.044662</td>\n",
       "      <td>0.013621</td>\n",
       "      <td>0.020879</td>\n",
       "      <td>0.000351</td>\n",
       "      <td>3</td>\n",
       "      <td>10</td>\n",
       "      <td>False</td>\n",
       "      <td>{'bootstrap': False, 'max_features': 3, 'n_est...</td>\n",
       "      <td>-2.712346e+09</td>\n",
       "      <td>-2.565143e+09</td>\n",
       "      <td>-2.580513e+09</td>\n",
       "      <td>-2.565991e+09</td>\n",
       "      <td>-2.779770e+09</td>\n",
       "      <td>-2.640753e+09</td>\n",
       "      <td>8.875388e+07</td>\n",
       "      <td>6</td>\n",
       "    </tr>\n",
       "    <tr>\n",
       "      <th>16</th>\n",
       "      <td>0.397848</td>\n",
       "      <td>0.009614</td>\n",
       "      <td>0.008497</td>\n",
       "      <td>0.001231</td>\n",
       "      <td>4</td>\n",
       "      <td>3</td>\n",
       "      <td>False</td>\n",
       "      <td>{'bootstrap': False, 'max_features': 4, 'n_est...</td>\n",
       "      <td>-3.405923e+09</td>\n",
       "      <td>-3.396869e+09</td>\n",
       "      <td>-3.230930e+09</td>\n",
       "      <td>-3.525710e+09</td>\n",
       "      <td>-3.615205e+09</td>\n",
       "      <td>-3.434927e+09</td>\n",
       "      <td>1.301121e+08</td>\n",
       "      <td>13</td>\n",
       "    </tr>\n",
       "    <tr>\n",
       "      <th>17</th>\n",
       "      <td>1.303134</td>\n",
       "      <td>0.006736</td>\n",
       "      <td>0.022669</td>\n",
       "      <td>0.002107</td>\n",
       "      <td>4</td>\n",
       "      <td>10</td>\n",
       "      <td>False</td>\n",
       "      <td>{'bootstrap': False, 'max_features': 4, 'n_est...</td>\n",
       "      <td>-2.631965e+09</td>\n",
       "      <td>-2.423490e+09</td>\n",
       "      <td>-2.669345e+09</td>\n",
       "      <td>-2.691020e+09</td>\n",
       "      <td>-2.731326e+09</td>\n",
       "      <td>-2.629429e+09</td>\n",
       "      <td>1.078769e+08</td>\n",
       "      <td>5</td>\n",
       "    </tr>\n",
       "  </tbody>\n",
       "</table>\n",
       "</div>"
      ],
      "text/plain": [
       "    mean_fit_time  std_fit_time  mean_score_time  std_score_time  \\\n",
       "0        0.163237      0.011838         0.006535        0.001847   \n",
       "1        0.499630      0.006113         0.020418        0.000388   \n",
       "2        1.494891      0.025703         0.056336        0.003504   \n",
       "3        0.249990      0.006448         0.006607        0.002096   \n",
       "4        0.811940      0.014768         0.019184        0.001359   \n",
       "5        2.403408      0.019453         0.054475        0.000365   \n",
       "6        0.335820      0.011625         0.008350        0.000498   \n",
       "7        1.100150      0.013734         0.018904        0.002231   \n",
       "8        3.340009      0.044918         0.055947        0.001806   \n",
       "9        0.422351      0.005919         0.006606        0.001867   \n",
       "10       1.405640      0.025444         0.019825        0.001596   \n",
       "11       4.216919      0.019453         0.056311        0.002637   \n",
       "12       0.243685      0.008302         0.007272        0.001641   \n",
       "13       0.806606      0.010588         0.021815        0.002175   \n",
       "14       0.312650      0.011378         0.007994        0.000015   \n",
       "15       1.044662      0.013621         0.020879        0.000351   \n",
       "16       0.397848      0.009614         0.008497        0.001231   \n",
       "17       1.303134      0.006736         0.022669        0.002107   \n",
       "\n",
       "   param_max_features param_n_estimators param_bootstrap  \\\n",
       "0                   2                  3             NaN   \n",
       "1                   2                 10             NaN   \n",
       "2                   2                 30             NaN   \n",
       "3                   4                  3             NaN   \n",
       "4                   4                 10             NaN   \n",
       "5                   4                 30             NaN   \n",
       "6                   6                  3             NaN   \n",
       "7                   6                 10             NaN   \n",
       "8                   6                 30             NaN   \n",
       "9                   8                  3             NaN   \n",
       "10                  8                 10             NaN   \n",
       "11                  8                 30             NaN   \n",
       "12                  2                  3           False   \n",
       "13                  2                 10           False   \n",
       "14                  3                  3           False   \n",
       "15                  3                 10           False   \n",
       "16                  4                  3           False   \n",
       "17                  4                 10           False   \n",
       "\n",
       "                                               params  split0_test_score  \\\n",
       "0              {'max_features': 2, 'n_estimators': 3}      -3.750295e+09   \n",
       "1             {'max_features': 2, 'n_estimators': 10}      -3.033043e+09   \n",
       "2             {'max_features': 2, 'n_estimators': 30}      -2.701835e+09   \n",
       "3              {'max_features': 4, 'n_estimators': 3}      -3.584705e+09   \n",
       "4             {'max_features': 4, 'n_estimators': 10}      -2.714081e+09   \n",
       "5             {'max_features': 4, 'n_estimators': 30}      -2.436830e+09   \n",
       "6              {'max_features': 6, 'n_estimators': 3}      -3.501828e+09   \n",
       "7             {'max_features': 6, 'n_estimators': 10}      -2.736164e+09   \n",
       "8             {'max_features': 6, 'n_estimators': 30}      -2.437952e+09   \n",
       "9              {'max_features': 8, 'n_estimators': 3}      -3.507307e+09   \n",
       "10            {'max_features': 8, 'n_estimators': 10}      -2.584970e+09   \n",
       "11            {'max_features': 8, 'n_estimators': 30}      -2.411601e+09   \n",
       "12  {'bootstrap': False, 'max_features': 2, 'n_est...      -3.879546e+09   \n",
       "13  {'bootstrap': False, 'max_features': 2, 'n_est...      -2.951867e+09   \n",
       "14  {'bootstrap': False, 'max_features': 3, 'n_est...      -3.306707e+09   \n",
       "15  {'bootstrap': False, 'max_features': 3, 'n_est...      -2.712346e+09   \n",
       "16  {'bootstrap': False, 'max_features': 4, 'n_est...      -3.405923e+09   \n",
       "17  {'bootstrap': False, 'max_features': 4, 'n_est...      -2.631965e+09   \n",
       "\n",
       "    split1_test_score  split2_test_score  split3_test_score  \\\n",
       "0       -4.034574e+09      -3.637468e+09      -4.044719e+09   \n",
       "1       -2.807541e+09      -3.000811e+09      -2.954547e+09   \n",
       "2       -2.722674e+09      -2.715962e+09      -2.761516e+09   \n",
       "3       -3.322905e+09      -3.472318e+09      -3.740774e+09   \n",
       "4       -2.724291e+09      -2.622502e+09      -2.689097e+09   \n",
       "5       -2.418861e+09      -2.498518e+09      -2.526039e+09   \n",
       "6       -3.220939e+09      -3.630789e+09      -3.455507e+09   \n",
       "7       -2.519199e+09      -2.578638e+09      -2.593787e+09   \n",
       "8       -2.319249e+09      -2.422880e+09      -2.409645e+09   \n",
       "9       -3.236924e+09      -3.381897e+09      -3.004138e+09   \n",
       "10      -2.533353e+09      -2.747545e+09      -2.529094e+09   \n",
       "11      -2.336863e+09      -2.473658e+09      -2.428968e+09   \n",
       "12      -3.638053e+09      -3.844453e+09      -3.992696e+09   \n",
       "13      -2.862527e+09      -2.894083e+09      -2.825130e+09   \n",
       "14      -3.517370e+09      -3.751705e+09      -3.494705e+09   \n",
       "15      -2.565143e+09      -2.580513e+09      -2.565991e+09   \n",
       "16      -3.396869e+09      -3.230930e+09      -3.525710e+09   \n",
       "17      -2.423490e+09      -2.669345e+09      -2.691020e+09   \n",
       "\n",
       "    split4_test_score  mean_test_score  std_test_score  rank_test_score  \n",
       "0       -4.128162e+09    -3.919044e+09    1.900699e+08               18  \n",
       "1       -3.127717e+09    -2.984732e+09    1.052093e+08               11  \n",
       "2       -2.852343e+09    -2.750866e+09    5.445764e+07                9  \n",
       "3       -3.665288e+09    -3.557198e+09    1.471312e+08               16  \n",
       "4       -2.825748e+09    -2.715144e+09    6.569488e+07                8  \n",
       "5       -2.600485e+09    -2.496147e+09    6.523386e+07                3  \n",
       "6       -3.634713e+09    -3.488755e+09    1.513139e+08               14  \n",
       "7       -2.658581e+09    -2.617274e+09    7.416776e+07                4  \n",
       "8       -2.589883e+09    -2.435922e+09    8.738575e+07                1  \n",
       "9       -3.475981e+09    -3.321249e+09    1.843408e+08               12  \n",
       "10      -2.841340e+09    -2.647260e+09    1.253333e+08                7  \n",
       "11      -2.591656e+09    -2.448549e+09    8.406264e+07                2  \n",
       "12      -3.923583e+09    -3.855666e+09    1.195334e+08               17  \n",
       "13      -2.876663e+09    -2.882054e+09    4.163945e+07               10  \n",
       "14      -3.709425e+09    -3.555982e+09    1.607707e+08               15  \n",
       "15      -2.779770e+09    -2.640753e+09    8.875388e+07                6  \n",
       "16      -3.615205e+09    -3.434927e+09    1.301121e+08               13  \n",
       "17      -2.731326e+09    -2.629429e+09    1.078769e+08                5  "
      ]
     },
     "execution_count": 72,
     "metadata": {},
     "output_type": "execute_result"
    }
   ],
   "source": [
    "pd.DataFrame(grid_search.cv_results_)"
   ]
  },
  {
   "cell_type": "code",
   "execution_count": 73,
   "metadata": {},
   "outputs": [
    {
     "data": {
      "text/plain": [
       "RandomizedSearchCV(cv=5, error_score=nan,\n",
       "                   estimator=RandomForestRegressor(bootstrap=True,\n",
       "                                                   ccp_alpha=0.0,\n",
       "                                                   criterion='mse',\n",
       "                                                   max_depth=None,\n",
       "                                                   max_features='auto',\n",
       "                                                   max_leaf_nodes=None,\n",
       "                                                   max_samples=None,\n",
       "                                                   min_impurity_decrease=0.0,\n",
       "                                                   min_impurity_split=None,\n",
       "                                                   min_samples_leaf=1,\n",
       "                                                   min_samples_split=2,\n",
       "                                                   min_weight_fraction_leaf=0.0,\n",
       "                                                   n_estimators=100,\n",
       "                                                   n_jobs=None, oob_score=Fals...\n",
       "                   iid='deprecated', n_iter=10, n_jobs=None,\n",
       "                   param_distributions={'max_features': <scipy.stats._distn_infrastructure.rv_frozen object at 0x000001C3DD6A8A88>,\n",
       "                                        'n_estimators': <scipy.stats._distn_infrastructure.rv_frozen object at 0x000001C3DD6A8808>},\n",
       "                   pre_dispatch='2*n_jobs', random_state=29, refit=True,\n",
       "                   return_train_score=False, scoring='neg_mean_squared_error',\n",
       "                   verbose=0)"
      ]
     },
     "execution_count": 73,
     "metadata": {},
     "output_type": "execute_result"
    }
   ],
   "source": [
    "from sklearn.model_selection import RandomizedSearchCV\n",
    "from scipy.stats import randint\n",
    "\n",
    "params_distibs = {\n",
    "    'n_estimators': randint(low=1, high=200),\n",
    "    'max_features': randint(low=1, high=8),\n",
    "}\n",
    "\n",
    "rf_reg = RandomForestRegressor(random_state=29)\n",
    "\n",
    "rnd_search = RandomizedSearchCV(rf_reg, param_distributions=params_distibs, n_iter=10, \n",
    "                                cv=5, scoring=\"neg_mean_squared_error\", random_state=29)\n",
    "\n",
    "rnd_search.fit(housing_prepared, housing_labels)"
   ]
  },
  {
   "cell_type": "code",
   "execution_count": 74,
   "metadata": {},
   "outputs": [
    {
     "name": "stdout",
     "output_type": "stream",
     "text": [
      "48554.90771026735 {'max_features': 6, 'n_estimators': 116}\n",
      "49443.4111089091 {'max_features': 5, 'n_estimators': 35}\n",
      "53570.270118359476 {'max_features': 1, 'n_estimators': 97}\n",
      "50902.04894946984 {'max_features': 2, 'n_estimators': 114}\n",
      "53580.197475159825 {'max_features': 1, 'n_estimators': 98}\n",
      "48632.86288202718 {'max_features': 7, 'n_estimators': 95}\n",
      "53454.92589163202 {'max_features': 1, 'n_estimators': 156}\n",
      "48524.07648848737 {'max_features': 6, 'n_estimators': 149}\n",
      "48560.33445659694 {'max_features': 7, 'n_estimators': 152}\n",
      "53446.59972905179 {'max_features': 1, 'n_estimators': 165}\n"
     ]
    }
   ],
   "source": [
    "cvres = rnd_search.cv_results_\n",
    "\n",
    "for mean_score, params in zip(cvres[\"mean_test_score\"], cvres[\"params\"]):\n",
    "    print(np.sqrt(-mean_score), params)"
   ]
  },
  {
   "cell_type": "code",
   "execution_count": 75,
   "metadata": {},
   "outputs": [
    {
     "data": {
      "text/plain": [
       "array([7.71316734e-02, 7.13680145e-02, 4.34679877e-02, 1.84654668e-02,\n",
       "       1.56604209e-02, 1.68488876e-02, 1.56062298e-02, 3.15892738e-01,\n",
       "       5.90938852e-02, 1.07589186e-01, 8.76049946e-02, 1.73314168e-02,\n",
       "       1.42922852e-01, 2.68857013e-04, 5.34134433e-03, 5.40604535e-03])"
      ]
     },
     "execution_count": 75,
     "metadata": {},
     "output_type": "execute_result"
    }
   ],
   "source": [
    "feature_importances = grid_search.best_estimator_.feature_importances_\n",
    "feature_importances"
   ]
  },
  {
   "cell_type": "code",
   "execution_count": 76,
   "metadata": {},
   "outputs": [
    {
     "data": {
      "text/plain": [
       "[(0.3158927384441788, 'median_income'),\n",
       " (0.14292285187642892, 'INLAND'),\n",
       " (0.10758918568173603, 'pop_per_hhold'),\n",
       " (0.0876049946349582, 'bedrooms_per_room'),\n",
       " (0.0771316733947972, 'longitude'),\n",
       " (0.07136801447263551, 'latitude'),\n",
       " (0.05909388516979174, 'rooms_per_hhold'),\n",
       " (0.043467987733471325, 'housing_median_age'),\n",
       " (0.018465466789157836, 'total_rooms'),\n",
       " (0.01733141683307187, '<1H OCEAN'),\n",
       " (0.016848887577438958, 'population'),\n",
       " (0.015660420935981856, 'total_bedrooms'),\n",
       " (0.015606229761945721, 'households'),\n",
       " (0.005406045353403018, 'NEAR OCEAN'),\n",
       " (0.00534134432834972, 'NEAR BAY'),\n",
       " (0.0002688570126534122, 'ISLAND')]"
      ]
     },
     "execution_count": 76,
     "metadata": {},
     "output_type": "execute_result"
    }
   ],
   "source": [
    "extra_attribs = [\"rooms_per_hhold\", \"pop_per_hhold\", \"bedrooms_per_room\"]\n",
    "cat_encoder = cat_pipeline.named_steps[\"cat_encoder\"]\n",
    "cat_one_hot_attribs = list(cat_encoder.categories_[0])\n",
    "attributes = num_attribs + extra_attribs + cat_one_hot_attribs\n",
    "sorted(zip(feature_importances, attributes), reverse=True)"
   ]
  },
  {
   "cell_type": "code",
   "execution_count": 77,
   "metadata": {},
   "outputs": [],
   "source": [
    "final_model = grid_search.best_estimator_\n",
    "\n",
    "X_test = strat_test_set.drop(\"median_house_value\", axis=1)\n",
    "y_test = strat_test_set[\"median_house_value\"].copy()\n",
    "\n",
    "X_test_prepared = full_pipeline.transform(X_test)\n",
    "final_predictions = final_model.predict(X_test_prepared)\n",
    "\n",
    "final_mse = mean_squared_error(y_test, final_predictions)\n",
    "final_rmse = np.sqrt(final_mse)"
   ]
  },
  {
   "cell_type": "code",
   "execution_count": 78,
   "metadata": {},
   "outputs": [
    {
     "data": {
      "text/plain": [
       "50382.136754801926"
      ]
     },
     "execution_count": 78,
     "metadata": {},
     "output_type": "execute_result"
    }
   ],
   "source": [
    "final_rmse"
   ]
  }
 ],
 "metadata": {
  "kernelspec": {
   "display_name": "Python 3",
   "language": "python",
   "name": "python3"
  },
  "language_info": {
   "codemirror_mode": {
    "name": "ipython",
    "version": 3
   },
   "file_extension": ".py",
   "mimetype": "text/x-python",
   "name": "python",
   "nbconvert_exporter": "python",
   "pygments_lexer": "ipython3",
   "version": "3.7.4"
  }
 },
 "nbformat": 4,
 "nbformat_minor": 2
}
