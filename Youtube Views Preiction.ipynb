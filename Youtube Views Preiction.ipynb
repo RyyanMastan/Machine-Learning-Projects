{
 "cells": [
  {
   "cell_type": "markdown",
   "metadata": {
    "colab_type": "text",
    "id": "XVvbAcEYuBm9"
   },
   "source": [
    "<a id=section1></a>\n",
    "# 1. Problem Statement"
   ]
  },
  {
   "cell_type": "markdown",
   "metadata": {
    "colab_type": "text",
    "id": "yKqk3jdFuBm-"
   },
   "source": [
    "The objective of the problem is to predict values “Views” attribute from the given features of the Test data. "
   ]
  },
  {
   "cell_type": "markdown",
   "metadata": {
    "colab_type": "text",
    "id": "uSNOiIKWuBm_"
   },
   "source": [
    "<a id=section2></a>\n",
    "# 2. Importing Packages"
   ]
  },
  {
   "cell_type": "code",
   "execution_count": null,
   "metadata": {
    "colab": {},
    "colab_type": "code",
    "id": "D260ESLXuBnA"
   },
   "outputs": [],
   "source": [
    "import numpy as np                     \n",
    "\n",
    "import pandas as pd\n",
    "\n",
    "# To suppress pandas warnings.\n",
    "pd.set_option('mode.chained_assignment', None) \n",
    "\n",
    "# To display all the data in each column\n",
    "pd.set_option('display.max_colwidth', -1)         \n",
    "\n",
    "pd.get_option(\"display.max_rows\",10000)\n",
    "\n",
    "# To display every column of the dataset in head()\n",
    "pd.options.display.max_columns = 100               \n",
    "\n",
    "import warnings\n",
    "warnings.filterwarnings('ignore')     "
   ]
  },
  {
   "cell_type": "code",
   "execution_count": null,
   "metadata": {
    "colab": {},
    "colab_type": "code",
    "id": "UGuvARRluBnE"
   },
   "outputs": [],
   "source": [
    "import matplotlib.pyplot as plt\n",
    "%matplotlib inline\n",
    "\n",
    "# To apply seaborn styles to the plots.\n",
    "import seaborn as sns\n",
    "sns.set(style='whitegrid', font_scale=1.3, color_codes=True)      "
   ]
  },
  {
   "cell_type": "markdown",
   "metadata": {
    "colab_type": "text",
    "id": "hlZMR7F_uBnH"
   },
   "source": [
    "<a id=section3></a>\n",
    "\n",
    "# 3. Loading Data"
   ]
  },
  {
   "cell_type": "code",
   "execution_count": null,
   "metadata": {
    "colab": {
     "base_uri": "https://localhost:8080/",
     "height": 514
    },
    "colab_type": "code",
    "id": "JRDgBaAMuBnI",
    "outputId": "25bb601a-d1d8-487a-caab-a1a5ec9036f1",
    "scrolled": true
   },
   "outputs": [
    {
     "name": "stdout",
     "output_type": "stream",
     "text": [
      "(3198, 20)\n",
      "(1335, 17)\n"
     ]
    }
   ],
   "source": [
    "# loading data from csv file to a data frame\n",
    "df_train = pd.read_csv('./data/train.csv', index_col = \"Video_id\")\n",
    "df_test = pd.read_csv('./data/test.csv', index_col = \"Video_id\")\n",
    "\n",
    "print(df_train.shape)\n",
    "print(df_test.shape)"
   ]
  },
  {
   "cell_type": "markdown",
   "metadata": {
    "colab_type": "text",
    "id": "iWF4fdYOF3xD"
   },
   "source": [
    "**NOTE :** we observe mismatch in numbers of columns in train and test. lets find out them."
   ]
  },
  {
   "cell_type": "code",
   "execution_count": null,
   "metadata": {
    "colab": {},
    "colab_type": "code",
    "id": "5Z--WQhqF3xE",
    "outputId": "9caad014-96bb-4f11-ea22-0346a0d80f51"
   },
   "outputs": [
    {
     "data": {
      "text/plain": [
       "{'Unnamed: 19', 'Unnamed: 20', 'views'}"
      ]
     },
     "execution_count": 23,
     "metadata": {
      "tags": []
     },
     "output_type": "execute_result"
    }
   ],
   "source": [
    "set(df_train.columns) - set(df_test.columns)"
   ]
  },
  {
   "cell_type": "markdown",
   "metadata": {
    "colab_type": "text",
    "id": "yitb-kKHF3xI"
   },
   "source": [
    "**NOTE :**\n",
    "\n",
    "1. **views** ia target variable, we can ignore it.\n",
    "2. let's understand remaining columns i.e;'Unnamed: 19', 'Unnamed: 20'"
   ]
  },
  {
   "cell_type": "code",
   "execution_count": null,
   "metadata": {
    "colab": {},
    "colab_type": "code",
    "id": "YYsF77h-F3xJ",
    "outputId": "e5a402a5-ecae-44a3-f618-8684334eb920",
    "scrolled": true
   },
   "outputs": [
    {
     "data": {
      "text/plain": [
       "2544.0    1\n",
       "Name: Unnamed: 19, dtype: int64"
      ]
     },
     "execution_count": 24,
     "metadata": {
      "tags": []
     },
     "output_type": "execute_result"
    }
   ],
   "source": [
    "df_train['Unnamed: 19'].value_counts()"
   ]
  },
  {
   "cell_type": "code",
   "execution_count": null,
   "metadata": {
    "colab": {},
    "colab_type": "code",
    "id": "O02p1aNVF3xN",
    "outputId": "32b6c45f-fb4d-41fc-a521-e2314760727b",
    "scrolled": true
   },
   "outputs": [
    {
     "data": {
      "text/plain": [
       "False    1\n",
       "Name: Unnamed: 20, dtype: int64"
      ]
     },
     "execution_count": 25,
     "metadata": {
      "tags": []
     },
     "output_type": "execute_result"
    }
   ],
   "source": [
    "df_train['Unnamed: 20'].value_counts()"
   ]
  },
  {
   "cell_type": "markdown",
   "metadata": {
    "colab_type": "text",
    "id": "h3j1uYJqF3xR"
   },
   "source": [
    "**NOTE :** We observe **Unnamed: 19, Unnamed: 20** has values in only one row. let's delete that row data  and make train data clean and columns as well."
   ]
  },
  {
   "cell_type": "code",
   "execution_count": null,
   "metadata": {
    "colab": {},
    "colab_type": "code",
    "id": "XGtbx4C3F3xR",
    "outputId": "5305a589-6251-46ba-ac54-54a6d8260e76"
   },
   "outputs": [
    {
     "data": {
      "text/plain": [
       "(3198, 18)"
      ]
     },
     "execution_count": 28,
     "metadata": {
      "tags": []
     },
     "output_type": "execute_result"
    }
   ],
   "source": [
    "df_train = df_train[(df_train['Unnamed: 19'] != '2544.0') | (df_train['Unnamed: 20'] != False)]\n",
    "df_train.drop(['Unnamed: 19', 'Unnamed: 20'], axis = 1, inplace = True)\n",
    "df_train.shape"
   ]
  },
  {
   "cell_type": "code",
   "execution_count": null,
   "metadata": {
    "colab": {},
    "colab_type": "code",
    "id": "TEUsoMWeF3xV",
    "outputId": "a2fbc3e5-6cd8-45bb-9e60-4af41bf4afae"
   },
   "outputs": [
    {
     "data": {
      "text/html": [
       "<div>\n",
       "<style scoped>\n",
       "    .dataframe tbody tr th:only-of-type {\n",
       "        vertical-align: middle;\n",
       "    }\n",
       "\n",
       "    .dataframe tbody tr th {\n",
       "        vertical-align: top;\n",
       "    }\n",
       "\n",
       "    .dataframe thead th {\n",
       "        text-align: right;\n",
       "    }\n",
       "</style>\n",
       "<table border=\"1\" class=\"dataframe\">\n",
       "  <thead>\n",
       "    <tr style=\"text-align: right;\">\n",
       "      <th></th>\n",
       "      <th>Is_Test_Data</th>\n",
       "      <th>Tag_count</th>\n",
       "      <th>Trend_day_count</th>\n",
       "      <th>Trend_tag_count</th>\n",
       "      <th>category_id</th>\n",
       "      <th>channel_title</th>\n",
       "      <th>comment_count</th>\n",
       "      <th>comment_disabled</th>\n",
       "      <th>description</th>\n",
       "      <th>dislike</th>\n",
       "      <th>like dislike disabled</th>\n",
       "      <th>likes</th>\n",
       "      <th>publish_date</th>\n",
       "      <th>subscriber</th>\n",
       "      <th>tag appered in title</th>\n",
       "      <th>tags</th>\n",
       "      <th>title</th>\n",
       "      <th>trending_date</th>\n",
       "      <th>views</th>\n",
       "    </tr>\n",
       "    <tr>\n",
       "      <th>Video_id</th>\n",
       "      <th></th>\n",
       "      <th></th>\n",
       "      <th></th>\n",
       "      <th></th>\n",
       "      <th></th>\n",
       "      <th></th>\n",
       "      <th></th>\n",
       "      <th></th>\n",
       "      <th></th>\n",
       "      <th></th>\n",
       "      <th></th>\n",
       "      <th></th>\n",
       "      <th></th>\n",
       "      <th></th>\n",
       "      <th></th>\n",
       "      <th></th>\n",
       "      <th></th>\n",
       "      <th></th>\n",
       "      <th></th>\n",
       "    </tr>\n",
       "  </thead>\n",
       "  <tbody>\n",
       "    <tr>\n",
       "      <th>HDR9SQc79</th>\n",
       "      <td>0</td>\n",
       "      <td>21</td>\n",
       "      <td>6.0</td>\n",
       "      <td>6</td>\n",
       "      <td>22</td>\n",
       "      <td>CaseyNeistat</td>\n",
       "      <td></td>\n",
       "      <td>falSE</td>\n",
       "      <td>SHANTELL'S CHANNEL - https://www.youtube.com/shantellmartin\\nCANDICE - https://www.lovebilly.com\\n\\n'Diamond Veins (Blowsom remix)' by French 79 http://hyperurl.co/DiamondVeinsRMX\\n'Moon' by Kid Francescoli http://hyperurl.co/KID_PlayMeAgain\\n\\nfilmed this video in 4k on this -- http://amzn.to/2sTDnRZ\\nwith this lens -- http://amzn.to/2rUJOmD\\nbig drone - http://tinyurl.com/h4ft3oy\\nOTHER GEAR ---  http://amzn.to/2o3GLX5\\nSony CAMERA http://amzn.to/2nOBmnv\\nOLD CAMERA</td>\n",
       "      <td>6089</td>\n",
       "      <td>falSE</td>\n",
       "      <td>13342</td>\n",
       "      <td>2017-11-13</td>\n",
       "      <td>9086142.0</td>\n",
       "      <td>False</td>\n",
       "      <td>SHANtell martin</td>\n",
       "      <td>WE WANT TO TALK ABOUT OUR MARRIAGE</td>\n",
       "      <td>2017-11-20</td>\n",
       "      <td>1978978</td>\n",
       "    </tr>\n",
       "    <tr>\n",
       "      <th>KNH52UF?48</th>\n",
       "      <td>0</td>\n",
       "      <td>23</td>\n",
       "      <td>1.0</td>\n",
       "      <td>1</td>\n",
       "      <td>24</td>\n",
       "      <td>LastWeekTonight</td>\n",
       "      <td>116266</td>\n",
       "      <td>TrUe</td>\n",
       "      <td>One year after the presidential election, John Oliver discusses what we've learned so far and enlists our catheter cowboy to teach Donald Trump what he hasn't.\\n\\nConnect with Last Week Tonight online...\\n\\nSubscribe to the Last Week Tonight YouTube channel for more almost news as it almost happens: www.youtube.com/user/LastWeekTonight\\n\\nFind Last Week Tonight on Facebook like your mom would: http://Facebook.com/LastWeekTonight\\n\\nFollow us on Twitter for news about jokes and jokes about news: http://Twitter.com/LastWeekTonight\\n\\nVisit our official site for all that other stuff at once: http://www.hbo.com/lastweektonight</td>\n",
       "      <td>3044</td>\n",
       "      <td>FaLSE</td>\n",
       "      <td>5761</td>\n",
       "      <td>2017-11-13</td>\n",
       "      <td>5937292.0</td>\n",
       "      <td>False</td>\n",
       "      <td>last week tonight trump presidency|last week tonight donald trump|john oliver trump|donald trump</td>\n",
       "      <td>The Trump Presidency: Last Week Tonight with John Oliver (HBO)</td>\n",
       "      <td>2017-11-20</td>\n",
       "      <td>1487870</td>\n",
       "    </tr>\n",
       "    <tr>\n",
       "      <th>QTW28IRG36</th>\n",
       "      <td>0</td>\n",
       "      <td>22</td>\n",
       "      <td>10.0</td>\n",
       "      <td>3</td>\n",
       "      <td>23</td>\n",
       "      <td>Rudy Mancuso</td>\n",
       "      <td>257850</td>\n",
       "      <td>true</td>\n",
       "      <td>WATCH MY PREVIOUS VIDEO ▶ \\n\\nSUBSCRIBE ► https://www.youtube.com/channel/UC5jkXpfnBhlDjqh0ir5FsIQ?sub_confirmation=1\\n\\nTHANKS FOR WATCHING! LIKE &amp; SUBSCRIBE FOR MORE VIDEOS!\\n-----------------------------------------------------------\\nFIND ME ON: \\nInstagram | http://instagram.com/rudymancuso\\nTwitter | http://twitter.com/rudymancuso\\nFacebook | http://facebook.com/rudymancuso\\n\\nCAST: \\nRudy Mancuso | http://youtube.com/c/rudymancuso\\nLele Pons | http://youtube.com/c/lelepons\\nKing Bach | https://youtube.com/user/BachelorsPadTv\\n\\nVideo Effects: \\nCaleb Natale | https://instagram.com/calebnatale\\n\\nPA:\\nPaulina Gregory\\n\\n\\nShots Studios Channels:\\nAlesso | https://youtube.com/c/alesso\\nAnitta | http://youtube.com/c/anitta\\nAnwar Jibawi | http://youtube.com/c/anwar\\nAwkward Puppets | http://youtube.com/c/awkwardpuppets\\nHannah Stocking | http://youtube.com/c/hannahstocking\\nInanna Sarkis | http://youtube.com/c/inanna\\nLele Pons | http://youtube.com/c/lelepons\\nMaejor | http://youtube.com/c/maejor\\nMike Tyson | http://youtube.com/c/miketyson \\nRudy Mancuso | http://youtube.com/c/rudymancuso\\nShots Studios | http://youtube.com/c/shots\\n\\n#Rudy\\n#RudyMancuso</td>\n",
       "      <td>0</td>\n",
       "      <td>TRUE</td>\n",
       "      <td>0</td>\n",
       "      <td>2017-11-12</td>\n",
       "      <td>4191209.0</td>\n",
       "      <td>True</td>\n",
       "      <td>racist superman|rudy|mancuso|king|bach|racist|superman|love|rudy mancuso poo bear black white official music video|iphone x by pineapple|lelepons|hannahstocking|rudymancuso|inanna|anwar|sarkis|shots|shotsstudios|alesso|anitta|brazil|Getting My Driver's License | Lele Pons</td>\n",
       "      <td>Racist Superman | Rudy Mancuso, King Bach &amp; Lele Pons</td>\n",
       "      <td>2017-11-20</td>\n",
       "      <td>1502102</td>\n",
       "    </tr>\n",
       "    <tr>\n",
       "      <th>MGL76WI]26</th>\n",
       "      <td>0</td>\n",
       "      <td>17</td>\n",
       "      <td>12.0</td>\n",
       "      <td>5</td>\n",
       "      <td>24</td>\n",
       "      <td>Good Mythical Morning</td>\n",
       "      <td>263939</td>\n",
       "      <td>true</td>\n",
       "      <td>Today we find out if Link is a Nickelback amateur or a secret Nickelback devotee. GMM #1218\\nDon't miss an all new Ear Biscuits: https://goo.gl/xeZNQt\\nWatch Part 4: https://youtu.be/MhCdiiB8CQg | Watch Part 2: https://youtu.be/7qiOrNao9fg\\nWatch today's episode from the start: http://bit.ly/GMM1218\\n\\nPick up all of the official GMM merch only at https://mythical.store\\n\\nFollow Rhett &amp; Link: \\nInstagram: https://instagram.com/rhettandlink\\nFacebook: https://facebook.com/rhettandlink\\nTwitter: https://twitter.com/rhettandlink\\nTumblr: https://rhettandlink.tumblr.com\\nSnapchat: @realrhettlink\\nWebsite: https://mythical.co/\\n\\nCheck Out Our Other Mythical Channels:\\nGood Mythical MORE: https://youtube.com/goodmythicalmore\\nRhett &amp; Link: https://youtube.com/rhettandlink\\nThis Is Mythical: https://youtube.com/thisismythical\\nEar Biscuits: https://applepodcasts.com/earbiscuits\\n\\nWant to send us something? https://mythical.co/contact\\nHave you made a Wheel of Mythicality intro video? Submit it here: https://bit.ly/GMMWheelIntro\\n\\nIntro Animation by Digital Twigs: https://www.digitaltwigs.com\\nIntro &amp; Outro Music by Jeff Zeigler &amp; Sarah Schimeneck https://www.jeffzeigler.com\\nWheel of Mythicality theme: https://www.royaltyfreemusiclibrary.com/\\nAll Supplemental Music fromOpus 1 Music: https://opus1.sourceaudio.com/\\nWe use ‘The Mouse’ by Blue Microphones https://www.bluemic.com/mouse/</td>\n",
       "      <td>0</td>\n",
       "      <td>True</td>\n",
       "      <td>0</td>\n",
       "      <td>2017-11-13</td>\n",
       "      <td>13186408.0</td>\n",
       "      <td>True</td>\n",
       "      <td>rhett and link|gmm|good mythical morning|rhett and link good mythical morning|good mythical morning rhett and link|mythical morning|Season 12|nickelback lyrics|nickelback lyrics real or fake|nickelback|nickelback songs|nickelback song|rhett link nickelback|gmm nickelback|lyrics (website category)|nickelback (musical group)|rock|music|lyrics|chad kroeger|music (industry)|mythical|gmm challenge|comedy|funny|the betrayal|the betrayal act III|how you remind me</td>\n",
       "      <td>Nickelback Lyrics: Real or Fake?</td>\n",
       "      <td>2017-11-20</td>\n",
       "      <td>3519302</td>\n",
       "    </tr>\n",
       "    <tr>\n",
       "      <th>TWP93KXT70</th>\n",
       "      <td>0</td>\n",
       "      <td>15</td>\n",
       "      <td>11.0</td>\n",
       "      <td>7</td>\n",
       "      <td>224</td>\n",
       "      <td>nigahiga</td>\n",
       "      <td>268085</td>\n",
       "      <td>True</td>\n",
       "      <td>I know it's been a while since we did this show, but we're back with what might be the best episode yet!\\nLeave your dares in the comment section! \\n\\nOrder my book how to write good \\nhttp://higatv.com/ryan-higas-how-to-write-good-pre-order-links/\\n\\nJust Launched New Official Store\\nhttps://www.gianthugs.com/collections/ryan\\n\\nHigaTV Channel\\nhttp://www.youtube.com/higatv\\n\\nTwitter\\nhttp://www.twitter.com/therealryanhiga\\n\\nFacebook\\nhttp://www.facebook.com/higatv\\n\\nWebsite\\nhttp://www.higatv.com\\n\\nInstagram\\nhttp://www.instagram.com/notryanhiga\\n\\nSend us mail or whatever you want here!\\nPO Box 232355\\nLas Vegas, NV 89105</td>\n",
       "      <td>0</td>\n",
       "      <td>TRUE</td>\n",
       "      <td>0</td>\n",
       "      <td>2017-11-12</td>\n",
       "      <td>20563106.0</td>\n",
       "      <td>True</td>\n",
       "      <td>ryan|higa|higatv|nigahiga|i dare you|idy|rhpc|dares|no truth|comments|comedy|funny|stupid|fail</td>\n",
       "      <td>I Dare You: GOING BALD!?</td>\n",
       "      <td>2017-11-19</td>\n",
       "      <td>4835374</td>\n",
       "    </tr>\n",
       "  </tbody>\n",
       "</table>\n",
       "</div>"
      ],
      "text/plain": [
       "            Is_Test_Data Tag_count  Trend_day_count Trend_tag_count  \\\n",
       "Video_id                                                              \n",
       "HDR9SQc79   0             21        6.0              6                \n",
       "KNH52UF?48  0             23        1.0              1                \n",
       "QTW28IRG36  0             22        10.0             3                \n",
       "MGL76WI]26  0             17        12.0             5                \n",
       "TWP93KXT70  0             15        11.0             7                \n",
       "\n",
       "           category_id          channel_title comment_count comment_disabled  \\\n",
       "Video_id                                                                       \n",
       "HDR9SQc79   22          CaseyNeistat                         falSE             \n",
       "KNH52UF?48  24          LastWeekTonight        116266        TrUe              \n",
       "QTW28IRG36  23          Rudy Mancuso           257850        true              \n",
       "MGL76WI]26  24          Good Mythical Morning  263939        true              \n",
       "TWP93KXT70  224         nigahiga               268085        True              \n",
       "\n",
       "                                                                                                                                                                                                                                                                                                                                                                                                                                                                                                                                                                                                                                                                                                                                                                                                                                                                                                                                                                                                                                                                                                                                                                                                                                                                                                                                                                                                                                                            description  \\\n",
       "Video_id                                                                                                                                                                                                                                                                                                                                                                                                                                                                                                                                                                                                                                                                                                                                                                                                                                                                                                                                                                                                                                                                                                                                                                                                                                                                                                                                                                                                                                                                  \n",
       "HDR9SQc79   SHANTELL'S CHANNEL - https://www.youtube.com/shantellmartin\\nCANDICE - https://www.lovebilly.com\\n\\n'Diamond Veins (Blowsom remix)' by French 79 http://hyperurl.co/DiamondVeinsRMX\\n'Moon' by Kid Francescoli http://hyperurl.co/KID_PlayMeAgain\\n\\nfilmed this video in 4k on this -- http://amzn.to/2sTDnRZ\\nwith this lens -- http://amzn.to/2rUJOmD\\nbig drone - http://tinyurl.com/h4ft3oy\\nOTHER GEAR ---  http://amzn.to/2o3GLX5\\nSony CAMERA http://amzn.to/2nOBmnv\\nOLD CAMERA                                                                                                                                                                                                                                                                                                                                                                                                                                                                                                                                                                                                                                                                                                                                                                                                                                                                                                                                                                      \n",
       "KNH52UF?48  One year after the presidential election, John Oliver discusses what we've learned so far and enlists our catheter cowboy to teach Donald Trump what he hasn't.\\n\\nConnect with Last Week Tonight online...\\n\\nSubscribe to the Last Week Tonight YouTube channel for more almost news as it almost happens: www.youtube.com/user/LastWeekTonight\\n\\nFind Last Week Tonight on Facebook like your mom would: http://Facebook.com/LastWeekTonight\\n\\nFollow us on Twitter for news about jokes and jokes about news: http://Twitter.com/LastWeekTonight\\n\\nVisit our official site for all that other stuff at once: http://www.hbo.com/lastweektonight                                                                                                                                                                                                                                                                                                                                                                                                                                                                                                                                                                                                                                                                                                                                                                                                        \n",
       "QTW28IRG36  WATCH MY PREVIOUS VIDEO ▶ \\n\\nSUBSCRIBE ► https://www.youtube.com/channel/UC5jkXpfnBhlDjqh0ir5FsIQ?sub_confirmation=1\\n\\nTHANKS FOR WATCHING! LIKE & SUBSCRIBE FOR MORE VIDEOS!\\n-----------------------------------------------------------\\nFIND ME ON: \\nInstagram | http://instagram.com/rudymancuso\\nTwitter | http://twitter.com/rudymancuso\\nFacebook | http://facebook.com/rudymancuso\\n\\nCAST: \\nRudy Mancuso | http://youtube.com/c/rudymancuso\\nLele Pons | http://youtube.com/c/lelepons\\nKing Bach | https://youtube.com/user/BachelorsPadTv\\n\\nVideo Effects: \\nCaleb Natale | https://instagram.com/calebnatale\\n\\nPA:\\nPaulina Gregory\\n\\n\\nShots Studios Channels:\\nAlesso | https://youtube.com/c/alesso\\nAnitta | http://youtube.com/c/anitta\\nAnwar Jibawi | http://youtube.com/c/anwar\\nAwkward Puppets | http://youtube.com/c/awkwardpuppets\\nHannah Stocking | http://youtube.com/c/hannahstocking\\nInanna Sarkis | http://youtube.com/c/inanna\\nLele Pons | http://youtube.com/c/lelepons\\nMaejor | http://youtube.com/c/maejor\\nMike Tyson | http://youtube.com/c/miketyson \\nRudy Mancuso | http://youtube.com/c/rudymancuso\\nShots Studios | http://youtube.com/c/shots\\n\\n#Rudy\\n#RudyMancuso                                                                                                                                                                                                                                     \n",
       "MGL76WI]26  Today we find out if Link is a Nickelback amateur or a secret Nickelback devotee. GMM #1218\\nDon't miss an all new Ear Biscuits: https://goo.gl/xeZNQt\\nWatch Part 4: https://youtu.be/MhCdiiB8CQg | Watch Part 2: https://youtu.be/7qiOrNao9fg\\nWatch today's episode from the start: http://bit.ly/GMM1218\\n\\nPick up all of the official GMM merch only at https://mythical.store\\n\\nFollow Rhett & Link: \\nInstagram: https://instagram.com/rhettandlink\\nFacebook: https://facebook.com/rhettandlink\\nTwitter: https://twitter.com/rhettandlink\\nTumblr: https://rhettandlink.tumblr.com\\nSnapchat: @realrhettlink\\nWebsite: https://mythical.co/\\n\\nCheck Out Our Other Mythical Channels:\\nGood Mythical MORE: https://youtube.com/goodmythicalmore\\nRhett & Link: https://youtube.com/rhettandlink\\nThis Is Mythical: https://youtube.com/thisismythical\\nEar Biscuits: https://applepodcasts.com/earbiscuits\\n\\nWant to send us something? https://mythical.co/contact\\nHave you made a Wheel of Mythicality intro video? Submit it here: https://bit.ly/GMMWheelIntro\\n\\nIntro Animation by Digital Twigs: https://www.digitaltwigs.com\\nIntro & Outro Music by Jeff Zeigler & Sarah Schimeneck https://www.jeffzeigler.com\\nWheel of Mythicality theme: https://www.royaltyfreemusiclibrary.com/\\nAll Supplemental Music fromOpus 1 Music: https://opus1.sourceaudio.com/\\nWe use ‘The Mouse’ by Blue Microphones https://www.bluemic.com/mouse/   \n",
       "TWP93KXT70  I know it's been a while since we did this show, but we're back with what might be the best episode yet!\\nLeave your dares in the comment section! \\n\\nOrder my book how to write good \\nhttp://higatv.com/ryan-higas-how-to-write-good-pre-order-links/\\n\\nJust Launched New Official Store\\nhttps://www.gianthugs.com/collections/ryan\\n\\nHigaTV Channel\\nhttp://www.youtube.com/higatv\\n\\nTwitter\\nhttp://www.twitter.com/therealryanhiga\\n\\nFacebook\\nhttp://www.facebook.com/higatv\\n\\nWebsite\\nhttp://www.higatv.com\\n\\nInstagram\\nhttp://www.instagram.com/notryanhiga\\n\\nSend us mail or whatever you want here!\\nPO Box 232355\\nLas Vegas, NV 89105                                                                                                                                                                                                                                                                                                                                                                                                                                                                                                                                                                                                                                                                                                                                                                                                  \n",
       "\n",
       "           dislike like dislike disabled  likes publish_date  subscriber  \\\n",
       "Video_id                                                                   \n",
       "HDR9SQc79   6089    falSE                 13342  2017-11-13   9086142.0    \n",
       "KNH52UF?48  3044    FaLSE                 5761   2017-11-13   5937292.0    \n",
       "QTW28IRG36  0       TRUE                  0      2017-11-12   4191209.0    \n",
       "MGL76WI]26  0       True                  0      2017-11-13   13186408.0   \n",
       "TWP93KXT70  0       TRUE                  0      2017-11-12   20563106.0   \n",
       "\n",
       "           tag appered in title  \\\n",
       "Video_id                          \n",
       "HDR9SQc79   False                 \n",
       "KNH52UF?48  False                 \n",
       "QTW28IRG36  True                  \n",
       "MGL76WI]26  True                  \n",
       "TWP93KXT70  True                  \n",
       "\n",
       "                                                                                                                                                                                                                                                                                                                                                                                                                                                                                    tags  \\\n",
       "Video_id                                                                                                                                                                                                                                                                                                                                                                                                                                                                                   \n",
       "HDR9SQc79   SHANtell martin                                                                                                                                                                                                                                                                                                                                                                                                                                                                \n",
       "KNH52UF?48  last week tonight trump presidency|last week tonight donald trump|john oliver trump|donald trump                                                                                                                                                                                                                                                                                                                                                                               \n",
       "QTW28IRG36  racist superman|rudy|mancuso|king|bach|racist|superman|love|rudy mancuso poo bear black white official music video|iphone x by pineapple|lelepons|hannahstocking|rudymancuso|inanna|anwar|sarkis|shots|shotsstudios|alesso|anitta|brazil|Getting My Driver's License | Lele Pons                                                                                                                                                                                               \n",
       "MGL76WI]26  rhett and link|gmm|good mythical morning|rhett and link good mythical morning|good mythical morning rhett and link|mythical morning|Season 12|nickelback lyrics|nickelback lyrics real or fake|nickelback|nickelback songs|nickelback song|rhett link nickelback|gmm nickelback|lyrics (website category)|nickelback (musical group)|rock|music|lyrics|chad kroeger|music (industry)|mythical|gmm challenge|comedy|funny|the betrayal|the betrayal act III|how you remind me   \n",
       "TWP93KXT70  ryan|higa|higatv|nigahiga|i dare you|idy|rhpc|dares|no truth|comments|comedy|funny|stupid|fail                                                                                                                                                                                                                                                                                                                                                                                 \n",
       "\n",
       "                                                                     title  \\\n",
       "Video_id                                                                     \n",
       "HDR9SQc79   WE WANT TO TALK ABOUT OUR MARRIAGE                               \n",
       "KNH52UF?48  The Trump Presidency: Last Week Tonight with John Oliver (HBO)   \n",
       "QTW28IRG36  Racist Superman | Rudy Mancuso, King Bach & Lele Pons            \n",
       "MGL76WI]26  Nickelback Lyrics: Real or Fake?                                 \n",
       "TWP93KXT70  I Dare You: GOING BALD!?                                         \n",
       "\n",
       "           trending_date    views  \n",
       "Video_id                           \n",
       "HDR9SQc79   2017-11-20    1978978  \n",
       "KNH52UF?48  2017-11-20    1487870  \n",
       "QTW28IRG36  2017-11-20    1502102  \n",
       "MGL76WI]26  2017-11-20    3519302  \n",
       "TWP93KXT70  2017-11-19    4835374  "
      ]
     },
     "execution_count": 29,
     "metadata": {
      "tags": []
     },
     "output_type": "execute_result"
    }
   ],
   "source": [
    "# Adding new column 'isTestData' so that we can easily separate train and test \n",
    "# data during prediction process\n",
    "df_train['Is_Test_Data'] = 0\n",
    "\n",
    "\n",
    "\n",
    "df_test['Is_Test_Data'] = 1\n",
    "\n",
    "# concat train and test data for data pre processing\n",
    "df_views_video = pd.concat([df_train,df_test])\n",
    "\n",
    "del df_train\n",
    "del df_test\n",
    "\n",
    "df_views_video.head()"
   ]
  },
  {
   "cell_type": "markdown",
   "metadata": {
    "colab_type": "text",
    "id": "B-MIdzP3uBnM"
   },
   "source": [
    "<a id=section301></a>\n",
    "## 3.1 Description of the Datasets"
   ]
  },
  {
   "cell_type": "markdown",
   "metadata": {
    "colab_type": "text",
    "id": "_m6FGfKbuBnN"
   },
   "source": [
    "#### a. Check shape"
   ]
  },
  {
   "cell_type": "code",
   "execution_count": null,
   "metadata": {
    "colab": {
     "base_uri": "https://localhost:8080/",
     "height": 34
    },
    "colab_type": "code",
    "id": "hHFSe47vuBnO",
    "outputId": "de74d59d-c230-4b7a-f25f-809d673bde24"
   },
   "outputs": [
    {
     "data": {
      "text/plain": [
       "(4533, 19)"
      ]
     },
     "execution_count": 30,
     "metadata": {
      "tags": []
     },
     "output_type": "execute_result"
    }
   ],
   "source": [
    "#shape of data\n",
    "df_views_video.shape"
   ]
  },
  {
   "cell_type": "markdown",
   "metadata": {
    "colab_type": "text",
    "id": "wf_UUQ2vuBnR"
   },
   "source": [
    "#### b. info\n",
    "\n",
    "Video_id:- ID of the uploaded video\n",
    "\n",
    "Publish_date:-Date when it was published\n",
    "\n",
    "Trending_date:- Last date it was trending on top 5 spot\n",
    "\n",
    "Category_id:- Category it belong\n",
    "\n",
    "Channel_Title:- Name of the title\n",
    "\n",
    "Suscriber:- Number of people who suscribed the channel\n",
    "Title:- Title of the video uploaded\n",
    "\n",
    "Tags:-Tags appered with the video\n",
    "\n",
    "Description:-Description of the video\n",
    "\n",
    "Trend_day_count:-Number of days video was trending\n",
    "\n",
    "Tag_count:-Number of tags in the video\n",
    "\n",
    "Trend_tag_count:- Number of tags trending among total tag\n",
    "\n",
    "Tag appered in title:-Does tag appered in video title\n",
    "\n",
    "views:- Total views on the video after 1 week.\n",
    "\n",
    "\n",
    "\n"
   ]
  },
  {
   "cell_type": "code",
   "execution_count": null,
   "metadata": {
    "colab": {
     "base_uri": "https://localhost:8080/",
     "height": 286
    },
    "colab_type": "code",
    "id": "Pix87vQWuBnS",
    "outputId": "9305c844-2870-4440-8cf5-1886f327506f",
    "scrolled": true
   },
   "outputs": [
    {
     "name": "stdout",
     "output_type": "stream",
     "text": [
      "<class 'pandas.core.frame.DataFrame'>\n",
      "Index: 4533 entries, HDR9SQc79 to LOI64QVq10\n",
      "Data columns (total 19 columns):\n",
      "Is_Test_Data             4533 non-null int64\n",
      "Tag_count                4532 non-null object\n",
      "Trend_day_count          4532 non-null float64\n",
      "Trend_tag_count          4532 non-null object\n",
      "category_id              4526 non-null object\n",
      "channel_title            4530 non-null object\n",
      "comment_count            4533 non-null object\n",
      "comment_disabled         4533 non-null object\n",
      "description              4443 non-null object\n",
      "dislike                  4533 non-null object\n",
      "like dislike disabled    4533 non-null object\n",
      "likes                    4533 non-null object\n",
      "publish_date             4531 non-null object\n",
      "subscriber               4502 non-null float64\n",
      "tag appered in title     4532 non-null object\n",
      "tags                     4324 non-null object\n",
      "title                    4530 non-null object\n",
      "trending_date            4531 non-null object\n",
      "views                    3198 non-null object\n",
      "dtypes: float64(2), int64(1), object(16)\n",
      "memory usage: 708.3+ KB\n"
     ]
    }
   ],
   "source": [
    "df_views_video.info()"
   ]
  },
  {
   "cell_type": "markdown",
   "metadata": {
    "colab_type": "text",
    "id": "SB6EdN8tuBnV"
   },
   "source": [
    "**Observations :**  \n",
    "\n",
    "1. We have few missing values."
   ]
  },
  {
   "cell_type": "markdown",
   "metadata": {
    "colab_type": "text",
    "id": "H_CCA-lquBnW"
   },
   "source": [
    "#### c. describe"
   ]
  },
  {
   "cell_type": "code",
   "execution_count": null,
   "metadata": {
    "colab": {
     "base_uri": "https://localhost:8080/"
    },
    "colab_type": "code",
    "id": "VJt2QWtauBnX",
    "outputId": "0f3a57d3-9bca-4dc1-9372-bd18bcf20814",
    "scrolled": true
   },
   "outputs": [
    {
     "data": {
      "text/html": [
       "<div>\n",
       "<style scoped>\n",
       "    .dataframe tbody tr th:only-of-type {\n",
       "        vertical-align: middle;\n",
       "    }\n",
       "\n",
       "    .dataframe tbody tr th {\n",
       "        vertical-align: top;\n",
       "    }\n",
       "\n",
       "    .dataframe thead th {\n",
       "        text-align: right;\n",
       "    }\n",
       "</style>\n",
       "<table border=\"1\" class=\"dataframe\">\n",
       "  <thead>\n",
       "    <tr style=\"text-align: right;\">\n",
       "      <th></th>\n",
       "      <th>Is_Test_Data</th>\n",
       "      <th>Trend_day_count</th>\n",
       "      <th>subscriber</th>\n",
       "    </tr>\n",
       "  </thead>\n",
       "  <tbody>\n",
       "    <tr>\n",
       "      <th>count</th>\n",
       "      <td>4533.000000</td>\n",
       "      <td>4532.000000</td>\n",
       "      <td>4.502000e+03</td>\n",
       "    </tr>\n",
       "    <tr>\n",
       "      <th>mean</th>\n",
       "      <td>0.294507</td>\n",
       "      <td>7.534863</td>\n",
       "      <td>3.571822e+06</td>\n",
       "    </tr>\n",
       "    <tr>\n",
       "      <th>std</th>\n",
       "      <td>0.455871</td>\n",
       "      <td>66.006302</td>\n",
       "      <td>2.420216e+07</td>\n",
       "    </tr>\n",
       "    <tr>\n",
       "      <th>min</th>\n",
       "      <td>0.000000</td>\n",
       "      <td>0.000000</td>\n",
       "      <td>0.000000e+00</td>\n",
       "    </tr>\n",
       "    <tr>\n",
       "      <th>25%</th>\n",
       "      <td>0.000000</td>\n",
       "      <td>4.000000</td>\n",
       "      <td>2.428800e+05</td>\n",
       "    </tr>\n",
       "    <tr>\n",
       "      <th>50%</th>\n",
       "      <td>0.000000</td>\n",
       "      <td>7.000000</td>\n",
       "      <td>1.195770e+06</td>\n",
       "    </tr>\n",
       "    <tr>\n",
       "      <th>75%</th>\n",
       "      <td>1.000000</td>\n",
       "      <td>10.000000</td>\n",
       "      <td>3.766915e+06</td>\n",
       "    </tr>\n",
       "    <tr>\n",
       "      <th>max</th>\n",
       "      <td>1.000000</td>\n",
       "      <td>4444.000000</td>\n",
       "      <td>1.576229e+09</td>\n",
       "    </tr>\n",
       "  </tbody>\n",
       "</table>\n",
       "</div>"
      ],
      "text/plain": [
       "       Is_Test_Data  Trend_day_count    subscriber\n",
       "count  4533.000000   4532.000000      4.502000e+03\n",
       "mean   0.294507      7.534863         3.571822e+06\n",
       "std    0.455871      66.006302        2.420216e+07\n",
       "min    0.000000      0.000000         0.000000e+00\n",
       "25%    0.000000      4.000000         2.428800e+05\n",
       "50%    0.000000      7.000000         1.195770e+06\n",
       "75%    1.000000      10.000000        3.766915e+06\n",
       "max    1.000000      4444.000000      1.576229e+09"
      ]
     },
     "execution_count": 33,
     "metadata": {
      "tags": []
     },
     "output_type": "execute_result"
    }
   ],
   "source": [
    "df_views_video.describe()"
   ]
  },
  {
   "cell_type": "markdown",
   "metadata": {
    "colab_type": "text",
    "id": "_KYpQsBDuBna"
   },
   "source": [
    "**Observations :** Looks like there are some outliers. Let's confirm same from pandas profiling in next step."
   ]
  },
  {
   "cell_type": "markdown",
   "metadata": {
    "colab_type": "text",
    "id": "05W5gAznuBnb"
   },
   "source": [
    " <a id=section302></a>\n",
    "## 3.2 Pandas Profiling before Data Preprocessing"
   ]
  },
  {
   "cell_type": "code",
   "execution_count": null,
   "metadata": {
    "colab": {},
    "colab_type": "code",
    "id": "PUQu6JjQuBnc"
   },
   "outputs": [],
   "source": [
    "# To install pandas profiling please run this command.\n",
    "\n",
    "#!pip install folium==0.2.1\n",
    "#!pip install pandas-profiling --upgrade"
   ]
  },
  {
   "cell_type": "code",
   "execution_count": null,
   "metadata": {
    "colab": {},
    "colab_type": "code",
    "id": "tbnkE8meuBnf"
   },
   "outputs": [],
   "source": [
    "import pandas_profiling\n",
    "\n",
    "# Running pandas profiling to get better understanding of data\n",
    "pandas_profiling.ProfileReport(df_views_video)"
   ]
  },
  {
   "cell_type": "markdown",
   "metadata": {
    "colab_type": "text",
    "id": "jjyJwVL_uBni"
   },
   "source": [
    " <a id=section4></a>\n",
    "# 4. Data Preprocessing"
   ]
  },
  {
   "cell_type": "markdown",
   "metadata": {
    "colab_type": "text",
    "id": "G16ZbSVYF3xw"
   },
   "source": [
    " <a id=section401></a>\n",
    "## 4.1 Remove columns with least variance in data"
   ]
  },
  {
   "cell_type": "markdown",
   "metadata": {
    "colab_type": "text",
    "id": "BBYbJb4ouBnk"
   },
   "source": [
    "###  **Unnamed: 19** and  **Unnamed: 20** has only one value . Lets drop them\n",
    "\n",
    "df_views_video.drop(['Unnamed: 19', 'Unnamed: 20'], axis = 1, inplace=True)\n",
    "df_views_video.shape"
   ]
  },
  {
   "cell_type": "markdown",
   "metadata": {
    "colab_type": "text",
    "id": "WIkz6OFWuBno"
   },
   "source": [
    "**NOTE :** We can observe country has only one value i.e AU. Let's drop it."
   ]
  },
  {
   "cell_type": "markdown",
   "metadata": {
    "colab_type": "text",
    "id": "V62Q_qCQuBnj"
   },
   "source": [
    " <a id=section402></a>\n",
    "## 4.2 Fixing datatypes of columns"
   ]
  },
  {
   "cell_type": "code",
   "execution_count": null,
   "metadata": {
    "colab": {},
    "colab_type": "code",
    "id": "Xz8Oz2HNF3x0",
    "outputId": "c1c81dd3-75c3-4729-fdce-71bb2f332323",
    "scrolled": true
   },
   "outputs": [
    {
     "name": "stdout",
     "output_type": "stream",
     "text": [
      "<class 'pandas.core.frame.DataFrame'>\n",
      "Index: 4533 entries, HDR9SQc79 to LOI64QVq10\n",
      "Data columns (total 19 columns):\n",
      "Is_Test_Data             4533 non-null int64\n",
      "Tag_count                4532 non-null object\n",
      "Trend_day_count          4532 non-null float64\n",
      "Trend_tag_count          4532 non-null object\n",
      "category_id              4526 non-null object\n",
      "channel_title            4530 non-null object\n",
      "comment_count            4533 non-null object\n",
      "comment_disabled         4533 non-null object\n",
      "description              4443 non-null object\n",
      "dislike                  4533 non-null object\n",
      "like dislike disabled    4533 non-null object\n",
      "likes                    4533 non-null object\n",
      "publish_date             4531 non-null object\n",
      "subscriber               4502 non-null float64\n",
      "tag appered in title     4532 non-null object\n",
      "tags                     4324 non-null object\n",
      "title                    4530 non-null object\n",
      "trending_date            4531 non-null object\n",
      "views                    3198 non-null object\n",
      "dtypes: float64(2), int64(1), object(16)\n",
      "memory usage: 708.3+ KB\n"
     ]
    }
   ],
   "source": [
    "df_views_video.info()"
   ]
  },
  {
   "cell_type": "code",
   "execution_count": null,
   "metadata": {
    "colab": {},
    "colab_type": "code",
    "id": "oupEow2iF3x4",
    "outputId": "0eb4865e-f0e5-4493-d2e8-018b72c69548",
    "scrolled": true
   },
   "outputs": [
    {
     "data": {
      "text/html": [
       "<div>\n",
       "<style scoped>\n",
       "    .dataframe tbody tr th:only-of-type {\n",
       "        vertical-align: middle;\n",
       "    }\n",
       "\n",
       "    .dataframe tbody tr th {\n",
       "        vertical-align: top;\n",
       "    }\n",
       "\n",
       "    .dataframe thead th {\n",
       "        text-align: right;\n",
       "    }\n",
       "</style>\n",
       "<table border=\"1\" class=\"dataframe\">\n",
       "  <thead>\n",
       "    <tr style=\"text-align: right;\">\n",
       "      <th></th>\n",
       "      <th>Is_Test_Data</th>\n",
       "      <th>Tag_count</th>\n",
       "      <th>Trend_day_count</th>\n",
       "      <th>Trend_tag_count</th>\n",
       "      <th>category_id</th>\n",
       "      <th>channel_title</th>\n",
       "      <th>comment_count</th>\n",
       "      <th>comment_disabled</th>\n",
       "      <th>description</th>\n",
       "      <th>dislike</th>\n",
       "      <th>like dislike disabled</th>\n",
       "      <th>likes</th>\n",
       "      <th>publish_date</th>\n",
       "      <th>subscriber</th>\n",
       "      <th>tag appered in title</th>\n",
       "      <th>tags</th>\n",
       "      <th>title</th>\n",
       "      <th>trending_date</th>\n",
       "      <th>views</th>\n",
       "    </tr>\n",
       "    <tr>\n",
       "      <th>Video_id</th>\n",
       "      <th></th>\n",
       "      <th></th>\n",
       "      <th></th>\n",
       "      <th></th>\n",
       "      <th></th>\n",
       "      <th></th>\n",
       "      <th></th>\n",
       "      <th></th>\n",
       "      <th></th>\n",
       "      <th></th>\n",
       "      <th></th>\n",
       "      <th></th>\n",
       "      <th></th>\n",
       "      <th></th>\n",
       "      <th></th>\n",
       "      <th></th>\n",
       "      <th></th>\n",
       "      <th></th>\n",
       "      <th></th>\n",
       "    </tr>\n",
       "  </thead>\n",
       "  <tbody>\n",
       "    <tr>\n",
       "      <th>HDR9SQc79</th>\n",
       "      <td>0</td>\n",
       "      <td>21</td>\n",
       "      <td>6.0</td>\n",
       "      <td>6</td>\n",
       "      <td>22</td>\n",
       "      <td>CaseyNeistat</td>\n",
       "      <td></td>\n",
       "      <td>falSE</td>\n",
       "      <td>SHANTELL'S CHANNEL - https://www.youtube.com/shantellmartin\\nCANDICE - https://www.lovebilly.com\\n\\n'Diamond Veins (Blowsom remix)' by French 79 http://hyperurl.co/DiamondVeinsRMX\\n'Moon' by Kid Francescoli http://hyperurl.co/KID_PlayMeAgain\\n\\nfilmed this video in 4k on this -- http://amzn.to/2sTDnRZ\\nwith this lens -- http://amzn.to/2rUJOmD\\nbig drone - http://tinyurl.com/h4ft3oy\\nOTHER GEAR ---  http://amzn.to/2o3GLX5\\nSony CAMERA http://amzn.to/2nOBmnv\\nOLD CAMERA</td>\n",
       "      <td>6089</td>\n",
       "      <td>falSE</td>\n",
       "      <td>13342</td>\n",
       "      <td>2017-11-13</td>\n",
       "      <td>9086142.0</td>\n",
       "      <td>False</td>\n",
       "      <td>SHANtell martin</td>\n",
       "      <td>WE WANT TO TALK ABOUT OUR MARRIAGE</td>\n",
       "      <td>2017-11-20</td>\n",
       "      <td>1978978</td>\n",
       "    </tr>\n",
       "    <tr>\n",
       "      <th>KNH52UF?48</th>\n",
       "      <td>0</td>\n",
       "      <td>23</td>\n",
       "      <td>1.0</td>\n",
       "      <td>1</td>\n",
       "      <td>24</td>\n",
       "      <td>LastWeekTonight</td>\n",
       "      <td>116266</td>\n",
       "      <td>TrUe</td>\n",
       "      <td>One year after the presidential election, John Oliver discusses what we've learned so far and enlists our catheter cowboy to teach Donald Trump what he hasn't.\\n\\nConnect with Last Week Tonight online...\\n\\nSubscribe to the Last Week Tonight YouTube channel for more almost news as it almost happens: www.youtube.com/user/LastWeekTonight\\n\\nFind Last Week Tonight on Facebook like your mom would: http://Facebook.com/LastWeekTonight\\n\\nFollow us on Twitter for news about jokes and jokes about news: http://Twitter.com/LastWeekTonight\\n\\nVisit our official site for all that other stuff at once: http://www.hbo.com/lastweektonight</td>\n",
       "      <td>3044</td>\n",
       "      <td>FaLSE</td>\n",
       "      <td>5761</td>\n",
       "      <td>2017-11-13</td>\n",
       "      <td>5937292.0</td>\n",
       "      <td>False</td>\n",
       "      <td>last week tonight trump presidency|last week tonight donald trump|john oliver trump|donald trump</td>\n",
       "      <td>The Trump Presidency: Last Week Tonight with John Oliver (HBO)</td>\n",
       "      <td>2017-11-20</td>\n",
       "      <td>1487870</td>\n",
       "    </tr>\n",
       "    <tr>\n",
       "      <th>QTW28IRG36</th>\n",
       "      <td>0</td>\n",
       "      <td>22</td>\n",
       "      <td>10.0</td>\n",
       "      <td>3</td>\n",
       "      <td>23</td>\n",
       "      <td>Rudy Mancuso</td>\n",
       "      <td>257850</td>\n",
       "      <td>true</td>\n",
       "      <td>WATCH MY PREVIOUS VIDEO ▶ \\n\\nSUBSCRIBE ► https://www.youtube.com/channel/UC5jkXpfnBhlDjqh0ir5FsIQ?sub_confirmation=1\\n\\nTHANKS FOR WATCHING! LIKE &amp; SUBSCRIBE FOR MORE VIDEOS!\\n-----------------------------------------------------------\\nFIND ME ON: \\nInstagram | http://instagram.com/rudymancuso\\nTwitter | http://twitter.com/rudymancuso\\nFacebook | http://facebook.com/rudymancuso\\n\\nCAST: \\nRudy Mancuso | http://youtube.com/c/rudymancuso\\nLele Pons | http://youtube.com/c/lelepons\\nKing Bach | https://youtube.com/user/BachelorsPadTv\\n\\nVideo Effects: \\nCaleb Natale | https://instagram.com/calebnatale\\n\\nPA:\\nPaulina Gregory\\n\\n\\nShots Studios Channels:\\nAlesso | https://youtube.com/c/alesso\\nAnitta | http://youtube.com/c/anitta\\nAnwar Jibawi | http://youtube.com/c/anwar\\nAwkward Puppets | http://youtube.com/c/awkwardpuppets\\nHannah Stocking | http://youtube.com/c/hannahstocking\\nInanna Sarkis | http://youtube.com/c/inanna\\nLele Pons | http://youtube.com/c/lelepons\\nMaejor | http://youtube.com/c/maejor\\nMike Tyson | http://youtube.com/c/miketyson \\nRudy Mancuso | http://youtube.com/c/rudymancuso\\nShots Studios | http://youtube.com/c/shots\\n\\n#Rudy\\n#RudyMancuso</td>\n",
       "      <td>0</td>\n",
       "      <td>TRUE</td>\n",
       "      <td>0</td>\n",
       "      <td>2017-11-12</td>\n",
       "      <td>4191209.0</td>\n",
       "      <td>True</td>\n",
       "      <td>racist superman|rudy|mancuso|king|bach|racist|superman|love|rudy mancuso poo bear black white official music video|iphone x by pineapple|lelepons|hannahstocking|rudymancuso|inanna|anwar|sarkis|shots|shotsstudios|alesso|anitta|brazil|Getting My Driver's License | Lele Pons</td>\n",
       "      <td>Racist Superman | Rudy Mancuso, King Bach &amp; Lele Pons</td>\n",
       "      <td>2017-11-20</td>\n",
       "      <td>1502102</td>\n",
       "    </tr>\n",
       "    <tr>\n",
       "      <th>MGL76WI]26</th>\n",
       "      <td>0</td>\n",
       "      <td>17</td>\n",
       "      <td>12.0</td>\n",
       "      <td>5</td>\n",
       "      <td>24</td>\n",
       "      <td>Good Mythical Morning</td>\n",
       "      <td>263939</td>\n",
       "      <td>true</td>\n",
       "      <td>Today we find out if Link is a Nickelback amateur or a secret Nickelback devotee. GMM #1218\\nDon't miss an all new Ear Biscuits: https://goo.gl/xeZNQt\\nWatch Part 4: https://youtu.be/MhCdiiB8CQg | Watch Part 2: https://youtu.be/7qiOrNao9fg\\nWatch today's episode from the start: http://bit.ly/GMM1218\\n\\nPick up all of the official GMM merch only at https://mythical.store\\n\\nFollow Rhett &amp; Link: \\nInstagram: https://instagram.com/rhettandlink\\nFacebook: https://facebook.com/rhettandlink\\nTwitter: https://twitter.com/rhettandlink\\nTumblr: https://rhettandlink.tumblr.com\\nSnapchat: @realrhettlink\\nWebsite: https://mythical.co/\\n\\nCheck Out Our Other Mythical Channels:\\nGood Mythical MORE: https://youtube.com/goodmythicalmore\\nRhett &amp; Link: https://youtube.com/rhettandlink\\nThis Is Mythical: https://youtube.com/thisismythical\\nEar Biscuits: https://applepodcasts.com/earbiscuits\\n\\nWant to send us something? https://mythical.co/contact\\nHave you made a Wheel of Mythicality intro video? Submit it here: https://bit.ly/GMMWheelIntro\\n\\nIntro Animation by Digital Twigs: https://www.digitaltwigs.com\\nIntro &amp; Outro Music by Jeff Zeigler &amp; Sarah Schimeneck https://www.jeffzeigler.com\\nWheel of Mythicality theme: https://www.royaltyfreemusiclibrary.com/\\nAll Supplemental Music fromOpus 1 Music: https://opus1.sourceaudio.com/\\nWe use ‘The Mouse’ by Blue Microphones https://www.bluemic.com/mouse/</td>\n",
       "      <td>0</td>\n",
       "      <td>True</td>\n",
       "      <td>0</td>\n",
       "      <td>2017-11-13</td>\n",
       "      <td>13186408.0</td>\n",
       "      <td>True</td>\n",
       "      <td>rhett and link|gmm|good mythical morning|rhett and link good mythical morning|good mythical morning rhett and link|mythical morning|Season 12|nickelback lyrics|nickelback lyrics real or fake|nickelback|nickelback songs|nickelback song|rhett link nickelback|gmm nickelback|lyrics (website category)|nickelback (musical group)|rock|music|lyrics|chad kroeger|music (industry)|mythical|gmm challenge|comedy|funny|the betrayal|the betrayal act III|how you remind me</td>\n",
       "      <td>Nickelback Lyrics: Real or Fake?</td>\n",
       "      <td>2017-11-20</td>\n",
       "      <td>3519302</td>\n",
       "    </tr>\n",
       "    <tr>\n",
       "      <th>TWP93KXT70</th>\n",
       "      <td>0</td>\n",
       "      <td>15</td>\n",
       "      <td>11.0</td>\n",
       "      <td>7</td>\n",
       "      <td>224</td>\n",
       "      <td>nigahiga</td>\n",
       "      <td>268085</td>\n",
       "      <td>True</td>\n",
       "      <td>I know it's been a while since we did this show, but we're back with what might be the best episode yet!\\nLeave your dares in the comment section! \\n\\nOrder my book how to write good \\nhttp://higatv.com/ryan-higas-how-to-write-good-pre-order-links/\\n\\nJust Launched New Official Store\\nhttps://www.gianthugs.com/collections/ryan\\n\\nHigaTV Channel\\nhttp://www.youtube.com/higatv\\n\\nTwitter\\nhttp://www.twitter.com/therealryanhiga\\n\\nFacebook\\nhttp://www.facebook.com/higatv\\n\\nWebsite\\nhttp://www.higatv.com\\n\\nInstagram\\nhttp://www.instagram.com/notryanhiga\\n\\nSend us mail or whatever you want here!\\nPO Box 232355\\nLas Vegas, NV 89105</td>\n",
       "      <td>0</td>\n",
       "      <td>TRUE</td>\n",
       "      <td>0</td>\n",
       "      <td>2017-11-12</td>\n",
       "      <td>20563106.0</td>\n",
       "      <td>True</td>\n",
       "      <td>ryan|higa|higatv|nigahiga|i dare you|idy|rhpc|dares|no truth|comments|comedy|funny|stupid|fail</td>\n",
       "      <td>I Dare You: GOING BALD!?</td>\n",
       "      <td>2017-11-19</td>\n",
       "      <td>4835374</td>\n",
       "    </tr>\n",
       "  </tbody>\n",
       "</table>\n",
       "</div>"
      ],
      "text/plain": [
       "            Is_Test_Data Tag_count  Trend_day_count Trend_tag_count  \\\n",
       "Video_id                                                              \n",
       "HDR9SQc79   0             21        6.0              6                \n",
       "KNH52UF?48  0             23        1.0              1                \n",
       "QTW28IRG36  0             22        10.0             3                \n",
       "MGL76WI]26  0             17        12.0             5                \n",
       "TWP93KXT70  0             15        11.0             7                \n",
       "\n",
       "           category_id          channel_title comment_count comment_disabled  \\\n",
       "Video_id                                                                       \n",
       "HDR9SQc79   22          CaseyNeistat                         falSE             \n",
       "KNH52UF?48  24          LastWeekTonight        116266        TrUe              \n",
       "QTW28IRG36  23          Rudy Mancuso           257850        true              \n",
       "MGL76WI]26  24          Good Mythical Morning  263939        true              \n",
       "TWP93KXT70  224         nigahiga               268085        True              \n",
       "\n",
       "                                                                                                                                                                                                                                                                                                                                                                                                                                                                                                                                                                                                                                                                                                                                                                                                                                                                                                                                                                                                                                                                                                                                                                                                                                                                                                                                                                                                                                                            description  \\\n",
       "Video_id                                                                                                                                                                                                                                                                                                                                                                                                                                                                                                                                                                                                                                                                                                                                                                                                                                                                                                                                                                                                                                                                                                                                                                                                                                                                                                                                                                                                                                                                  \n",
       "HDR9SQc79   SHANTELL'S CHANNEL - https://www.youtube.com/shantellmartin\\nCANDICE - https://www.lovebilly.com\\n\\n'Diamond Veins (Blowsom remix)' by French 79 http://hyperurl.co/DiamondVeinsRMX\\n'Moon' by Kid Francescoli http://hyperurl.co/KID_PlayMeAgain\\n\\nfilmed this video in 4k on this -- http://amzn.to/2sTDnRZ\\nwith this lens -- http://amzn.to/2rUJOmD\\nbig drone - http://tinyurl.com/h4ft3oy\\nOTHER GEAR ---  http://amzn.to/2o3GLX5\\nSony CAMERA http://amzn.to/2nOBmnv\\nOLD CAMERA                                                                                                                                                                                                                                                                                                                                                                                                                                                                                                                                                                                                                                                                                                                                                                                                                                                                                                                                                                      \n",
       "KNH52UF?48  One year after the presidential election, John Oliver discusses what we've learned so far and enlists our catheter cowboy to teach Donald Trump what he hasn't.\\n\\nConnect with Last Week Tonight online...\\n\\nSubscribe to the Last Week Tonight YouTube channel for more almost news as it almost happens: www.youtube.com/user/LastWeekTonight\\n\\nFind Last Week Tonight on Facebook like your mom would: http://Facebook.com/LastWeekTonight\\n\\nFollow us on Twitter for news about jokes and jokes about news: http://Twitter.com/LastWeekTonight\\n\\nVisit our official site for all that other stuff at once: http://www.hbo.com/lastweektonight                                                                                                                                                                                                                                                                                                                                                                                                                                                                                                                                                                                                                                                                                                                                                                                                        \n",
       "QTW28IRG36  WATCH MY PREVIOUS VIDEO ▶ \\n\\nSUBSCRIBE ► https://www.youtube.com/channel/UC5jkXpfnBhlDjqh0ir5FsIQ?sub_confirmation=1\\n\\nTHANKS FOR WATCHING! LIKE & SUBSCRIBE FOR MORE VIDEOS!\\n-----------------------------------------------------------\\nFIND ME ON: \\nInstagram | http://instagram.com/rudymancuso\\nTwitter | http://twitter.com/rudymancuso\\nFacebook | http://facebook.com/rudymancuso\\n\\nCAST: \\nRudy Mancuso | http://youtube.com/c/rudymancuso\\nLele Pons | http://youtube.com/c/lelepons\\nKing Bach | https://youtube.com/user/BachelorsPadTv\\n\\nVideo Effects: \\nCaleb Natale | https://instagram.com/calebnatale\\n\\nPA:\\nPaulina Gregory\\n\\n\\nShots Studios Channels:\\nAlesso | https://youtube.com/c/alesso\\nAnitta | http://youtube.com/c/anitta\\nAnwar Jibawi | http://youtube.com/c/anwar\\nAwkward Puppets | http://youtube.com/c/awkwardpuppets\\nHannah Stocking | http://youtube.com/c/hannahstocking\\nInanna Sarkis | http://youtube.com/c/inanna\\nLele Pons | http://youtube.com/c/lelepons\\nMaejor | http://youtube.com/c/maejor\\nMike Tyson | http://youtube.com/c/miketyson \\nRudy Mancuso | http://youtube.com/c/rudymancuso\\nShots Studios | http://youtube.com/c/shots\\n\\n#Rudy\\n#RudyMancuso                                                                                                                                                                                                                                     \n",
       "MGL76WI]26  Today we find out if Link is a Nickelback amateur or a secret Nickelback devotee. GMM #1218\\nDon't miss an all new Ear Biscuits: https://goo.gl/xeZNQt\\nWatch Part 4: https://youtu.be/MhCdiiB8CQg | Watch Part 2: https://youtu.be/7qiOrNao9fg\\nWatch today's episode from the start: http://bit.ly/GMM1218\\n\\nPick up all of the official GMM merch only at https://mythical.store\\n\\nFollow Rhett & Link: \\nInstagram: https://instagram.com/rhettandlink\\nFacebook: https://facebook.com/rhettandlink\\nTwitter: https://twitter.com/rhettandlink\\nTumblr: https://rhettandlink.tumblr.com\\nSnapchat: @realrhettlink\\nWebsite: https://mythical.co/\\n\\nCheck Out Our Other Mythical Channels:\\nGood Mythical MORE: https://youtube.com/goodmythicalmore\\nRhett & Link: https://youtube.com/rhettandlink\\nThis Is Mythical: https://youtube.com/thisismythical\\nEar Biscuits: https://applepodcasts.com/earbiscuits\\n\\nWant to send us something? https://mythical.co/contact\\nHave you made a Wheel of Mythicality intro video? Submit it here: https://bit.ly/GMMWheelIntro\\n\\nIntro Animation by Digital Twigs: https://www.digitaltwigs.com\\nIntro & Outro Music by Jeff Zeigler & Sarah Schimeneck https://www.jeffzeigler.com\\nWheel of Mythicality theme: https://www.royaltyfreemusiclibrary.com/\\nAll Supplemental Music fromOpus 1 Music: https://opus1.sourceaudio.com/\\nWe use ‘The Mouse’ by Blue Microphones https://www.bluemic.com/mouse/   \n",
       "TWP93KXT70  I know it's been a while since we did this show, but we're back with what might be the best episode yet!\\nLeave your dares in the comment section! \\n\\nOrder my book how to write good \\nhttp://higatv.com/ryan-higas-how-to-write-good-pre-order-links/\\n\\nJust Launched New Official Store\\nhttps://www.gianthugs.com/collections/ryan\\n\\nHigaTV Channel\\nhttp://www.youtube.com/higatv\\n\\nTwitter\\nhttp://www.twitter.com/therealryanhiga\\n\\nFacebook\\nhttp://www.facebook.com/higatv\\n\\nWebsite\\nhttp://www.higatv.com\\n\\nInstagram\\nhttp://www.instagram.com/notryanhiga\\n\\nSend us mail or whatever you want here!\\nPO Box 232355\\nLas Vegas, NV 89105                                                                                                                                                                                                                                                                                                                                                                                                                                                                                                                                                                                                                                                                                                                                                                                                  \n",
       "\n",
       "           dislike like dislike disabled  likes publish_date  subscriber  \\\n",
       "Video_id                                                                   \n",
       "HDR9SQc79   6089    falSE                 13342  2017-11-13   9086142.0    \n",
       "KNH52UF?48  3044    FaLSE                 5761   2017-11-13   5937292.0    \n",
       "QTW28IRG36  0       TRUE                  0      2017-11-12   4191209.0    \n",
       "MGL76WI]26  0       True                  0      2017-11-13   13186408.0   \n",
       "TWP93KXT70  0       TRUE                  0      2017-11-12   20563106.0   \n",
       "\n",
       "           tag appered in title  \\\n",
       "Video_id                          \n",
       "HDR9SQc79   False                 \n",
       "KNH52UF?48  False                 \n",
       "QTW28IRG36  True                  \n",
       "MGL76WI]26  True                  \n",
       "TWP93KXT70  True                  \n",
       "\n",
       "                                                                                                                                                                                                                                                                                                                                                                                                                                                                                    tags  \\\n",
       "Video_id                                                                                                                                                                                                                                                                                                                                                                                                                                                                                   \n",
       "HDR9SQc79   SHANtell martin                                                                                                                                                                                                                                                                                                                                                                                                                                                                \n",
       "KNH52UF?48  last week tonight trump presidency|last week tonight donald trump|john oliver trump|donald trump                                                                                                                                                                                                                                                                                                                                                                               \n",
       "QTW28IRG36  racist superman|rudy|mancuso|king|bach|racist|superman|love|rudy mancuso poo bear black white official music video|iphone x by pineapple|lelepons|hannahstocking|rudymancuso|inanna|anwar|sarkis|shots|shotsstudios|alesso|anitta|brazil|Getting My Driver's License | Lele Pons                                                                                                                                                                                               \n",
       "MGL76WI]26  rhett and link|gmm|good mythical morning|rhett and link good mythical morning|good mythical morning rhett and link|mythical morning|Season 12|nickelback lyrics|nickelback lyrics real or fake|nickelback|nickelback songs|nickelback song|rhett link nickelback|gmm nickelback|lyrics (website category)|nickelback (musical group)|rock|music|lyrics|chad kroeger|music (industry)|mythical|gmm challenge|comedy|funny|the betrayal|the betrayal act III|how you remind me   \n",
       "TWP93KXT70  ryan|higa|higatv|nigahiga|i dare you|idy|rhpc|dares|no truth|comments|comedy|funny|stupid|fail                                                                                                                                                                                                                                                                                                                                                                                 \n",
       "\n",
       "                                                                     title  \\\n",
       "Video_id                                                                     \n",
       "HDR9SQc79   WE WANT TO TALK ABOUT OUR MARRIAGE                               \n",
       "KNH52UF?48  The Trump Presidency: Last Week Tonight with John Oliver (HBO)   \n",
       "QTW28IRG36  Racist Superman | Rudy Mancuso, King Bach & Lele Pons            \n",
       "MGL76WI]26  Nickelback Lyrics: Real or Fake?                                 \n",
       "TWP93KXT70  I Dare You: GOING BALD!?                                         \n",
       "\n",
       "           trending_date    views  \n",
       "Video_id                           \n",
       "HDR9SQc79   2017-11-20    1978978  \n",
       "KNH52UF?48  2017-11-20    1487870  \n",
       "QTW28IRG36  2017-11-20    1502102  \n",
       "MGL76WI]26  2017-11-20    3519302  \n",
       "TWP93KXT70  2017-11-19    4835374  "
      ]
     },
     "execution_count": 45,
     "metadata": {
      "tags": []
     },
     "output_type": "execute_result"
    }
   ],
   "source": [
    "df_views_video.head()"
   ]
  },
  {
   "cell_type": "markdown",
   "metadata": {
    "colab_type": "text",
    "id": "Z6d-cz3BF3x7"
   },
   "source": [
    "#### a. Tag_count\n",
    "\n"
   ]
  },
  {
   "cell_type": "code",
   "execution_count": null,
   "metadata": {
    "colab": {},
    "colab_type": "code",
    "id": "VED-XSJrF3x7",
    "outputId": "cc457a35-8d15-43c8-fe49-4d6f832eff19",
    "scrolled": true
   },
   "outputs": [
    {
     "data": {
      "text/plain": [
       "24                                                                             217\n",
       "12                                                                             202\n",
       "23                                                                             199\n",
       "13                                                                             185\n",
       "21                                                                             185\n",
       "14                                                                             181\n",
       "16                                                                             180\n",
       "10                                                                             178\n",
       "11                                                                             177\n",
       "17                                                                             177\n",
       "18                                                                             172\n",
       "25                                                                             171\n",
       "8                                                                              171\n",
       "19                                                                             167\n",
       "20                                                                             163\n",
       "22                                                                             161\n",
       "15                                                                             158\n",
       "9                                                                              148\n",
       "13                                                                             92 \n",
       "17                                                                             88 \n",
       "12                                                                             87 \n",
       "22                                                                             81 \n",
       "21                                                                             81 \n",
       "15                                                                             80 \n",
       "20                                                                             77 \n",
       "9                                                                              75 \n",
       "19                                                                             74 \n",
       "14                                                                             73 \n",
       "11                                                                             71 \n",
       "23                                                                             71 \n",
       "8                                                                              70 \n",
       "24                                                                             68 \n",
       "16                                                                             66 \n",
       "10                                                                             62 \n",
       "18                                                                             60 \n",
       "25                                                                             59 \n",
       "0                                                                              2  \n",
       "3225                                                                           1  \n",
       "alissa ashley|alissa ashley makeup|hooded eye makeup|makeup for hooded eyes    1  \n",
       "3222                                                                           1  \n",
       "Name: Tag_count, dtype: int64"
      ]
     },
     "execution_count": 46,
     "metadata": {
      "tags": []
     },
     "output_type": "execute_result"
    }
   ],
   "source": [
    "df_views_video['Tag_count'].value_counts()"
   ]
  },
  {
   "cell_type": "markdown",
   "metadata": {
    "colab_type": "text",
    "id": "Csbw9gB3F3x-"
   },
   "source": [
    "**NOTE :**  we can see string value and few missing values in **Tag_count**. Lets replace it with median."
   ]
  },
  {
   "cell_type": "code",
   "execution_count": null,
   "metadata": {
    "colab": {},
    "colab_type": "code",
    "id": "W3-AjVmAF3x_"
   },
   "outputs": [],
   "source": [
    "try:\n",
    "    df_views_video['Tag_count'] = df_views_video['Tag_count'].astype(int)\n",
    "except Dat:\n",
    "    print(e) "
   ]
  },
  {
   "cell_type": "code",
   "execution_count": null,
   "metadata": {
    "colab": {},
    "colab_type": "code",
    "id": "sU083J4CF3yC",
    "outputId": "150737cd-c842-4e00-83e2-d95c8ffa09f5"
   },
   "outputs": [
    {
     "data": {
      "text/plain": [
       "17"
      ]
     },
     "execution_count": 27,
     "metadata": {
      "tags": []
     },
     "output_type": "execute_result"
    }
   ],
   "source": [
    "# extracting out valid Tag_count values\n",
    "Tag_count_valid = df_views_video[(df_views_video['Tag_count'] != 'alissa ashley|alissa ashley makeup|hooded eye makeup|makeup for hooded eyes') & (~df_views_video['Tag_count'].isna())]['Tag_count']\n",
    "\n",
    "# converting dtype from object to int\n",
    "Tag_count_int = Tag_count_valid.astype(int)\n",
    "\n",
    "# calculating median\n",
    "Tag_count_median = Tag_count_int.median()\n",
    "Tag_count_median = int(Tag_count_median)\n",
    "\n",
    "Tag_count_median"
   ]
  },
  {
   "cell_type": "code",
   "execution_count": null,
   "metadata": {
    "colab": {},
    "colab_type": "code",
    "id": "hCwSy_U3F3yF",
    "outputId": "1e6523ba-2faf-4eb9-ac4b-8656cb688d2a"
   },
   "outputs": [
    {
     "data": {
      "text/plain": [
       "Video_id\n",
       "HDR9SQc79     21\n",
       "KNH52UF?48    23\n",
       "QTW28IRG36    22\n",
       "MGL76WI]26    17\n",
       "TWP93KXT70    15\n",
       "JDJ37HWR29    9 \n",
       "INH29DD?32    17\n",
       "ENJ69DGJ93    14\n",
       "ZXD32BTa68    20\n",
       "NCA33YGN27    8 \n",
       "BQQ21ZVm59    22\n",
       "SEF40YEp58    10\n",
       "OQU60INj45    22\n",
       "QTI12DNb53    18\n",
       "SHP12LIj51    10\n",
       "TAE9URl23     22\n",
       "MWG80DHU39    17\n",
       "TVY50JW\\54    18\n",
       "QPK66WVC92    23\n",
       "ZGJ23BH=92    19\n",
       "LNA70LIB36    22\n",
       "IOR89PLQ18    23\n",
       "JLP11BVk71    9 \n",
       "TKQ4JYs6      25\n",
       "GIV34ORj61    18\n",
       "SAS76OI?59    23\n",
       "CCF5FMU29     25\n",
       "WOD95ZZm76    17\n",
       "ACP17YA_30    15\n",
       "ZUW72GLK1     21\n",
       "              ..\n",
       "KHE42DN<84    17\n",
       "NDB28CR_31    22\n",
       "VSG82ZXG61    19\n",
       "VHU1ZB^45     10\n",
       "YKP34OMn11    13\n",
       "VSM44VFf37    17\n",
       "QDN61PSW4     15\n",
       "USK49BSc65    24\n",
       "DDK71RPA71    13\n",
       "RSP25NOo83    22\n",
       "TWE53OFA61    15\n",
       "NMB51QRF66    11\n",
       "LVD1DXU24     8 \n",
       "UDK4FIS26     14\n",
       "EXX13RVl47    9 \n",
       "IBE44QMk63    23\n",
       "BZA90UEF14    16\n",
       "NZG46OKW19    21\n",
       "LEN76WCg39    15\n",
       "SQP66IXG95    16\n",
       "ZVI84ZDn45    17\n",
       "WEG65XHT54    15\n",
       "WJD70UKo20    12\n",
       "ZQJ67GM<38    12\n",
       "EJB69XNC26    21\n",
       "UII58AGX12    10\n",
       "ECJ91UNP40    8 \n",
       "AQR71GB@63    22\n",
       "PPD49TIn30    15\n",
       "LOI64QVq10    18\n",
       "Name: Tag_count, Length: 4533, dtype: object"
      ]
     },
     "execution_count": 31,
     "metadata": {
      "tags": []
     },
     "output_type": "execute_result"
    }
   ],
   "source": [
    "# replacing string value with median\n",
    "\n",
    "df_views_video[(df_views_video['Tag_count'] == 'alissa ashley|alissa ashley makeup|hooded eye makeup|makeup for hooded eyes')] = Tag_count_median\n",
    "\n",
    "# filling missing values with median\n",
    "df_views_video['Tag_count'].fillna(Tag_count_median)"
   ]
  },
  {
   "cell_type": "markdown",
   "metadata": {
    "colab_type": "text",
    "id": "i16nWCD4uBns"
   },
   "source": [
    "#### b. Trend_tag_count          "
   ]
  },
  {
   "cell_type": "code",
   "execution_count": null,
   "metadata": {
    "colab": {},
    "colab_type": "code",
    "id": "m6UPVTlDF3yM",
    "outputId": "a3023a5b-5627-4440-90e6-c734622410ff"
   },
   "outputs": [
    {
     "data": {
      "text/plain": [
       "6       475\n",
       "3       473\n",
       "5       461\n",
       "2       460\n",
       "4       450\n",
       "7       446\n",
       "1       429\n",
       "2       206\n",
       "4       201\n",
       "7       191\n",
       "6       187\n",
       "5       187\n",
       "3       182\n",
       "1       181\n",
       ">       1  \n",
       "9903    1  \n",
       "17      1  \n",
       "Name: Trend_tag_count, dtype: int64"
      ]
     },
     "execution_count": 32,
     "metadata": {
      "tags": []
     },
     "output_type": "execute_result"
    }
   ],
   "source": [
    "df_views_video['Trend_tag_count'].value_counts()"
   ]
  },
  {
   "cell_type": "markdown",
   "metadata": {
    "colab_type": "text",
    "id": "fIIueqjvF3yQ"
   },
   "source": [
    "**NOTE :**  we can see string value and few missing values in **Trend_tag_count**. Lets replace it with median."
   ]
  },
  {
   "cell_type": "code",
   "execution_count": null,
   "metadata": {
    "colab": {},
    "colab_type": "code",
    "id": "EZWH6QxCuBnt",
    "outputId": "82a4a2e4-9648-4e9c-beed-26b580d2e764"
   },
   "outputs": [
    {
     "data": {
      "text/plain": [
       "4"
      ]
     },
     "execution_count": 33,
     "metadata": {
      "tags": []
     },
     "output_type": "execute_result"
    }
   ],
   "source": [
    "# extracting out valid Tag_count values\n",
    "Trend_tag_count_valid = df_views_video[(df_views_video['Trend_tag_count'] != '>') & (~df_views_video['Trend_tag_count'].isna())]['Trend_tag_count']\n",
    "\n",
    "# converting dtype from object to int\n",
    "Trend_tag_count_int = Trend_tag_count_valid.astype(int)\n",
    "\n",
    "# calculating median\n",
    "Trend_tag_count_median = Trend_tag_count_int.median()\n",
    "Trend_tag_count_median = int(Trend_tag_count_median)\n",
    "\n",
    "Trend_tag_count_median"
   ]
  },
  {
   "cell_type": "code",
   "execution_count": null,
   "metadata": {
    "colab": {},
    "colab_type": "code",
    "id": "oEsJAPxpF3yV",
    "outputId": "696a99a9-4057-4592-c2f7-11f49ace6d9f"
   },
   "outputs": [
    {
     "data": {
      "text/plain": [
       "Video_id\n",
       "HDR9SQc79     6\n",
       "KNH52UF?48    1\n",
       "QTW28IRG36    3\n",
       "MGL76WI]26    5\n",
       "TWP93KXT70    7\n",
       "JDJ37HWR29    1\n",
       "INH29DD?32    5\n",
       "ENJ69DGJ93    7\n",
       "ZXD32BTa68    1\n",
       "NCA33YGN27    2\n",
       "BQQ21ZVm59    3\n",
       "SEF40YEp58    2\n",
       "OQU60INj45    4\n",
       "QTI12DNb53    7\n",
       "SHP12LIj51    2\n",
       "TAE9URl23     4\n",
       "MWG80DHU39    3\n",
       "TVY50JW\\54    6\n",
       "QPK66WVC92    3\n",
       "ZGJ23BH=92    1\n",
       "LNA70LIB36    2\n",
       "IOR89PLQ18    4\n",
       "JLP11BVk71    4\n",
       "TKQ4JYs6      1\n",
       "GIV34ORj61    4\n",
       "SAS76OI?59    1\n",
       "CCF5FMU29     4\n",
       "WOD95ZZm76    5\n",
       "ACP17YA_30    7\n",
       "ZUW72GLK1     1\n",
       "             ..\n",
       "KHE42DN<84    1\n",
       "NDB28CR_31    2\n",
       "VSG82ZXG61    1\n",
       "VHU1ZB^45     5\n",
       "YKP34OMn11    7\n",
       "VSM44VFf37    1\n",
       "QDN61PSW4     3\n",
       "USK49BSc65    5\n",
       "DDK71RPA71    3\n",
       "RSP25NOo83    1\n",
       "TWE53OFA61    2\n",
       "NMB51QRF66    5\n",
       "LVD1DXU24     1\n",
       "UDK4FIS26     6\n",
       "EXX13RVl47    1\n",
       "IBE44QMk63    5\n",
       "BZA90UEF14    1\n",
       "NZG46OKW19    1\n",
       "LEN76WCg39    4\n",
       "SQP66IXG95    6\n",
       "ZVI84ZDn45    5\n",
       "WEG65XHT54    6\n",
       "WJD70UKo20    1\n",
       "ZQJ67GM<38    2\n",
       "EJB69XNC26    2\n",
       "UII58AGX12    1\n",
       "ECJ91UNP40    1\n",
       "AQR71GB@63    1\n",
       "PPD49TIn30    2\n",
       "LOI64QVq10    6\n",
       "Name: Trend_tag_count, Length: 4533, dtype: object"
      ]
     },
     "execution_count": 34,
     "metadata": {
      "tags": []
     },
     "output_type": "execute_result"
    }
   ],
   "source": [
    "# replacing string value with median\n",
    "\n",
    "df_views_video[(df_views_video['Trend_tag_count'] == '>')] = Trend_tag_count_median\n",
    "\n",
    "# filling missing values with median\n",
    "df_views_video['Trend_tag_count'].fillna(Trend_tag_count_median)"
   ]
  },
  {
   "cell_type": "markdown",
   "metadata": {
    "colab_type": "text",
    "id": "1hiLsp8JF3yY"
   },
   "source": [
    "#### c. comment_count "
   ]
  },
  {
   "cell_type": "code",
   "execution_count": null,
   "metadata": {
    "colab": {},
    "colab_type": "code",
    "id": "ZpSaDg8YF3yZ"
   },
   "outputs": [],
   "source": []
  },
  {
   "cell_type": "markdown",
   "metadata": {
    "colab_type": "text",
    "id": "QY7Lvy7ruBnw"
   },
   "source": [
    "#### c. Change Popularity column from string to integer"
   ]
  },
  {
   "cell_type": "code",
   "execution_count": null,
   "metadata": {
    "colab": {},
    "colab_type": "code",
    "id": "wQns2eiNuBnx"
   },
   "outputs": [],
   "source": [
    "#converting string to int\n",
    "df_views_songs['Popularity'] = df_views_songs['Likes'].astype('int64')"
   ]
  },
  {
   "cell_type": "markdown",
   "metadata": {
    "colab_type": "text",
    "id": "6zJMWRpKuBn0"
   },
   "source": [
    "#### d. Change Timestamp column to pandas datetime"
   ]
  },
  {
   "cell_type": "code",
   "execution_count": null,
   "metadata": {
    "colab": {},
    "colab_type": "code",
    "id": "U0VjDhH5uBn1"
   },
   "outputs": [],
   "source": [
    "df_views_songs\n",
    "df_views_songs['Timestamp'] = pd.to_datetime(df_views_songs['Timestamp'])"
   ]
  },
  {
   "cell_type": "code",
   "execution_count": null,
   "metadata": {
    "colab": {},
    "colab_type": "code",
    "id": "x0sipUQkuBn3"
   },
   "outputs": [],
   "source": [
    "df_views_songs.info()"
   ]
  },
  {
   "cell_type": "markdown",
   "metadata": {
    "colab_type": "text",
    "id": "2xCbxMWDuBn8"
   },
   "source": [
    " <a id=section402></a>\n",
    "## 4.2 Filling missing values"
   ]
  },
  {
   "cell_type": "code",
   "execution_count": null,
   "metadata": {
    "colab": {},
    "colab_type": "code",
    "id": "lC7kwAFIuBn-"
   },
   "outputs": [],
   "source": [
    "column_names = list(df_views_songs.columns)\n",
    "column_names.remove('Views')"
   ]
  },
  {
   "cell_type": "code",
   "execution_count": null,
   "metadata": {
    "colab": {},
    "colab_type": "code",
    "id": "wIx0j3Y6uBoF"
   },
   "outputs": [],
   "source": [
    "columns_to_be_dropped = list()\n",
    "for i in range(0,len(column_names)):\n",
    "  if(df_views_songs[column_names[i]].isna().any()):\n",
    "    \n",
    "    # calculating missing percentage for each column\n",
    "    missing_count = sum(df_views_songs[column_names[i]].isna())\n",
    "    total_count = len(df_views_songs[column_names[i]])\n",
    "    missing_percent = (missing_count/total_count)*100\n",
    "  \n",
    "\n",
    "    # add column name to `columns_to_be_dropped` \n",
    "    # if missing percentage is greater than 70\n",
    "    if(missing_percent >= 70):\n",
    "      columns_to_be_dropped.append(column_names[i])\n",
    "    else:\n",
    "\n",
    "      # checking datatype of each column so that we know \n",
    "      # which value to be replaced in missing value(median/mode)\n",
    "      if(df_views_songs[column_names[i]].dtype == 'object'):\n",
    "        value_to_be_filled = df_views_songs[column_names[i]].mode()[0]\n",
    "        df_views_songs[column_names[i]].fillna(value_to_be_filled, inplace=True)\n",
    "      elif(df_views_songs[column_names[i]].dtype == 'float64' or df_views_songs[column_names[i]].dtype == 'int64'):\n",
    "         value_to_be_filled = df_views_songs[column_names[i]].median()\n",
    "         df_views_songs[column_names[i]].fillna(value_to_be_filled, inplace=True)\n",
    "\n",
    "# droping all columns who have more than 70% missing values\n",
    "df_views_songs.drop(columns_to_be_dropped, axis=1, inplace=True)"
   ]
  },
  {
   "cell_type": "code",
   "execution_count": null,
   "metadata": {
    "colab": {},
    "colab_type": "code",
    "id": "DtsNCZXduBoI"
   },
   "outputs": [],
   "source": [
    "df_views_songs.info()"
   ]
  },
  {
   "cell_type": "markdown",
   "metadata": {
    "colab_type": "text",
    "id": "ERXFES6euBoK"
   },
   "source": [
    "**Observations:**\n",
    "\n",
    "We don't have any missing values. Good to go."
   ]
  },
  {
   "cell_type": "markdown",
   "metadata": {
    "colab_type": "text",
    "id": "olh_1znauBoL"
   },
   "source": [
    " <a id=section403></a>\n",
    "## 4.3 Remove highly correlated columns"
   ]
  },
  {
   "cell_type": "code",
   "execution_count": null,
   "metadata": {
    "colab": {},
    "colab_type": "code",
    "id": "vLmo_3EDuBoM"
   },
   "outputs": [],
   "source": [
    "# extracting feature columns\n",
    "feature_cols = list(df_views_songs.columns)\n",
    "feature_cols.remove('Views')\n",
    "feature_cols.remove('Is_Test_Data')\n",
    "feature_cols"
   ]
  },
  {
   "cell_type": "code",
   "execution_count": null,
   "metadata": {
    "colab": {},
    "colab_type": "code",
    "id": "fdUD4psuuBoO"
   },
   "outputs": [],
   "source": [
    "# extracting highly correlated columns(except target variable) to drop\n",
    "\n",
    "# Create correlation matrix\n",
    "corr_matrix = df_views_songs[feature_cols].corr().abs()\n",
    "\n",
    "# Select upper triangle of correlation matrix\n",
    "upper = corr_matrix.where(np.triu(np.ones(corr_matrix.shape), k=1).astype(np.bool))\n",
    "\n",
    "# Find index of feature columns with correlation greater than 0.80\n",
    "cols_to_drop = [column for column in upper.columns if any(upper[column] > 0.70)]\n",
    "cols_to_drop"
   ]
  },
  {
   "cell_type": "markdown",
   "metadata": {
    "colab_type": "text",
    "id": "3ZUafd2WuBoQ"
   },
   "source": [
    "**Observations :** We have two highly correlated independant columns. Let's drop one."
   ]
  },
  {
   "cell_type": "code",
   "execution_count": null,
   "metadata": {
    "colab": {},
    "colab_type": "code",
    "id": "zLP6iKqtuBoR"
   },
   "outputs": [],
   "source": [
    "# lets drop Popularity\n",
    "df_views_songs.drop('Popularity', axis=1, inplace=True)"
   ]
  },
  {
   "cell_type": "markdown",
   "metadata": {
    "colab_type": "text",
    "id": "8-7mV5quuBoT"
   },
   "source": [
    " <a id=section404></a>\n",
    "## 4.4 Handling Outliers\n",
    "\n",
    "Concept of outliers is only applicable to continuous variables.\n",
    "\n",
    "NOTE:\n",
    "\n",
    "1. Remove ouliers if percentage is less than 2%\n",
    "\n",
    "2. Fill remaining outliers values with median(continuous) or mode(categorical) depending on data.\n",
    "\n"
   ]
  },
  {
   "cell_type": "code",
   "execution_count": null,
   "metadata": {
    "colab": {},
    "colab_type": "code",
    "id": "vMUzz5spuBoU"
   },
   "outputs": [],
   "source": [
    "# storing columns with continuos datatype in 'continuos_cols' \n",
    "continuous_columns = []\n",
    "categorical_columns = []\n",
    "cols = df_views_songs.columns\n",
    "\n",
    "for i in range(0,len(cols)):\n",
    "  if(df_views_songs[cols[i]].dtype != 'object'):\n",
    "    continuous_columns.append(cols[i])\n",
    "  else:\n",
    "    categorical_columns.append(cols[i])\n",
    "\n",
    "continuous_columns.remove('Timestamp')\n",
    "continuous_columns.remove('Views')\n",
    "\n",
    "print(continuous_columns)\n",
    "print(categorical_columns)"
   ]
  },
  {
   "cell_type": "code",
   "execution_count": null,
   "metadata": {
    "colab": {},
    "colab_type": "code",
    "id": "ms0ZkslHuBoX",
    "scrolled": true
   },
   "outputs": [],
   "source": [
    "for i in range(0, len(continuous_columns)):\n",
    "  df_temp = df_views_songs[continuous_columns[i]]\n",
    "  sorted(df_temp)\n",
    "  q1, q3= np.percentile(df_temp,[10,90])\n",
    "  iqr = q3 - q1\n",
    "  lower_bound = q1 -(1.5 * iqr) \n",
    "  upper_bound = q3 +(1.5 * iqr) \n",
    "  true_index = df_temp.loc[(df_temp < lower_bound) & \\\n",
    "            (df_temp > upper_bound)].any()\n",
    "\n",
    "  print(true_index)"
   ]
  },
  {
   "cell_type": "markdown",
   "metadata": {
    "colab_type": "text",
    "id": "FCQIZbdXuBoZ"
   },
   "source": [
    "**Observations:** We don't have any outliers in the data."
   ]
  },
  {
   "cell_type": "markdown",
   "metadata": {
    "colab_type": "text",
    "id": "XAYqiZJXuBoa"
   },
   "source": [
    " <a id=section405></a>\n",
    "## 4.5 Pandas Profiling after Data Preprocessing"
   ]
  },
  {
   "cell_type": "code",
   "execution_count": null,
   "metadata": {
    "colab": {},
    "colab_type": "code",
    "id": "R2XFIgZZuBoc"
   },
   "outputs": [],
   "source": [
    "# Running pandas profiling to get better understanding of data\n",
    "#df_views_songs.profile_report(title='Pandas Profiling after Data Preprocessing', style={'full_width':True})"
   ]
  },
  {
   "cell_type": "markdown",
   "metadata": {
    "colab_type": "text",
    "id": "1uRVtps7uBof"
   },
   "source": [
    " <a id=section406></a>\n",
    "## 4.6 Exploratory Data Analysis\n",
    "\n",
    "We do EDA to have little more understanding of data which might eventually help in selecting best model for prediction"
   ]
  },
  {
   "cell_type": "markdown",
   "metadata": {
    "colab_type": "text",
    "id": "N1z29TdVuBog"
   },
   "source": [
    "### 1. Top 10 artists with most views"
   ]
  },
  {
   "cell_type": "code",
   "execution_count": null,
   "metadata": {
    "colab": {},
    "colab_type": "code",
    "id": "JgfOztwGuBog",
    "scrolled": true
   },
   "outputs": [],
   "source": [
    "df_views_songs.groupby('Name')['Views'].sum().sort_values(ascending=False).head(10)"
   ]
  },
  {
   "cell_type": "code",
   "execution_count": null,
   "metadata": {
    "colab": {},
    "colab_type": "code",
    "id": "pTWnLVQHuBoj"
   },
   "outputs": [],
   "source": [
    "# plotting\n",
    "df = pd.DataFrame(\n",
    "\t{\n",
    "    'Views':df_views_songs.groupby('Name')['Views'].sum().sort_values(ascending=False).head(10)\n",
    "\t}\n",
    "\t) \n",
    "df.plot.bar(rot=0,figsize=(32, 7))"
   ]
  },
  {
   "cell_type": "markdown",
   "metadata": {
    "colab_type": "text",
    "id": "y7oyrCBcuBol"
   },
   "source": [
    "### 2. Top 10 songs with most views"
   ]
  },
  {
   "cell_type": "code",
   "execution_count": null,
   "metadata": {
    "colab": {},
    "colab_type": "code",
    "id": "3V9O3iHbuBom",
    "scrolled": false
   },
   "outputs": [],
   "source": [
    "df_views_songs.groupby('Song_Name')['Views'].sum().sort_values(ascending=False).head(10)"
   ]
  },
  {
   "cell_type": "code",
   "execution_count": null,
   "metadata": {
    "colab": {},
    "colab_type": "code",
    "id": "uGx7nMmwuBoo"
   },
   "outputs": [],
   "source": [
    "df = pd.DataFrame(\n",
    "\t{\n",
    "    'Views':df_views_songs.groupby('Song_Name')['Views'].sum().sort_values(ascending=False).head(10)\n",
    "\t}\n",
    "\t) \n",
    "df.plot.bar(rot=0,figsize=(32, 7))"
   ]
  },
  {
   "cell_type": "markdown",
   "metadata": {
    "colab_type": "text",
    "id": "9Sbaj1YGuBos"
   },
   "source": [
    "### 3. Top 10 genre with most views"
   ]
  },
  {
   "cell_type": "code",
   "execution_count": null,
   "metadata": {
    "colab": {},
    "colab_type": "code",
    "id": "gOKFPpqQuBot",
    "scrolled": false
   },
   "outputs": [],
   "source": [
    "df_views_songs.groupby('Genre')['Views'].sum().sort_values(ascending=False).head(10)"
   ]
  },
  {
   "cell_type": "code",
   "execution_count": null,
   "metadata": {
    "colab": {},
    "colab_type": "code",
    "id": "nX8uED7LuBow"
   },
   "outputs": [],
   "source": [
    "df = pd.DataFrame(\n",
    "\t{\n",
    "    'Genre':df_views_songs.groupby('Genre')['Views'].sum().sort_values(ascending=False).head(10)\n",
    "\t}\n",
    "\t) \n",
    "df.plot.bar(rot=0,figsize=(32, 7))"
   ]
  },
  {
   "cell_type": "code",
   "execution_count": null,
   "metadata": {
    "colab": {},
    "colab_type": "code",
    "id": "I3yE6lGOuBo1",
    "scrolled": true
   },
   "outputs": [],
   "source": [
    "df_views_songs.columns"
   ]
  },
  {
   "cell_type": "markdown",
   "metadata": {
    "colab_type": "text",
    "id": "AK66Ggama2W-"
   },
   "source": [
    " <a id=section5></a>\n",
    "# 5. Data preparation for model building"
   ]
  },
  {
   "cell_type": "markdown",
   "metadata": {
    "colab_type": "text",
    "id": "cf3wx6xMa2XA"
   },
   "source": [
    " <a id=section501></a>\n",
    "## 5.1 Dummification / One-Hot Encoding of categorical variables"
   ]
  },
  {
   "cell_type": "code",
   "execution_count": null,
   "metadata": {
    "colab": {},
    "colab_type": "code",
    "id": "CO_xJ7gKuBo7"
   },
   "outputs": [],
   "source": [
    "# lets look at how many unique labels each category has\n",
    "for i in range(0, len(categorical_columns)):\n",
    "  print(categorical_columns[i], \" - \", df_views_songs[categorical_columns[i]].nunique())"
   ]
  },
  {
   "cell_type": "markdown",
   "metadata": {
    "colab_type": "text",
    "id": "40O1zNwNuBo-"
   },
   "source": [
    "**Observations:**\n",
    " \n",
    "As we have lots of categories in one column,\n",
    "\n",
    "Can we apply below thesis results?\n",
    "\n",
    "http://proceedings.mlr.press/v7/niculescu09/niculescu09.pdf\n",
    "\n",
    "\n",
    "**Summary:**\n",
    "\n",
    "In the winning solution Of the KDD 2009 cup: \"Winning the KDD Cup Orange Challenge with Ensemble Selection the authors limit one hot encoding to the 10 most frequent labels of the variable. This means that they would make one binary variable for each of the 10 most frequent labels only. This is equivalent to grouping all the other labels under a new category, that in this case will be dropped. Thus, the 10 new dummy variables indicate if one of the 10 most frequent labels is present (1) or not (O) for a particular observation."
   ]
  },
  {
   "cell_type": "code",
   "execution_count": null,
   "metadata": {
    "colab": {},
    "colab_type": "code",
    "id": "U7udISnNuBpB"
   },
   "outputs": [],
   "source": [
    "for col in categorical_columns:\n",
    "    imp_labels = list(df_views_songs[col].value_counts().head(10).index)\n",
    "    \n",
    "    for label in imp_labels:\n",
    "        df_views_songs[col+'_'+label] = np.where(df_views_songs[col] == label, 1, 0)\n",
    "    \n",
    "    df_views_songs.drop(col, axis = 1, inplace=True)\n",
    "    \n",
    "df_views_songs.head()"
   ]
  },
  {
   "cell_type": "markdown",
   "metadata": {
    "colab_type": "text",
    "id": "g7YfO8iSuBpH"
   },
   "source": [
    "**Observations:**\n",
    "\n",
    "We have 36* columns after one-hot encoding"
   ]
  },
  {
   "cell_type": "code",
   "execution_count": null,
   "metadata": {
    "colab": {},
    "colab_type": "code",
    "id": "g3MYSZYZuBpH"
   },
   "outputs": [],
   "source": [
    "feature_cols = list(df_views_songs.columns)\n",
    "\n",
    "for col in continuous_columns:\n",
    "    if col in feature_cols:\n",
    "        feature_cols.remove(col)\n",
    "\n",
    "# let's remove Timestamp from prediction\n",
    "feature_cols.remove('Timestamp')\n",
    "\n",
    "feature_cols.remove('Views')\n",
    "\n",
    "categorical_columns = feature_cols\n",
    "\n",
    "print('continuous_columns length : {} '.format(len(continuous_columns)))\n",
    "print('categorical_columns length : {}'.format(len(categorical_columns)))"
   ]
  },
  {
   "cell_type": "markdown",
   "metadata": {
    "colab_type": "text",
    "id": "CG-N0SUra2XJ"
   },
   "source": [
    " <a id=section502></a>\n",
    " ## 5.2 Standardizing continuous variables"
   ]
  },
  {
   "cell_type": "code",
   "execution_count": null,
   "metadata": {
    "colab": {},
    "colab_type": "code",
    "id": "YeB-0MrsuBpN"
   },
   "outputs": [],
   "source": [
    "continuous_columns"
   ]
  },
  {
   "cell_type": "code",
   "execution_count": null,
   "metadata": {
    "colab": {},
    "colab_type": "code",
    "id": "MDZDLzJnuBpP"
   },
   "outputs": [],
   "source": [
    "from sklearn.preprocessing import StandardScaler\n",
    "\n",
    "continuous_columns.remove('Is_Test_Data')\n",
    "# standardizing of data\n",
    "scaler = StandardScaler().fit(df_views_songs[continuous_columns])\n",
    "data = scaler.transform(df_views_songs[continuous_columns])"
   ]
  },
  {
   "cell_type": "code",
   "execution_count": null,
   "metadata": {
    "colab": {},
    "colab_type": "code",
    "id": "ID0NAymwRM7R",
    "scrolled": true
   },
   "outputs": [],
   "source": [
    "# forming dataframe after standardization\n",
    "df_views_songs_sd= pd.DataFrame(data)\n",
    "df_views_songs_sd.columns = continuous_columns\n",
    "df_views_songs_sd.index = df_views_songs.index\n",
    "print(df_views_songs_sd.shape)"
   ]
  },
  {
   "cell_type": "markdown",
   "metadata": {
    "colab_type": "text",
    "id": "S4cLX3TIuBpU"
   },
   "source": [
    "#### Merging all columns together."
   ]
  },
  {
   "cell_type": "code",
   "execution_count": null,
   "metadata": {
    "colab": {},
    "colab_type": "code",
    "id": "xUg9OG4zdvT4"
   },
   "outputs": [],
   "source": [
    "# merge ctegorical and continuos columns\n",
    "df_views_songs_sd = pd.concat([df_views_songs_sd, df_views_songs[categorical_columns]],axis=1).reindex(df_views_songs.index)\n",
    "df_views_songs_sd.shape"
   ]
  },
  {
   "cell_type": "code",
   "execution_count": null,
   "metadata": {
    "colab": {},
    "colab_type": "code",
    "id": "rM1_aE7MW0lN"
   },
   "outputs": [],
   "source": [
    "# add Is_Test_Data column\n",
    "df_views_songs_sd = pd.concat([df_views_songs_sd, df_views_songs['Is_Test_Data']],axis=1).reindex(df_views_songs.index)\n",
    "\n",
    "df_views_songs_sd.shape"
   ]
  },
  {
   "cell_type": "code",
   "execution_count": null,
   "metadata": {
    "colab": {},
    "colab_type": "code",
    "id": "LBZ51yPALJJH"
   },
   "outputs": [],
   "source": [
    "# add Views column\n",
    "df_views_songs_sd = pd.concat([df_views_songs_sd, df_views_songs['Views']],axis=1).reindex(df_views_songs.index)\n",
    "df_views_songs_sd.shape"
   ]
  },
  {
   "cell_type": "markdown",
   "metadata": {
    "colab_type": "text",
    "id": "rHtg7_BTa2XO"
   },
   "source": [
    " <a id=section6></a>\n",
    " # 6. Ensemble Modelling and Prediction\n",
    " \n",
    " Ensemble modeling is a process where multiple diverse models are created to predict an outcome, either by using many different modeling algorithms or using different training data sets. The ensemble model then aggregates the prediction of each base model and results in once final prediction for the unseen data."
   ]
  },
  {
   "cell_type": "markdown",
   "metadata": {
    "colab_type": "text",
    "id": "SVMM7mziuBpl"
   },
   "source": [
    " <a id=section601></a>\n",
    " ## 6.1 Linear Regression\n",
    " \n",
    " \n",
    "Linear regression is a basic and commonly used type of predictive analysis.  The overall idea of regression is to examine two things: \n",
    "\n",
    "1. Does a set of predictor variables do a good job in predicting an outcome (dependent) variable?  \n",
    "2. Which variables in particular are significant predictors of the outcome variable, and in what way do they–indicated by the magnitude and sign of the beta estimates–impact the outcome variable?  \n",
    "\n",
    "These regression estimates are used to explain the relationship between one dependent variable and one or more independent variables.  The simplest form of the regression equation with one dependent and one independent variable is defined by the formula y = c + b*x, where y = estimated dependent variable score, c = constant, b = regression coefficient, and x = score on the independent variable.\n"
   ]
  },
  {
   "cell_type": "markdown",
   "metadata": {
    "colab_type": "text",
    "id": "o6GwkHLRuBpl"
   },
   "source": [
    " <a id=section60101></a>\n",
    "### 6.1.1  Checking assumptions of Linear Regression"
   ]
  },
  {
   "cell_type": "markdown",
   "metadata": {
    "colab_type": "text",
    "id": "ZXI2i13b5NmP"
   },
   "source": [
    "#### a. Independant variables shouldn't be correlated"
   ]
  },
  {
   "cell_type": "markdown",
   "metadata": {
    "colab_type": "text",
    "id": "C0pmobqzJ4Pi"
   },
   "source": [
    "**NOTE:**\n",
    "\n",
    "Above assumption is taken care in [Remove highly correlated columns](#section403). Moving forward."
   ]
  },
  {
   "cell_type": "markdown",
   "metadata": {
    "colab_type": "text",
    "id": "lSmrkLSJ5XyV"
   },
   "source": [
    "#### b.  Independant variables and target variable should have linear relation"
   ]
  },
  {
   "cell_type": "code",
   "execution_count": null,
   "metadata": {
    "colab": {},
    "colab_type": "code",
    "id": "xdlLU0JgLehN"
   },
   "outputs": [],
   "source": [
    "continuous_columns"
   ]
  },
  {
   "cell_type": "code",
   "execution_count": null,
   "metadata": {
    "colab": {},
    "colab_type": "code",
    "id": "dYKMFWefK5KI"
   },
   "outputs": [],
   "source": [
    "feature_cols = continuous_columns"
   ]
  },
  {
   "cell_type": "code",
   "execution_count": null,
   "metadata": {
    "colab": {},
    "colab_type": "code",
    "id": "r_7RUtsw5sdM"
   },
   "outputs": [],
   "source": [
    "cols_to_drop = list()\n",
    "\n",
    "# iterating through feature columns and collecting all columns \n",
    "# who have less than 0.1 correlation with target variable\n",
    "for i in range(0, len(feature_cols)):\n",
    "    corr_matrix = df_views_songs_sd[['Views', feature_cols[i]]].corr().abs()\n",
    "    if(corr_matrix.iloc[0][1] < 0.1):\n",
    "        cols_to_drop.append(feature_cols[i])\n",
    "\n",
    "#dropping all uncorrelated columns\n",
    "df_views_songs_sd.drop(cols_to_drop, axis = 1, inplace=True)\n",
    "df_views_songs_sd.shape"
   ]
  },
  {
   "cell_type": "markdown",
   "metadata": {
    "colab_type": "text",
    "id": "weWfKFrAuBp5"
   },
   "source": [
    "**NOTE:**\n",
    "\n",
    "Dropped all columns who have less than **0.1 correlation** with target variable."
   ]
  },
  {
   "cell_type": "markdown",
   "metadata": {
    "colab_type": "text",
    "id": "T-Ry-JqGxLkH"
   },
   "source": [
    "#### c. Target variable should be normally distributed\n"
   ]
  },
  {
   "cell_type": "code",
   "execution_count": null,
   "metadata": {
    "colab": {},
    "colab_type": "code",
    "id": "y7BQ2SyKxR7X"
   },
   "outputs": [],
   "source": [
    "views = df_views_songs_sd[df_views_songs_sd['Is_Test_Data'] == 0]['Views']\n",
    "sns.distplot(views, color=\"b\")"
   ]
  },
  {
   "cell_type": "markdown",
   "metadata": {
    "colab_type": "text",
    "id": "4JEU8vK5uBpp"
   },
   "source": [
    "**Observations**\n",
    "\n",
    "1. We observe target variable i.e; **Views** is not normally distributed\n",
    "2. Lets apply different transformation and check."
   ]
  },
  {
   "cell_type": "code",
   "execution_count": null,
   "metadata": {
    "colab": {},
    "colab_type": "code",
    "id": "aes3NCgP0rJa"
   },
   "outputs": [],
   "source": [
    "views_trans = views.apply(lambda x : x**(1/10))\n",
    "sns.distplot(views_trans, color=\"b\")"
   ]
  },
  {
   "cell_type": "markdown",
   "metadata": {
    "colab_type": "text",
    "id": "QsSi6XTSuBpr"
   },
   "source": [
    "**Observations:** Current transformation has made it little better. Let's continue."
   ]
  },
  {
   "cell_type": "code",
   "execution_count": null,
   "metadata": {
    "colab": {},
    "colab_type": "code",
    "id": "irTKVTUEMgs4"
   },
   "outputs": [],
   "source": [
    "views_trans = pd.DataFrame({'Views':views_trans})"
   ]
  },
  {
   "cell_type": "markdown",
   "metadata": {
    "colab_type": "text",
    "id": "InjPeD7bQWDR"
   },
   "source": [
    "NOTE:\n",
    "\n",
    "Let's assign newly transformed 'Views' column after train test split."
   ]
  },
  {
   "cell_type": "markdown",
   "metadata": {
    "colab_type": "text",
    "id": "dmP4mWh3uBpg"
   },
   "source": [
    " <a id=section60102></a>\n",
    " ### 6.1.2 Segregating Train and Test data"
   ]
  },
  {
   "cell_type": "code",
   "execution_count": null,
   "metadata": {
    "colab": {},
    "colab_type": "code",
    "id": "BNu4JZYyuBpg"
   },
   "outputs": [],
   "source": [
    "df_views_songs_train = df_views_songs_sd[df_views_songs_sd['Is_Test_Data'] == 0]\n",
    "df_views_songs_test = df_views_songs_sd[df_views_songs_sd['Is_Test_Data'] == 1]"
   ]
  },
  {
   "cell_type": "code",
   "execution_count": null,
   "metadata": {
    "colab": {},
    "colab_type": "code",
    "id": "1QAE9wPTuBpi"
   },
   "outputs": [],
   "source": [
    "# dropping Is_Test_Data column\n",
    " df_views_songs_train.drop('Is_Test_Data', axis=1, inplace=True)\n",
    " df_views_songs_test.drop('Is_Test_Data', axis=1, inplace=True)"
   ]
  },
  {
   "cell_type": "code",
   "execution_count": null,
   "metadata": {
    "colab": {},
    "colab_type": "code",
    "id": "lZTKDtePNOqh"
   },
   "outputs": [],
   "source": [
    "print(df_views_songs_train.shape)\n",
    "print(df_views_songs_test.shape)"
   ]
  },
  {
   "cell_type": "code",
   "execution_count": null,
   "metadata": {
    "colab": {},
    "colab_type": "code",
    "id": "qrWN3ylPS3Sm"
   },
   "outputs": [],
   "source": [
    "feature_cols = list(df_views_songs_train.columns)\n",
    "feature_cols.remove('Views')\n",
    "feature_cols"
   ]
  },
  {
   "cell_type": "code",
   "execution_count": null,
   "metadata": {
    "colab": {},
    "colab_type": "code",
    "id": "PBB5p8W8REyq"
   },
   "outputs": [],
   "source": [
    " X = df_views_songs_train[feature_cols]\n",
    " y = df_views_songs_train['Views']"
   ]
  },
  {
   "cell_type": "markdown",
   "metadata": {
    "colab_type": "text",
    "id": "3HCFI-T4uBp5"
   },
   "source": [
    "##### Splitting train data again into train and test data\n"
   ]
  },
  {
   "cell_type": "code",
   "execution_count": null,
   "metadata": {
    "colab": {},
    "colab_type": "code",
    "id": "ZKPSNFLIuBp6"
   },
   "outputs": [],
   "source": [
    "from sklearn.model_selection import train_test_split\n",
    "\n",
    "def split(X,y):\n",
    "    return train_test_split(X, y, test_size=0.30, random_state=1)"
   ]
  },
  {
   "cell_type": "code",
   "execution_count": null,
   "metadata": {
    "colab": {},
    "colab_type": "code",
    "id": "f9SpbRN8uBp7"
   },
   "outputs": [],
   "source": [
    "X_train_lr, X_test_lr, y_train_lr, y_test_lr=split(X,y)\n",
    "print('Train cases as below')\n",
    "print('X_train shape: ',X_train_lr.shape)\n",
    "print('y_train shape: ',y_train_lr.shape)\n",
    "print('\\nTest cases as below')\n",
    "print('X_test shape: ',X_test_lr.shape)\n",
    "print('y_test shape: ',y_test_lr.shape)"
   ]
  },
  {
   "cell_type": "markdown",
   "metadata": {
    "colab_type": "text",
    "id": "wdVAdtoyuBp9"
   },
   "source": [
    "##### Defining Linear Regression function for modelling"
   ]
  },
  {
   "cell_type": "code",
   "execution_count": null,
   "metadata": {
    "colab": {},
    "colab_type": "code",
    "id": "W2bOrziTbvG1"
   },
   "outputs": [],
   "source": [
    "def rmse_scorer(y_actual, y_predicted) :\n",
    "  from sklearn.metrics import mean_squared_error\n",
    "  from math import sqrt\n",
    "\n",
    "  rmse = sqrt(mean_squared_error(y_actual, y_predicted))\n",
    "  return rmse"
   ]
  },
  {
   "cell_type": "code",
   "execution_count": null,
   "metadata": {
    "colab": {},
    "colab_type": "code",
    "id": "07rUjgEtbjzL"
   },
   "outputs": [],
   "source": [
    "from sklearn.metrics import make_scorer\n",
    "my_scorer = make_scorer(rmse_scorer, greater_is_better=False)"
   ]
  },
  {
   "cell_type": "code",
   "execution_count": null,
   "metadata": {
    "colab": {},
    "colab_type": "code",
    "id": "7kfQ9EgWqnwq"
   },
   "outputs": [],
   "source": [
    "from sklearn.linear_model import LinearRegression\n",
    "from sklearn.model_selection import GridSearchCV\n",
    "from sklearn.model_selection import RandomizedSearchCV\n",
    "\n",
    "def linear_reg(gridsearch = False):\n",
    "    linreg = LinearRegression() \n",
    "    if not(gridsearch):\n",
    "        parameters = {'normalize':[True,False], 'copy_X':[True, False] }\n",
    "        linreg = RandomizedSearchCV(linreg,parameters, cv = 10,refit = True , scoring = my_scorer)                                                    \n",
    "        return linreg\n",
    "    else:\n",
    "        parameters = {'normalize':[True,False], 'copy_X':[True, False]}\n",
    "        linreg = GridSearchCV(linreg,parameters, cv = 10,refit = True , scoring= my_scorer)                                                    \n",
    "        return linreg"
   ]
  },
  {
   "cell_type": "markdown",
   "metadata": {
    "colab_type": "text",
    "id": "19qiPg1Wo-dL"
   },
   "source": [
    " <a id=section60102></a>\n",
    "### 6.1.2 Using Default Model"
   ]
  },
  {
   "cell_type": "markdown",
   "metadata": {
    "colab_type": "text",
    "id": "hQw4-J0quBqA"
   },
   "source": [
    " <a id=section6010201></a>\n",
    "#### 6.1.2.1 Building Model and Prediction"
   ]
  },
  {
   "cell_type": "code",
   "execution_count": null,
   "metadata": {
    "colab": {},
    "colab_type": "code",
    "id": "m4YNqH6ky8nt"
   },
   "outputs": [],
   "source": [
    "linreg = LinearRegression()\n",
    "linreg.fit(X_train_lr,y_train_lr)"
   ]
  },
  {
   "cell_type": "code",
   "execution_count": null,
   "metadata": {
    "colab": {},
    "colab_type": "code",
    "id": "kF_P_Wp5ridb"
   },
   "outputs": [],
   "source": [
    "# print the intercept and coefficients\n",
    "print('Intercept:',linreg.intercept_)\n",
    "print('Coefficients:',linreg.coef_)  "
   ]
  },
  {
   "cell_type": "code",
   "execution_count": null,
   "metadata": {
    "colab": {},
    "colab_type": "code",
    "id": "ffF_uavKrtVr"
   },
   "outputs": [],
   "source": [
    " # make predictions on the training set\n",
    "y_pred_train_lr = linreg.predict(X_train_lr) "
   ]
  },
  {
   "cell_type": "code",
   "execution_count": null,
   "metadata": {
    "colab": {},
    "colab_type": "code",
    "id": "cOIYHiuJr2zf"
   },
   "outputs": [],
   "source": [
    " # make predictions on the testing set\n",
    "y_pred_test_lr = linreg.predict(X_test_lr)  "
   ]
  },
  {
   "cell_type": "code",
   "execution_count": null,
   "metadata": {
    "colab": {},
    "colab_type": "code",
    "id": "Z1_QTFZgUeh6"
   },
   "outputs": [],
   "source": [
    "RMSE_MAP = {}"
   ]
  },
  {
   "cell_type": "markdown",
   "metadata": {
    "colab_type": "text",
    "id": "ahoydxpEuBqg"
   },
   "source": [
    " <a id=section6010202></a>\n",
    "#### 6.1.2.2 Model Evaluation"
   ]
  },
  {
   "cell_type": "markdown",
   "metadata": {
    "colab_type": "text",
    "id": "toOwYaAvuBqh"
   },
   "source": [
    "#### a. RMSE\n"
   ]
  },
  {
   "cell_type": "code",
   "execution_count": null,
   "metadata": {
    "colab": {},
    "colab_type": "code",
    "id": "_UpgS1xwuBqh"
   },
   "outputs": [],
   "source": [
    "from sklearn import metrics\n",
    "RMSE_train = np.sqrt( metrics.mean_squared_error(y_train_lr, y_pred_train_lr))\n",
    "print('RMSE for training set is {}'.format(RMSE_train))\n",
    "RMSE_MAP['lr_train_d'] = RMSE_train\n",
    "\n",
    "RMSE_test = np.sqrt( metrics.mean_squared_error(y_test_lr, y_pred_test_lr))\n",
    "print('RMSE for testing set is {}'.format(RMSE_test))\n",
    "RMSE_MAP['lr_test_d'] = RMSE_test"
   ]
  },
  {
   "cell_type": "markdown",
   "metadata": {
    "colab_type": "text",
    "id": "j-bx6AyvuBqk"
   },
   "source": [
    "#### b. MAPE\n"
   ]
  },
  {
   "cell_type": "code",
   "execution_count": null,
   "metadata": {
    "colab": {},
    "colab_type": "code",
    "id": "hWCUjzfYuBql"
   },
   "outputs": [],
   "source": [
    "def mean_absolute_percentage_error(y_true, y_pred): \n",
    "    y_true, y_pred = np.array(y_true), np.array(y_pred)\n",
    "    return np.mean(np.abs((y_true - y_pred) / y_true)) * 100"
   ]
  },
  {
   "cell_type": "code",
   "execution_count": null,
   "metadata": {
    "colab": {},
    "colab_type": "code",
    "id": "BD8Ja0N-uBqo"
   },
   "outputs": [],
   "source": [
    "mape_train_error = mean_absolute_percentage_error(y_train_lr, y_pred_train_lr)\n",
    "mape_test_error = mean_absolute_percentage_error(y_test_lr, y_pred_test_lr)\n",
    "print('MAPE for training set is {}'.format(mape_train_error))\n",
    "print('MAPE for testing set is {}'.format(mape_test_error))"
   ]
  },
  {
   "cell_type": "markdown",
   "metadata": {
    "colab_type": "text",
    "id": "aPWTERz2uBqs"
   },
   "source": [
    "#### c. R-Squared Error"
   ]
  },
  {
   "cell_type": "code",
   "execution_count": null,
   "metadata": {
    "colab": {},
    "colab_type": "code",
    "id": "YL16o6mLuBqs"
   },
   "outputs": [],
   "source": [
    "from sklearn.metrics import r2_score\n",
    "\n",
    "r_squared_train_lr = r2_score(y_train_lr,y_pred_train_lr )\n",
    "print('R-Squared for training set is {}'.format(r_squared_train_lr))"
   ]
  },
  {
   "cell_type": "code",
   "execution_count": null,
   "metadata": {
    "colab": {},
    "colab_type": "code",
    "id": "kdoKS9BRuBqu"
   },
   "outputs": [],
   "source": [
    "r_squared_test_lr = r2_score(y_test_lr,y_pred_test_lr )\n",
    "print('R-Squared for testing set is {}'.format(r_squared_test_lr))"
   ]
  },
  {
   "cell_type": "markdown",
   "metadata": {
    "colab_type": "text",
    "id": "q1vbwN7ruBqx"
   },
   "source": [
    "#### d. Adjusted R-Squared Error"
   ]
  },
  {
   "cell_type": "code",
   "execution_count": null,
   "metadata": {
    "colab": {},
    "colab_type": "code",
    "id": "7GWw-DXIuBqx",
    "scrolled": true
   },
   "outputs": [],
   "source": [
    "adjusted_r_squared_train_lr = 1 - (1-r_squared_train_lr)*(len(y_train_lr)-1)/(len(y_train_lr)-X_train_lr.shape[1]-1)\n",
    "print('Adjusted R-Squared for training set is {}'.format(adjusted_r_squared_train_lr))"
   ]
  },
  {
   "cell_type": "code",
   "execution_count": null,
   "metadata": {
    "colab": {},
    "colab_type": "code",
    "id": "U868BZlvuBq3"
   },
   "outputs": [],
   "source": [
    "adjusted_r_squared_test_lr = 1 - (1-r_squared_test_lr)*(len(y_test_lr)-1)/(len(y_test_lr)-X_test_lr.shape[1]-1)\n",
    "print('Adjusted R-Squared for testing set is {}'.format(adjusted_r_squared_test_lr))"
   ]
  },
  {
   "cell_type": "markdown",
   "metadata": {
    "colab_type": "text",
    "id": "hRjBYMRcuBq5"
   },
   "source": [
    " <a id=section60103></a>\n",
    "### 6.1.3 Using GridSearchCV"
   ]
  },
  {
   "cell_type": "markdown",
   "metadata": {
    "colab_type": "text",
    "id": "3sZbZRs-uBq5"
   },
   "source": [
    " <a id=section6010301></a>\n",
    "#### 6.1.3.1 Building Model and Prediction"
   ]
  },
  {
   "cell_type": "code",
   "execution_count": null,
   "metadata": {
    "colab": {},
    "colab_type": "code",
    "id": "KmcHP_MnuBq6"
   },
   "outputs": [],
   "source": [
    "linreg_gs = linear_reg(True)\n",
    "linreg_gs.fit(X_train_lr,y_train_lr)"
   ]
  },
  {
   "cell_type": "code",
   "execution_count": null,
   "metadata": {
    "colab": {},
    "colab_type": "code",
    "id": "qUfOL9LfuBq9"
   },
   "outputs": [],
   "source": [
    "print(\"best_params after cross-validation : \", linreg_gs.best_params_)   "
   ]
  },
  {
   "cell_type": "code",
   "execution_count": null,
   "metadata": {
    "colab": {},
    "colab_type": "code",
    "id": "k802esjNuBq_"
   },
   "outputs": [],
   "source": [
    " # make predictions on the training set\n",
    "y_pred_train_lr_gs = linreg_gs.predict(X_train_lr) "
   ]
  },
  {
   "cell_type": "code",
   "execution_count": null,
   "metadata": {
    "colab": {},
    "colab_type": "code",
    "id": "b29Eu33yuBrB"
   },
   "outputs": [],
   "source": [
    " # make predictions on the testing set\n",
    "y_pred_test_lr_gs = linreg_gs.predict(X_test_lr)  "
   ]
  },
  {
   "cell_type": "markdown",
   "metadata": {
    "colab_type": "text",
    "id": "yO_jkHgbuBrD"
   },
   "source": [
    " <a id=section6010302></a>\n",
    "#### 6.1.3.2 Model Evaluation"
   ]
  },
  {
   "cell_type": "markdown",
   "metadata": {
    "colab_type": "text",
    "id": "bIZg4h35uBrD"
   },
   "source": [
    "#### a. RMSE\n"
   ]
  },
  {
   "cell_type": "code",
   "execution_count": null,
   "metadata": {
    "colab": {},
    "colab_type": "code",
    "id": "XCeohDueuBrE"
   },
   "outputs": [],
   "source": [
    "from sklearn import metrics\n",
    "RMSE_train = np.sqrt( metrics.mean_squared_error(y_train_lr, y_pred_train_lr_gs))\n",
    "print('RMSE for training set is {}'.format(RMSE_train))\n",
    "RMSE_MAP['lr_train_gs'] = RMSE_train\n",
    "\n",
    "RMSE_test = np.sqrt( metrics.mean_squared_error(y_test_lr, y_pred_test_lr_gs))\n",
    "print('RMSE for testing set is {}'.format(RMSE_test))\n",
    "RMSE_MAP['lr_test_gs'] = RMSE_test"
   ]
  },
  {
   "cell_type": "markdown",
   "metadata": {
    "colab_type": "text",
    "id": "rXSjndu7uBrG"
   },
   "source": [
    "#### b. MAPE\n"
   ]
  },
  {
   "cell_type": "code",
   "execution_count": null,
   "metadata": {
    "colab": {},
    "colab_type": "code",
    "id": "ThPzEHuWuBrJ"
   },
   "outputs": [],
   "source": [
    "mape_train_error = mean_absolute_percentage_error(y_train_lr, y_pred_train_lr_gs)\n",
    "mape_test_error = mean_absolute_percentage_error(y_test_lr, y_pred_test_lr_gs)\n",
    "print('MAPE for training set is {}'.format(mape_train_error))\n",
    "print('MAPE for testing set is {}'.format(mape_test_error))"
   ]
  },
  {
   "cell_type": "markdown",
   "metadata": {
    "colab_type": "text",
    "id": "XDKXxYr3uBrO"
   },
   "source": [
    "#### c. R-Squared Error"
   ]
  },
  {
   "cell_type": "code",
   "execution_count": null,
   "metadata": {
    "colab": {},
    "colab_type": "code",
    "id": "ZKlq2y6LuBrO"
   },
   "outputs": [],
   "source": [
    "from sklearn.metrics import r2_score\n",
    "\n",
    "r_squared_train_lr_gs = r2_score(y_train_lr,y_pred_train_lr_gs )\n",
    "print('R-Squared for training set is {}'.format(r_squared_train_lr_gs))"
   ]
  },
  {
   "cell_type": "code",
   "execution_count": null,
   "metadata": {
    "colab": {},
    "colab_type": "code",
    "id": "qZtOM0O6uBrR"
   },
   "outputs": [],
   "source": [
    "r_squared_test_lr_gs = r2_score(y_test_lr,y_pred_test_lr_gs )\n",
    "print('R-Squared for testing set is {}'.format(r_squared_test_lr_gs))"
   ]
  },
  {
   "cell_type": "markdown",
   "metadata": {
    "colab_type": "text",
    "id": "HleW9XkQuBrV"
   },
   "source": [
    "#### d. Adjusted R-Squared Error"
   ]
  },
  {
   "cell_type": "code",
   "execution_count": null,
   "metadata": {
    "colab": {},
    "colab_type": "code",
    "id": "OxbwTL-xuBrV",
    "scrolled": true
   },
   "outputs": [],
   "source": [
    "adjusted_r_squared_train_lr_gs = 1 - (1-r_squared_train_lr_gs)*(len(y_train_lr)-1)/(len(y_train_lr)-X_train_lr.shape[1]-1)\n",
    "print('Adjusted R-Squared for training set is {}'.format(adjusted_r_squared_train_lr_gs))"
   ]
  },
  {
   "cell_type": "code",
   "execution_count": null,
   "metadata": {
    "colab": {},
    "colab_type": "code",
    "id": "R2MVzrtSuBrX"
   },
   "outputs": [],
   "source": [
    "adjusted_r_squared_test_lr_gs = 1 - (1-r_squared_test_lr_gs)*(len(y_test_lr)-1)/(len(y_test_lr)-X_test_lr.shape[1]-1)\n",
    "print('Adjusted R-Squared for testing set is {}'.format(adjusted_r_squared_test_lr_gs))"
   ]
  },
  {
   "cell_type": "markdown",
   "metadata": {
    "colab_type": "text",
    "id": "bVSfvFgxuBra"
   },
   "source": [
    " <a id=section60104></a>\n",
    "### 6.1.4 Using RandomSearchCV"
   ]
  },
  {
   "cell_type": "markdown",
   "metadata": {
    "colab_type": "text",
    "id": "CQGe49m6uBrb"
   },
   "source": [
    " <a id=section6010401></a>\n",
    "#### 6.1.4.1 Building Model and Prediction"
   ]
  },
  {
   "cell_type": "code",
   "execution_count": null,
   "metadata": {
    "colab": {},
    "colab_type": "code",
    "id": "tocdyXKcuBrc"
   },
   "outputs": [],
   "source": [
    "linreg_rs = linear_reg(False)\n",
    "linreg_rs.fit(X_train_lr,y_train_lr)"
   ]
  },
  {
   "cell_type": "code",
   "execution_count": null,
   "metadata": {
    "colab": {},
    "colab_type": "code",
    "id": "o7eCDNnCuBrg"
   },
   "outputs": [],
   "source": [
    "print(\"best_params after cross-validation : \", linreg_rs.best_params_)   "
   ]
  },
  {
   "cell_type": "code",
   "execution_count": null,
   "metadata": {
    "colab": {},
    "colab_type": "code",
    "id": "1uPpT2pmuBri"
   },
   "outputs": [],
   "source": [
    " # make predictions on the training set\n",
    "y_pred_train_lr_rs = linreg_rs.predict(X_train_lr) "
   ]
  },
  {
   "cell_type": "code",
   "execution_count": null,
   "metadata": {
    "colab": {},
    "colab_type": "code",
    "id": "QRloa3ieuBrj"
   },
   "outputs": [],
   "source": [
    " # make predictions on the testing set\n",
    "y_pred_test_lr_rs = linreg_rs.predict(X_test_lr)  "
   ]
  },
  {
   "cell_type": "markdown",
   "metadata": {
    "colab_type": "text",
    "id": "aokgIekOuBrl"
   },
   "source": [
    " <a id=section6010402></a>\n",
    "#### 6.1.4.2 Model Evaluation"
   ]
  },
  {
   "cell_type": "markdown",
   "metadata": {
    "colab_type": "text",
    "id": "SOSYQ0ejuBrm"
   },
   "source": [
    "#### a. RMSE\n"
   ]
  },
  {
   "cell_type": "code",
   "execution_count": null,
   "metadata": {
    "colab": {},
    "colab_type": "code",
    "id": "ruYJMd45uBrm"
   },
   "outputs": [],
   "source": [
    "from sklearn import metrics\n",
    "RMSE_train = np.sqrt( metrics.mean_squared_error(y_train_lr, y_pred_train_lr_rs))\n",
    "print('RMSE for training set is {}'.format(RMSE_train))\n",
    "RMSE_MAP['lr_train_rs'] = RMSE_train\n",
    "\n",
    "RMSE_test = np.sqrt( metrics.mean_squared_error(y_test_lr, y_pred_test_lr_rs))\n",
    "print('RMSE for testing set is {}'.format(RMSE_test))\n",
    "RMSE_MAP['lr_test_rs'] = RMSE_test"
   ]
  },
  {
   "cell_type": "markdown",
   "metadata": {
    "colab_type": "text",
    "id": "h497xmeZuBrn"
   },
   "source": [
    "#### b. MAPE\n"
   ]
  },
  {
   "cell_type": "code",
   "execution_count": null,
   "metadata": {
    "colab": {},
    "colab_type": "code",
    "id": "aSiiyiYwuBrn"
   },
   "outputs": [],
   "source": [
    "mape_train_error = mean_absolute_percentage_error(y_train_lr, y_pred_train_lr_rs)\n",
    "mape_test_error = mean_absolute_percentage_error(y_test_lr, y_pred_test_lr_rs)\n",
    "print('MAPE for training set is {}'.format(mape_train_error))\n",
    "print('MAPE for testing set is {}'.format(mape_test_error))"
   ]
  },
  {
   "cell_type": "markdown",
   "metadata": {
    "colab_type": "text",
    "id": "ZamyNRnFuBrp"
   },
   "source": [
    "#### c. R-Squared Error"
   ]
  },
  {
   "cell_type": "code",
   "execution_count": null,
   "metadata": {
    "colab": {},
    "colab_type": "code",
    "id": "nPifuD7ruBrp"
   },
   "outputs": [],
   "source": [
    "from sklearn.metrics import r2_score\n",
    "\n",
    "r_squared_train_lr_rs = r2_score(y_train_lr,y_pred_train_lr_rs )\n",
    "print('R-Squared for training set is {}'.format(r_squared_train_lr_rs))"
   ]
  },
  {
   "cell_type": "code",
   "execution_count": null,
   "metadata": {
    "colab": {},
    "colab_type": "code",
    "id": "89cXNEFkuBrq"
   },
   "outputs": [],
   "source": [
    "r_squared_test_lr_rs = r2_score(y_test_lr,y_pred_test_lr_rs )\n",
    "print('R-Squared for testing set is {}'.format(r_squared_test_lr_rs))"
   ]
  },
  {
   "cell_type": "markdown",
   "metadata": {
    "colab_type": "text",
    "id": "_6UCLovcuBrs"
   },
   "source": [
    "#### d. Adjusted R-Squared Error"
   ]
  },
  {
   "cell_type": "code",
   "execution_count": null,
   "metadata": {
    "colab": {},
    "colab_type": "code",
    "id": "4Y_Nk8n0uBrs",
    "scrolled": true
   },
   "outputs": [],
   "source": [
    "adjusted_r_squared_train_lr_rs = 1 - (1-r_squared_train_lr_rs)*(len(y_train_lr)-1)/(len(y_train_lr)-X_train_lr.shape[1]-1)\n",
    "print('Adjusted R-Squared for training set is {}'.format(adjusted_r_squared_train_lr_rs))"
   ]
  },
  {
   "cell_type": "code",
   "execution_count": null,
   "metadata": {
    "colab": {},
    "colab_type": "code",
    "id": "UpaHyR-euBru"
   },
   "outputs": [],
   "source": [
    "adjusted_r_squared_test_lr_rs = 1 - (1-r_squared_test_lr_rs)*(len(y_test_lr)-1)/(len(y_test_lr)-X_test_lr.shape[1]-1)\n",
    "print('Adjusted R-Squared for testing set is {}'.format(adjusted_r_squared_test_lr_rs))"
   ]
  },
  {
   "cell_type": "markdown",
   "metadata": {
    "colab_type": "text",
    "id": "mSHd4kupwCjF"
   },
   "source": [
    " <a id=section602></a>\n",
    "## 6.2 Decision Tree"
   ]
  },
  {
   "cell_type": "markdown",
   "metadata": {
    "colab_type": "text",
    "id": "dLYBaWxqwCjG"
   },
   "source": [
    " <a id=section60201></a>\n",
    "### 6.2.1 Using Default Model"
   ]
  },
  {
   "cell_type": "markdown",
   "metadata": {
    "colab_type": "text",
    "id": "1IuVQOV0wCjK"
   },
   "source": [
    "##### Splitting train and test data\n"
   ]
  },
  {
   "cell_type": "code",
   "execution_count": null,
   "metadata": {
    "colab": {},
    "colab_type": "code",
    "id": "nw8iX_EFwCjV"
   },
   "outputs": [],
   "source": [
    "X_train_dt, X_test_dt, y_train_dt, y_test_dt=split(X,y)\n",
    "print('Train cases as below')\n",
    "print('X_train shape: ',X_train_dt.shape)\n",
    "print('y_train shape: ',y_train_dt.shape)\n",
    "print('\\nTest cases as below')\n",
    "print('X_test shape: ',X_test_dt.shape)\n",
    "print('y_test shape: ',y_test_dt.shape)"
   ]
  },
  {
   "cell_type": "markdown",
   "metadata": {
    "colab_type": "text",
    "id": "6q19VBbpwCji"
   },
   "source": [
    " <a id=section6020101></a>\n",
    "#### 6.2.1.1 Building Model and Prediction"
   ]
  },
  {
   "cell_type": "code",
   "execution_count": null,
   "metadata": {
    "colab": {},
    "colab_type": "code",
    "id": "3bn-s9sKwCjk"
   },
   "outputs": [],
   "source": [
    "from sklearn.tree import DecisionTreeRegressor\n",
    "\n",
    "# using default model for building \n",
    "dt_reg = DecisionTreeRegressor()\n",
    "dt_reg.fit(X_train_dt, y_train_dt)"
   ]
  },
  {
   "cell_type": "code",
   "execution_count": null,
   "metadata": {
    "colab": {},
    "colab_type": "code",
    "id": "yTIZ8rlMwCjx"
   },
   "outputs": [],
   "source": [
    "#prediction on training data\n",
    "y_pred_train_dt = dt_reg.predict(X_train_dt)\n",
    "\n",
    "#prediction on testing data\n",
    "y_pred_test_dt = dt_reg.predict(X_test_dt)"
   ]
  },
  {
   "cell_type": "markdown",
   "metadata": {
    "colab_type": "text",
    "id": "pf3Ya-dpwCj0"
   },
   "source": [
    "<a id=section6020102></a>\n",
    "#### 6.2.1.2 Model Evaluation"
   ]
  },
  {
   "cell_type": "markdown",
   "metadata": {
    "colab_type": "text",
    "id": "ExwnSXLWwCj0"
   },
   "source": [
    "#### a. RMSE\n"
   ]
  },
  {
   "cell_type": "code",
   "execution_count": null,
   "metadata": {
    "colab": {},
    "colab_type": "code",
    "id": "wKoSYSNdwCj9"
   },
   "outputs": [],
   "source": [
    "RMSE_train_dt = np.sqrt( metrics.mean_squared_error(y_train_dt, y_pred_train_dt))\n",
    "print('RMSE for training set is {}'.format(RMSE_train_dt))\n",
    "RMSE_MAP['dt_train_d'] = RMSE_train_dt\n",
    "\n",
    "RMSE_test_dt = np.sqrt( metrics.mean_squared_error(y_test_dt, y_pred_test_dt))\n",
    "print('RMSE for testing set is {}'.format(RMSE_test_dt))\n",
    "RMSE_MAP['dt_test_d'] = RMSE_test_dt"
   ]
  },
  {
   "cell_type": "markdown",
   "metadata": {
    "colab_type": "text",
    "id": "7K7zGP55wCkM"
   },
   "source": [
    "#### b. MAPE\n"
   ]
  },
  {
   "cell_type": "code",
   "execution_count": null,
   "metadata": {
    "colab": {},
    "colab_type": "code",
    "id": "RlYh5OYpwCkO"
   },
   "outputs": [],
   "source": [
    "mape_train_error = mean_absolute_percentage_error(y_train_dt, y_pred_train_dt)\n",
    "mape_test_error = mean_absolute_percentage_error(y_test_dt, y_pred_test_dt)\n",
    "print('MAPE for training set is {}'.format(mape_train_error))\n",
    "print('MAPE for testing set is {}'.format(mape_test_error))"
   ]
  },
  {
   "cell_type": "markdown",
   "metadata": {
    "colab_type": "text",
    "id": "JN5aY5WYwCkT"
   },
   "source": [
    "#### c. R-Squared Error"
   ]
  },
  {
   "cell_type": "code",
   "execution_count": null,
   "metadata": {
    "colab": {},
    "colab_type": "code",
    "id": "n5mfOc70wCkU"
   },
   "outputs": [],
   "source": [
    "r_squared_train_dt = r2_score(y_train_dt,y_pred_train_dt )\n",
    "print('R-Squared for training set is {}'.format(r_squared_train_dt))"
   ]
  },
  {
   "cell_type": "code",
   "execution_count": null,
   "metadata": {
    "colab": {},
    "colab_type": "code",
    "id": "n4PY6JCuwCkZ"
   },
   "outputs": [],
   "source": [
    "r_squared_test_dt = r2_score(y_test_dt,y_pred_test_dt )\n",
    "print('R-Squared for testing set is {}'.format(r_squared_test_dt))"
   ]
  },
  {
   "cell_type": "markdown",
   "metadata": {
    "colab_type": "text",
    "id": "Mcsj_99dwCkd"
   },
   "source": [
    "#### d. Adjusted R-Squared Error"
   ]
  },
  {
   "cell_type": "code",
   "execution_count": null,
   "metadata": {
    "colab": {},
    "colab_type": "code",
    "id": "Xo-OLL6FwCkd",
    "scrolled": true
   },
   "outputs": [],
   "source": [
    "adjusted_r_squared_train_dt = 1 - (1-r_squared_train_dt)*(len(y_train_dt)-1)/(len(y_train_dt)-X_train_dt.shape[1]-1)\n",
    "print('Adjusted R-Squared for training set is {}'.format(adjusted_r_squared_train_dt))"
   ]
  },
  {
   "cell_type": "code",
   "execution_count": null,
   "metadata": {
    "colab": {},
    "colab_type": "code",
    "id": "Rsz95ztUwCkf"
   },
   "outputs": [],
   "source": [
    "adjusted_r_squared_test_dt = 1 - (1-r_squared_test_dt)*(len(y_test_dt)-1)/(len(y_test_dt)-X_train_dt.shape[1]-1)\n",
    "print('Adjusted R-Squared for testing set is {}'.format(adjusted_r_squared_test_dt))"
   ]
  },
  {
   "cell_type": "markdown",
   "metadata": {
    "colab_type": "text",
    "id": "GeQe_MQdwCkh"
   },
   "source": [
    " <a id=section60202></a>\n",
    "### 6.2.2 Using GridSearchCV"
   ]
  },
  {
   "cell_type": "markdown",
   "metadata": {
    "colab_type": "text",
    "id": "MaAF2bN2wCkk"
   },
   "source": [
    " <a id=section6020201></a>\n",
    "#### 6.2.2.1 Building Model and Prediction"
   ]
  },
  {
   "cell_type": "code",
   "execution_count": null,
   "metadata": {
    "colab": {},
    "colab_type": "code",
    "id": "KCraGlBrwCkl"
   },
   "outputs": [],
   "source": [
    "from sklearn.model_selection import GridSearchCV"
   ]
  },
  {
   "cell_type": "code",
   "execution_count": null,
   "metadata": {
    "colab": {},
    "colab_type": "code",
    "id": "OPn-BRYjwCkt"
   },
   "outputs": [],
   "source": [
    "# Number of features to consider at every split\n",
    "max_features = ['auto', 'sqrt']\n",
    "# Maximum number of levels in tree\n",
    "max_depth = [int(x) for x in np.linspace(10, 110, num = 11)]\n",
    "max_depth.append(None)\n",
    "# Minimum number of samples required to split a node\n",
    "min_samples_split = [2, 5, 10]\n",
    "# Minimum number of samples required at each leaf node\n",
    "min_samples_leaf = [1, 2, 4]\n",
    "# Method of selecting samples for training each tree\n",
    "bootstrap = [True, False]\n",
    "\n",
    "# Create the random grid\n",
    "param_grid = {\n",
    "               'max_features': max_features,\n",
    "               'max_depth': max_depth,\n",
    "               'min_samples_split': min_samples_split,\n",
    "               'min_samples_leaf': min_samples_leaf\n",
    "               \n",
    "}"
   ]
  },
  {
   "cell_type": "code",
   "execution_count": null,
   "metadata": {
    "colab": {},
    "colab_type": "code",
    "id": "cC-BaBqOwCk0"
   },
   "outputs": [],
   "source": [
    "# Instantiate the grid search model\n",
    "dt_reg_gs = GridSearchCV(estimator = dt_reg, param_grid = param_grid, \n",
    "                          cv = 3, n_jobs = -1, scoring = my_scorer, verbose = 2)"
   ]
  },
  {
   "cell_type": "code",
   "execution_count": null,
   "metadata": {
    "colab": {},
    "colab_type": "code",
    "id": "EVfA_dnXwCk8",
    "scrolled": true
   },
   "outputs": [],
   "source": [
    "dt_reg_gs.fit(X_train_dt, y_train_dt)"
   ]
  },
  {
   "cell_type": "code",
   "execution_count": null,
   "metadata": {
    "colab": {},
    "colab_type": "code",
    "id": "2miZetsUwClI"
   },
   "outputs": [],
   "source": [
    "#prediction on training data\n",
    "y_pred_train_dt_gs = dt_reg_gs.predict(X_train_dt)\n",
    "\n",
    "#prediction on testing data\n",
    "y_pred_test_dt_gs = dt_reg_gs.predict(X_test_dt)"
   ]
  },
  {
   "cell_type": "markdown",
   "metadata": {
    "colab_type": "text",
    "id": "P6qSX9bxwClV"
   },
   "source": [
    "<a id=section6020202></a>\n",
    "#### 6.2.2.2 Model Evaluation"
   ]
  },
  {
   "cell_type": "markdown",
   "metadata": {
    "colab_type": "text",
    "id": "l4-mjUWnwClW"
   },
   "source": [
    "#### a. RMSE\n"
   ]
  },
  {
   "cell_type": "code",
   "execution_count": null,
   "metadata": {
    "colab": {},
    "colab_type": "code",
    "id": "Jrs0eficwClX"
   },
   "outputs": [],
   "source": [
    "RMSE_train_dt_gs = np.sqrt( metrics.mean_squared_error(y_train_dt, y_pred_train_dt_gs))\n",
    "print('RMSE for training set is {}'.format(RMSE_train_dt_gs))\n",
    "RMSE_MAP['dt_train_gs'] = RMSE_train_dt_gs\n",
    "\n",
    "RMSE_test_dt_gs = np.sqrt( metrics.mean_squared_error(y_test_dt, y_pred_test_dt_gs))\n",
    "print('RMSE for testing set is {}'.format(RMSE_test_dt_gs))\n",
    "RMSE_MAP['dt_test_gs'] = RMSE_test_dt_gs"
   ]
  },
  {
   "cell_type": "markdown",
   "metadata": {
    "colab_type": "text",
    "id": "KBG4WQV5wClk"
   },
   "source": [
    "#### b. MAPE\n"
   ]
  },
  {
   "cell_type": "code",
   "execution_count": null,
   "metadata": {
    "colab": {},
    "colab_type": "code",
    "id": "W0CV11PAwCln"
   },
   "outputs": [],
   "source": [
    "mape_train_error = mean_absolute_percentage_error(y_train_dt, y_pred_train_dt_gs)\n",
    "mape_test_error = mean_absolute_percentage_error(y_test_dt, y_pred_test_dt_gs)\n",
    "print('MAPE for training set is {}'.format(mape_train_error))\n",
    "print('MAPE for testing set is {}'.format(mape_test_error))"
   ]
  },
  {
   "cell_type": "markdown",
   "metadata": {
    "colab_type": "text",
    "id": "ptQVn3uhwCmk"
   },
   "source": [
    "#### c. R-Squared Error"
   ]
  },
  {
   "cell_type": "code",
   "execution_count": null,
   "metadata": {
    "colab": {},
    "colab_type": "code",
    "id": "8EpWCu7GwCmp"
   },
   "outputs": [],
   "source": [
    "r_squared_train_dt_gs = r2_score(y_train_dt,y_pred_train_dt_gs )\n",
    "print('R-Squared for training set is {}'.format(r_squared_train_dt_gs))"
   ]
  },
  {
   "cell_type": "code",
   "execution_count": null,
   "metadata": {
    "colab": {},
    "colab_type": "code",
    "id": "JTIuCC2owCmr"
   },
   "outputs": [],
   "source": [
    "r_squared_test_dt_gs = r2_score(y_test_dt,y_pred_test_dt_gs )\n",
    "print('R-Squared for testing set is {}'.format(r_squared_test_dt_gs))"
   ]
  },
  {
   "cell_type": "markdown",
   "metadata": {
    "colab_type": "text",
    "id": "GljurFQZwCm5"
   },
   "source": [
    "#### d. Adjusted R-Squared Error"
   ]
  },
  {
   "cell_type": "code",
   "execution_count": null,
   "metadata": {
    "colab": {},
    "colab_type": "code",
    "id": "EH0XVHmcwCm6",
    "scrolled": true
   },
   "outputs": [],
   "source": [
    "adjusted_r_squared_train_dt_gs = 1 - (1-r_squared_train_dt_gs)*(len(y_train_dt)-1)/(len(y_train_dt)-X_train_dt.shape[1]-1)\n",
    "print('Adjusted R-Squared for training set is {}'.format(adjusted_r_squared_train_dt_gs))"
   ]
  },
  {
   "cell_type": "code",
   "execution_count": null,
   "metadata": {
    "colab": {},
    "colab_type": "code",
    "id": "4pVUi0m-wCnJ"
   },
   "outputs": [],
   "source": [
    "adjusted_r_squared_test_dt_gs = 1 - (1-r_squared_test_dt_gs)*(len(y_test_dt)-1)/(len(y_test_dt)-X_train_dt.shape[1]-1)\n",
    "print('Adjusted R-Squared for testing set is {}'.format(adjusted_r_squared_test_dt_gs))"
   ]
  },
  {
   "cell_type": "markdown",
   "metadata": {
    "colab_type": "text",
    "id": "wurrff8bwCnW"
   },
   "source": [
    " <a id=section60203></a>\n",
    "### 6.2.3 Using RandomizedSearchCV"
   ]
  },
  {
   "cell_type": "markdown",
   "metadata": {
    "colab_type": "text",
    "id": "aL-SRwCAwCnX"
   },
   "source": [
    " <a id=section6020301></a>\n",
    "#### 6.2.3.1 Building Model and Prediction"
   ]
  },
  {
   "cell_type": "code",
   "execution_count": null,
   "metadata": {
    "colab": {},
    "colab_type": "code",
    "id": "UyjFY25iwCnZ"
   },
   "outputs": [],
   "source": [
    "# Number of features to consider at every split\n",
    "max_features = ['auto', 'sqrt']\n",
    "# Maximum number of levels in tree\n",
    "max_depth = [int(x) for x in np.linspace(10, 110, num = 11)]\n",
    "max_depth.append(None)\n",
    "# Minimum number of samples required to split a node\n",
    "min_samples_split = [2, 5, 10]\n",
    "# Minimum number of samples required at each leaf node\n",
    "min_samples_leaf = [1, 2, 4]\n",
    "\n",
    "\n",
    "# Create the random grid\n",
    "random_grid = {\n",
    "               'max_features': max_features,\n",
    "               'max_depth': max_depth,\n",
    "               'min_samples_split': min_samples_split,\n",
    "               'min_samples_leaf': min_samples_leaf\n",
    "               \n",
    "}\n"
   ]
  },
  {
   "cell_type": "code",
   "execution_count": null,
   "metadata": {
    "colab": {},
    "colab_type": "code",
    "id": "aqFaKL59wCnf"
   },
   "outputs": [],
   "source": [
    "# Instantiate the random search model\n",
    "dt_reg_rs = RandomizedSearchCV(estimator = dt_reg, param_distributions = random_grid, n_iter = 100, cv = 3, \n",
    "                               verbose=2, random_state=42, scoring = my_scorer, n_jobs = -1)"
   ]
  },
  {
   "cell_type": "code",
   "execution_count": null,
   "metadata": {
    "colab": {},
    "colab_type": "code",
    "id": "M1ibzOb6wCn5",
    "scrolled": true
   },
   "outputs": [],
   "source": [
    "dt_reg_rs.fit(X_train_dt, y_train_dt)"
   ]
  },
  {
   "cell_type": "code",
   "execution_count": null,
   "metadata": {
    "colab": {},
    "colab_type": "code",
    "id": "6gwqupCJwCoO"
   },
   "outputs": [],
   "source": [
    "#prediction on training data\n",
    "y_pred_train_dt_rs = dt_reg_rs.predict(X_train_dt)\n",
    "\n",
    "#prediction on testing data\n",
    "y_pred_test_dt_rs = dt_reg_rs.predict(X_test_dt)"
   ]
  },
  {
   "cell_type": "markdown",
   "metadata": {
    "colab_type": "text",
    "id": "hR3t6OiGwCoY"
   },
   "source": [
    "<a id=section6020302></a>\n",
    "#### 6.2.3.2 Model Evaluation"
   ]
  },
  {
   "cell_type": "markdown",
   "metadata": {
    "colab_type": "text",
    "id": "79CVgoeywCoa"
   },
   "source": [
    "#### a. RMSE\n"
   ]
  },
  {
   "cell_type": "code",
   "execution_count": null,
   "metadata": {
    "colab": {},
    "colab_type": "code",
    "id": "CwDUjyHHwCob"
   },
   "outputs": [],
   "source": [
    "RMSE_train_dt_rs = np.sqrt( metrics.mean_squared_error(y_train_dt, y_pred_train_dt_rs))\n",
    "print('RMSE for training set is {}'.format(RMSE_train_dt_rs))\n",
    "RMSE_MAP['dt_train_rs'] = RMSE_train_dt_rs\n",
    "\n",
    "RMSE_test_dt_gs = np.sqrt( metrics.mean_squared_error(y_test_dt, y_pred_test_dt_rs))\n",
    "print('RMSE for testing set is {}'.format(RMSE_test_dt_gs))\n",
    "RMSE_MAP['dt_test_rs'] = RMSE_test_dt_gs\n"
   ]
  },
  {
   "cell_type": "markdown",
   "metadata": {
    "colab_type": "text",
    "id": "t0ij45eRwCoe"
   },
   "source": [
    "#### b. MAPE\n"
   ]
  },
  {
   "cell_type": "code",
   "execution_count": null,
   "metadata": {
    "colab": {},
    "colab_type": "code",
    "id": "1bEeukPjwCog"
   },
   "outputs": [],
   "source": [
    "mape_train_error = mean_absolute_percentage_error(y_train_dt, y_pred_train_dt_rs)\n",
    "mape_test_error = mean_absolute_percentage_error(y_test_dt, y_pred_test_dt_rs)\n",
    "print('MAPE for training set is {}'.format(mape_train_error))\n",
    "print('MAPE for testing set is {}'.format(mape_test_error))"
   ]
  },
  {
   "cell_type": "markdown",
   "metadata": {
    "colab_type": "text",
    "id": "keFal7EZwCos"
   },
   "source": [
    "#### c. R-Squared Error"
   ]
  },
  {
   "cell_type": "code",
   "execution_count": null,
   "metadata": {
    "colab": {},
    "colab_type": "code",
    "id": "8zFYKG8mwCou"
   },
   "outputs": [],
   "source": [
    "r_squared_train_dt_rs = r2_score(y_train_dt,y_pred_train_dt_rs )\n",
    "print('R-Squared for training set is {}'.format(r_squared_train_dt_rs))"
   ]
  },
  {
   "cell_type": "code",
   "execution_count": null,
   "metadata": {
    "colab": {},
    "colab_type": "code",
    "id": "_SZaJ0x2wCow"
   },
   "outputs": [],
   "source": [
    "r_squared_test_dt_rs = r2_score(y_test_dt,y_pred_test_dt_rs )\n",
    "print('R-Squared for testing set is {}'.format(r_squared_test_dt_rs))"
   ]
  },
  {
   "cell_type": "markdown",
   "metadata": {
    "colab_type": "text",
    "id": "Ks_DjSb3wCo5"
   },
   "source": [
    "#### d. Adjusted R-Squared Error"
   ]
  },
  {
   "cell_type": "code",
   "execution_count": null,
   "metadata": {
    "colab": {},
    "colab_type": "code",
    "id": "6aHgLrxGwCo7",
    "scrolled": true
   },
   "outputs": [],
   "source": [
    "adjusted_r_squared_train_dt_gs = 1 - (1-r_squared_train_dt_gs)*(len(y_train_dt)-1)/(len(y_train_dt)-X_train_dt.shape[1]-1)\n",
    "print('Adjusted R-Squared for training set is {}'.format(adjusted_r_squared_train_dt_gs))"
   ]
  },
  {
   "cell_type": "code",
   "execution_count": null,
   "metadata": {
    "colab": {},
    "colab_type": "code",
    "id": "EXyiFLGFwCo-"
   },
   "outputs": [],
   "source": [
    "adjusted_r_squared_test_dt_gs = 1 - (1-r_squared_test_dt_gs)*(len(y_test_dt)-1)/(len(y_test_dt)-X_train_dt.shape[1]-1)\n",
    "print('Adjusted R-Squared for testing set is {}'.format(adjusted_r_squared_test_dt_gs))"
   ]
  },
  {
   "cell_type": "code",
   "execution_count": null,
   "metadata": {
    "colab": {},
    "colab_type": "code",
    "id": "hy-RsDN7czBI"
   },
   "outputs": [],
   "source": [
    "RMSE_MAP"
   ]
  },
  {
   "cell_type": "markdown",
   "metadata": {
    "colab_type": "text",
    "id": "LK3Ba0y5wCpI"
   },
   "source": [
    " <a id=section603></a>\n",
    "## 6.3 Random Forest"
   ]
  },
  {
   "cell_type": "markdown",
   "metadata": {
    "colab_type": "text",
    "id": "EcGzIhfIwCpJ"
   },
   "source": [
    "##### Splitting train and test data\n"
   ]
  },
  {
   "cell_type": "code",
   "execution_count": null,
   "metadata": {
    "colab": {},
    "colab_type": "code",
    "id": "YN72YgxWwCpN"
   },
   "outputs": [],
   "source": [
    "X_train_rf, X_test_rf, y_train_rf, y_test_rf=split(X,y)\n",
    "print('Train cases as below')\n",
    "print('X_train shape: ',X_train_rf.shape)\n",
    "print('y_train shape: ',y_train_rf.shape)\n",
    "print('\\nTest cases as below')\n",
    "print('X_test shape: ',X_test_rf.shape)\n",
    "print('y_test shape: ',y_test_rf.shape)"
   ]
  },
  {
   "cell_type": "markdown",
   "metadata": {
    "colab_type": "text",
    "id": "QeLu0ZjVQuJY"
   },
   "source": [
    " <a id=section60301></a>\n",
    "\n",
    "#### 6.3.1 Using Default Model\n"
   ]
  },
  {
   "cell_type": "markdown",
   "metadata": {
    "colab_type": "text",
    "id": "kDQbLyWFPknL"
   },
   "source": [
    " <a id=section6030101></a>\n",
    "\n",
    "#### 6.3.1.1 Building Model and Prediction"
   ]
  },
  {
   "cell_type": "code",
   "execution_count": null,
   "metadata": {
    "colab": {},
    "colab_type": "code",
    "id": "jmbJ1h1TwCpS"
   },
   "outputs": [],
   "source": [
    "from sklearn.ensemble import RandomForestRegressor\n",
    "\n",
    "# using default model for building\n",
    "rf_reg = RandomForestRegressor()\n",
    "rf_reg.fit(X_train_rf, y_train_rf)"
   ]
  },
  {
   "cell_type": "code",
   "execution_count": null,
   "metadata": {
    "colab": {},
    "colab_type": "code",
    "id": "lvj751SvwCpY"
   },
   "outputs": [],
   "source": [
    "y_pred_train_rf = rf_reg.predict(X_train_rf)\n",
    "y_pred_test_rf = rf_reg.predict(X_test_rf)"
   ]
  },
  {
   "cell_type": "markdown",
   "metadata": {
    "colab_type": "text",
    "id": "vX3PgmE9wCpe"
   },
   "source": [
    " <a id=section6030102></a>\n",
    "\n",
    "### 6.3.1.2 Model Evaluation"
   ]
  },
  {
   "cell_type": "markdown",
   "metadata": {
    "colab_type": "text",
    "id": "o9WxF2odwCpf"
   },
   "source": [
    "##### a. RMSE\n"
   ]
  },
  {
   "cell_type": "code",
   "execution_count": null,
   "metadata": {
    "colab": {},
    "colab_type": "code",
    "id": "UDww75H8wCpf"
   },
   "outputs": [],
   "source": [
    "from sklearn import metrics\n",
    "RMSE_train = np.sqrt( metrics.mean_squared_error(y_train_rf, y_pred_train_rf))\n",
    "print('RMSE for training set is {}'.format(RMSE_train))\n",
    "RMSE_MAP['rf_train_d'] = RMSE_train\n",
    "\n",
    "RMSE_test = np.sqrt( metrics.mean_squared_error(y_test_rf, y_pred_test_rf))\n",
    "print('RMSE for testing set is {}'.format(RMSE_test))\n",
    "RMSE_MAP['rf_test_d'] = RMSE_test\n"
   ]
  },
  {
   "cell_type": "markdown",
   "metadata": {
    "colab_type": "text",
    "id": "nb4rkNzSwCph"
   },
   "source": [
    "##### b. MAPE\n"
   ]
  },
  {
   "cell_type": "code",
   "execution_count": null,
   "metadata": {
    "colab": {},
    "colab_type": "code",
    "id": "sUQrBslTwCph"
   },
   "outputs": [],
   "source": [
    "mape_train_error = mean_absolute_percentage_error(y_train_rf, y_pred_train_rf)\n",
    "mape_test_error = mean_absolute_percentage_error(y_test_rf, y_pred_test_rf)\n",
    "print('MAPE for training set is {}'.format(mape_train_error))\n",
    "print('MAPE for testing set is {}'.format(mape_test_error))"
   ]
  },
  {
   "cell_type": "markdown",
   "metadata": {
    "colab_type": "text",
    "id": "9ISTbW1zwCpj"
   },
   "source": [
    "##### c. R-Squared Error"
   ]
  },
  {
   "cell_type": "code",
   "execution_count": null,
   "metadata": {
    "colab": {},
    "colab_type": "code",
    "id": "QNS2wwyOwCpj"
   },
   "outputs": [],
   "source": [
    "r_squared_train_rf = r2_score(y_train_rf,y_pred_train_rf )\n",
    "print('R-Squared for training set is {}'.format(r_squared_train_rf))"
   ]
  },
  {
   "cell_type": "code",
   "execution_count": null,
   "metadata": {
    "colab": {},
    "colab_type": "code",
    "id": "gpt0493qwCpr"
   },
   "outputs": [],
   "source": [
    "r_squared_test_rf = r2_score(y_test_rf,y_pred_test_rf )\n",
    "print('R-Squared for testing set is {}'.format(r_squared_test_rf))"
   ]
  },
  {
   "cell_type": "markdown",
   "metadata": {
    "colab_type": "text",
    "id": "pod1n6h8wCpt"
   },
   "source": [
    "##### d. Adjusted R-Squared Error"
   ]
  },
  {
   "cell_type": "code",
   "execution_count": null,
   "metadata": {
    "colab": {},
    "colab_type": "code",
    "id": "VniKk-krwCpt",
    "scrolled": true
   },
   "outputs": [],
   "source": [
    "adjusted_r_squared_train_rf = 1 - (1-r_squared_train_rf)*(len(y_train_rf)-1)/(len(y_train_rf)-X_train_rf.shape[1]-1)\n",
    "print('Adjusted R-Squared for training set is {}'.format(adjusted_r_squared_train_rf))"
   ]
  },
  {
   "cell_type": "code",
   "execution_count": null,
   "metadata": {
    "colab": {},
    "colab_type": "code",
    "id": "Zmyu-DbCwCpu"
   },
   "outputs": [],
   "source": [
    "adjusted_r_squared_test_rf = 1 - (1-r_squared_test_rf)*(len(y_test_rf)-1)/(len(y_test_rf)-X_train_rf.shape[1]-1)\n",
    "print('Adjusted R-Squared for testing set is {}'.format(adjusted_r_squared_test_rf))"
   ]
  },
  {
   "cell_type": "markdown",
   "metadata": {
    "colab_type": "text",
    "id": "D0UiBytFTw_h"
   },
   "source": [
    " <a id=section60302></a>\n",
    "### 6.3.2 Using GridSearchCV"
   ]
  },
  {
   "cell_type": "markdown",
   "metadata": {
    "colab_type": "text",
    "id": "BOq2seHBSh-q"
   },
   "source": [
    " <a id=section6030201></a>\n",
    "#### 6.3.2.1 Building Model and Prediction"
   ]
  },
  {
   "cell_type": "code",
   "execution_count": null,
   "metadata": {
    "colab": {},
    "colab_type": "code",
    "id": "wccClyQ4R7AI"
   },
   "outputs": [],
   "source": [
    "# Number of trees in random forest\n",
    "n_estimators = [int(x) for x in np.linspace(start = 200, stop = 2000, num = 5)]\n",
    "# Number of features to consider at every split\n",
    "max_features = ['auto', 'sqrt']\n",
    "# Maximum number of levels in tree\n",
    "max_depth = [int(x) for x in np.linspace(10, 110, num = 11)]\n",
    "max_depth.append(None)\n",
    "# Minimum number of samples required to split a node\n",
    "min_samples_split = [2, 5, 10]\n",
    "# Minimum number of samples required at each leaf node\n",
    "min_samples_leaf = [1, 2, 4]\n",
    "# Method of selecting samples for training each tree\n",
    "bootstrap = [True, False]\n",
    "# Create the random grid\n",
    "param_grid = {\n",
    "               'max_features': max_features,\n",
    "               'max_depth': max_depth,\n",
    "               'min_samples_split': min_samples_split,\n",
    "               'min_samples_leaf': min_samples_leaf,\n",
    "               'n_estimators' : [1, 5, 10, 15, 20, 25, 30],\n",
    "               'bootstrap': bootstrap\n",
    "              }"
   ]
  },
  {
   "cell_type": "code",
   "execution_count": null,
   "metadata": {
    "colab": {},
    "colab_type": "code",
    "id": "-KnJtvMySdWA"
   },
   "outputs": [],
   "source": [
    "# Instantiate the grid search model\n",
    "rf_reg_gs = GridSearchCV(estimator = rf_reg, param_grid = param_grid, \n",
    "                          cv = 3, n_jobs = -1, verbose = 2, scoring = my_scorer)"
   ]
  },
  {
   "cell_type": "code",
   "execution_count": null,
   "metadata": {
    "colab": {},
    "colab_type": "code",
    "id": "WLX4P2TeTAqn"
   },
   "outputs": [],
   "source": [
    "rf_reg_gs.fit(X_train_dt, y_train_dt)"
   ]
  },
  {
   "cell_type": "code",
   "execution_count": null,
   "metadata": {
    "colab": {},
    "colab_type": "code",
    "id": "1kC9y2LfWBHo"
   },
   "outputs": [],
   "source": [
    "#prediction on training data\n",
    "y_pred_train_rf_gs = rf_reg_gs.predict(X_train_rf)\n",
    "\n",
    "#prediction on testing data\n",
    "y_pred_test_rf_gs = rf_reg_gs.predict(X_test_rf)"
   ]
  },
  {
   "cell_type": "markdown",
   "metadata": {
    "colab_type": "text",
    "id": "AqQXOlMBV3xQ"
   },
   "source": [
    " <a id=section6030202></a>\n",
    "\n",
    "#### 6.3.2.2 Model Evaluation"
   ]
  },
  {
   "cell_type": "markdown",
   "metadata": {
    "colab_type": "text",
    "id": "XGYyfFOwV3xS"
   },
   "source": [
    "##### a. RMSE\n"
   ]
  },
  {
   "cell_type": "code",
   "execution_count": null,
   "metadata": {
    "colab": {},
    "colab_type": "code",
    "id": "adur5aQEV3xU"
   },
   "outputs": [],
   "source": [
    "from sklearn import metrics\n",
    "RMSE_train = np.sqrt( metrics.mean_squared_error(y_train_rf, y_pred_train_rf_gs))\n",
    "print('RMSE for training set is {}'.format(RMSE_train))\n",
    "RMSE_MAP['rf_train_gs'] = RMSE_train\n",
    "\n",
    "RMSE_test = np.sqrt( metrics.mean_squared_error(y_test_rf, y_pred_test_rf_gs))\n",
    "print('RMSE for testing set is {}'.format(RMSE_test))\n",
    "RMSE_MAP['rf_test_gs'] = RMSE_test\n"
   ]
  },
  {
   "cell_type": "markdown",
   "metadata": {
    "colab_type": "text",
    "id": "GKUttjZvV3xe"
   },
   "source": [
    "##### b. R-Squared Error"
   ]
  },
  {
   "cell_type": "code",
   "execution_count": null,
   "metadata": {
    "colab": {},
    "colab_type": "code",
    "id": "NOdLMgMxV3xf"
   },
   "outputs": [],
   "source": [
    "r_squared_train_rf_gs = r2_score(y_train_rf,y_pred_train_rf_gs )\n",
    "print('R-Squared for training set is {}'.format(r_squared_train_rf_gs))"
   ]
  },
  {
   "cell_type": "code",
   "execution_count": null,
   "metadata": {
    "colab": {},
    "colab_type": "code",
    "id": "G-QOUFG4V3xk"
   },
   "outputs": [],
   "source": [
    "r_squared_test_rf_gs = r2_score(y_test_rf,y_pred_test_rf_gs )\n",
    "print('R-Squared for testing set is {}'.format(r_squared_test_rf_gs))"
   ]
  },
  {
   "cell_type": "markdown",
   "metadata": {
    "colab_type": "text",
    "id": "Y92WQIYmV3xm"
   },
   "source": [
    "##### c. Adjusted R-Squared Error"
   ]
  },
  {
   "cell_type": "code",
   "execution_count": null,
   "metadata": {
    "colab": {},
    "colab_type": "code",
    "id": "SZP7kYNvV3xn",
    "scrolled": true
   },
   "outputs": [],
   "source": [
    "adjusted_r_squared_train_rf_gs = 1 - (1-r_squared_train_rf_gs)*(len(y_train_rf)-1)/(len(y_train_rf)-X_train_rf.shape[1]-1)\n",
    "print('Adjusted R-Squared for training set is {}'.format(adjusted_r_squared_train_rf_gs))"
   ]
  },
  {
   "cell_type": "code",
   "execution_count": null,
   "metadata": {
    "colab": {},
    "colab_type": "code",
    "id": "cS6FmicGV3xq"
   },
   "outputs": [],
   "source": [
    "adjusted_r_squared_test_rf_gs = 1 - (1-r_squared_test_rf_gs)*(len(y_test_rf)-1)/(len(y_test_rf)-X_train_rf.shape[1]-1)\n",
    "print('Adjusted R-Squared for testing set is {}'.format(adjusted_r_squared_test_rf_gs))"
   ]
  },
  {
   "cell_type": "markdown",
   "metadata": {
    "colab_type": "text",
    "id": "jknUCm5BpiFo"
   },
   "source": [
    " <a id=section60303></a>\n",
    "### 6.3.3 Using RandomizedSearchCV"
   ]
  },
  {
   "cell_type": "markdown",
   "metadata": {
    "colab_type": "text",
    "id": "cK74AG6hpiFy"
   },
   "source": [
    " <a id=section6030301></a>\n",
    "#### 6.3.3.1 Building Model and Prediction"
   ]
  },
  {
   "cell_type": "code",
   "execution_count": null,
   "metadata": {
    "colab": {},
    "colab_type": "code",
    "id": "fXIKU9v9piF2"
   },
   "outputs": [],
   "source": [
    "# Number of trees in random forest\n",
    "n_estimators = [int(x) for x in np.linspace(start = 200, stop = 2000, num = 5)]\n",
    "# Number of features to consider at every split\n",
    "max_features = ['auto', 'sqrt']\n",
    "# Maximum number of levels in tree\n",
    "max_depth = [int(x) for x in np.linspace(10, 110, num = 11)]\n",
    "max_depth.append(None)\n",
    "# Minimum number of samples required to split a node\n",
    "min_samples_split = [2, 5, 10]\n",
    "# Minimum number of samples required at each leaf node\n",
    "min_samples_leaf = [1, 2, 4]\n",
    "# Method of selecting samples for training each tree\n",
    "bootstrap = [True, False]\n",
    "# Create the random grid\n",
    "random_grid = {\n",
    "               'max_features': max_features,\n",
    "               'max_depth': max_depth,\n",
    "               'min_samples_split': min_samples_split,\n",
    "               'min_samples_leaf': min_samples_leaf,\n",
    "               'n_estimators' : n_estimators,\n",
    "               'bootstrap': bootstrap\n",
    "              }"
   ]
  },
  {
   "cell_type": "code",
   "execution_count": null,
   "metadata": {
    "colab": {},
    "colab_type": "code",
    "id": "lP-PXV-0piF_"
   },
   "outputs": [],
   "source": [
    "# Instantiate the grid search model\n",
    "rf_reg_rs = RandomizedSearchCV(estimator = rf_reg, param_distributions = random_grid, n_iter = 100, cv = 3, \n",
    "                               verbose=2, random_state=42, n_jobs = -1, scoring = my_scorer)"
   ]
  },
  {
   "cell_type": "code",
   "execution_count": null,
   "metadata": {
    "colab": {},
    "colab_type": "code",
    "id": "b-tWnKfTpiGE"
   },
   "outputs": [],
   "source": [
    "rf_reg_rs.fit(X_train_dt, y_train_dt)"
   ]
  },
  {
   "cell_type": "code",
   "execution_count": null,
   "metadata": {
    "colab": {},
    "colab_type": "code",
    "id": "a___jPLzpiGI"
   },
   "outputs": [],
   "source": [
    "#prediction on training data\n",
    "y_pred_train_rf_rs = rf_reg_rs.predict(X_train_rf)\n",
    "\n",
    "#prediction on testing data\n",
    "y_pred_test_rf_rs = rf_reg_rs.predict(X_test_rf)"
   ]
  },
  {
   "cell_type": "markdown",
   "metadata": {
    "colab_type": "text",
    "id": "W-LVe_KPpiGP"
   },
   "source": [
    " <a id=section6030202></a>\n",
    "\n",
    "#### 6.3.2.2 Model Evaluation"
   ]
  },
  {
   "cell_type": "markdown",
   "metadata": {
    "colab_type": "text",
    "id": "DWpM1FIIpiGQ"
   },
   "source": [
    "##### a. RMSE\n"
   ]
  },
  {
   "cell_type": "code",
   "execution_count": null,
   "metadata": {
    "colab": {},
    "colab_type": "code",
    "id": "aDwrzxh-piGR"
   },
   "outputs": [],
   "source": [
    "from sklearn import metrics\n",
    "RMSE_train = np.sqrt( metrics.mean_squared_error(y_train_rf, y_pred_train_rf_rs))\n",
    "print('RMSE for training set is {}'.format(RMSE_train))\n",
    "RMSE_MAP['rf_train_rs'] = RMSE_train\n",
    "\n",
    "RMSE_test = np.sqrt( metrics.mean_squared_error(y_test_rf, y_pred_test_rf_rs))\n",
    "print('RMSE for testing set is {}'.format(RMSE_test))\n",
    "RMSE_MAP['rf_test_rs'] = RMSE_test\n"
   ]
  },
  {
   "cell_type": "markdown",
   "metadata": {
    "colab_type": "text",
    "id": "T3ERgAkfpiGX"
   },
   "source": [
    "##### b. R-Squared Error"
   ]
  },
  {
   "cell_type": "code",
   "execution_count": null,
   "metadata": {
    "colab": {},
    "colab_type": "code",
    "id": "YN3Tb_PrpiGX"
   },
   "outputs": [],
   "source": [
    "r_squared_train_rf_rs = r2_score(y_train_rf,y_pred_train_rf_rs )\n",
    "print('R-Squared for training set is {}'.format(r_squared_train_rf_rs))"
   ]
  },
  {
   "cell_type": "code",
   "execution_count": null,
   "metadata": {
    "colab": {},
    "colab_type": "code",
    "id": "0ef-635fpiGc"
   },
   "outputs": [],
   "source": [
    "r_squared_test_rf_rs = r2_score(y_test_rf,y_pred_test_rf_rs )\n",
    "print('R-Squared for testing set is {}'.format(r_squared_test_rf_rs))"
   ]
  },
  {
   "cell_type": "markdown",
   "metadata": {
    "colab_type": "text",
    "id": "yg9xGuMKpiGe"
   },
   "source": [
    "##### c. Adjusted R-Squared Error"
   ]
  },
  {
   "cell_type": "code",
   "execution_count": null,
   "metadata": {
    "colab": {},
    "colab_type": "code",
    "id": "XQlJN4L3piGf",
    "scrolled": true
   },
   "outputs": [],
   "source": [
    "adjusted_r_squared_train_rf_rs = 1 - (1-r_squared_train_rf_rs)*(len(y_train_rf)-1)/(len(y_train_rf)-X_train_rf.shape[1]-1)\n",
    "print('Adjusted R-Squared for training set is {}'.format(adjusted_r_squared_train_rf_rs))"
   ]
  },
  {
   "cell_type": "code",
   "execution_count": null,
   "metadata": {
    "colab": {},
    "colab_type": "code",
    "id": "6kZyccfopiGh"
   },
   "outputs": [],
   "source": [
    "adjusted_r_squared_test_rf_rs = 1 - (1-r_squared_test_rf_rs)*(len(y_test_rf)-1)/(len(y_test_rf)-X_train_rf.shape[1]-1)\n",
    "print('Adjusted R-Squared for testing set is {}'.format(adjusted_r_squared_test_rf_rs))"
   ]
  },
  {
   "cell_type": "markdown",
   "metadata": {
    "colab_type": "text",
    "id": "hLS6JsiOrwc5"
   },
   "source": [
    " <a id=section7></a>\n",
    "\n",
    "# 7. Conclusion"
   ]
  },
  {
   "cell_type": "markdown",
   "metadata": {
    "colab_type": "text",
    "id": "Dcfk5pvXqoUQ"
   },
   "source": [
    "## 7.1 Choosing Best Model for prediction"
   ]
  },
  {
   "cell_type": "markdown",
   "metadata": {
    "colab_type": "text",
    "id": "nTYv-U6vr8Oj"
   },
   "source": [
    " <a id=section701></a>\n",
    "<img src=\"./images/Model_Comparision.jpg\" height='400px' width='100%'><br/>"
   ]
  },
  {
   "cell_type": "markdown",
   "metadata": {
    "colab_type": "text",
    "id": "urEmQaXCtIrf"
   },
   "source": [
    "NOTE:\n",
    "\n",
    "As we can observe Random Forest algorithm has **best scores in terms of RMSE**. Let's use Tandom Forest GridSearchCV to predict our output.\n"
   ]
  },
  {
   "cell_type": "markdown",
   "metadata": {
    "colab_type": "text",
    "id": "YBzUnbMUqdYk"
   },
   "source": [
    " <a id=section702></a>\n",
    "# 7.2 Final Prediction"
   ]
  },
  {
   "cell_type": "code",
   "execution_count": null,
   "metadata": {
    "colab": {},
    "colab_type": "code",
    "id": "7b3PfxbTtiSV"
   },
   "outputs": [],
   "source": [
    " # dropping existing Views column\n",
    " df_views_songs_test.drop('Views', axis=1, inplace=True)"
   ]
  },
  {
   "cell_type": "code",
   "execution_count": null,
   "metadata": {
    "colab": {},
    "colab_type": "code",
    "id": "ZXbWZ0uSumVP"
   },
   "outputs": [],
   "source": [
    "# predicting test data\n",
    "y_pred = rf_reg_gs.predict(df_views_songs_test)"
   ]
  },
  {
   "cell_type": "code",
   "execution_count": null,
   "metadata": {
    "colab": {},
    "colab_type": "code",
    "id": "VBNmR3U9SFfk"
   },
   "outputs": [],
   "source": [
    "# storing predicted output in a dataframe\n",
    "views_predicted = pd.DataFrame({'Views' : np.array(y_pred)})\n",
    "views_predicted.index = df_views_songs_test.index"
   ]
  },
  {
   "cell_type": "code",
   "execution_count": null,
   "metadata": {
    "colab": {},
    "colab_type": "code",
    "id": "xRI_6Vo2uKsv"
   },
   "outputs": [],
   "source": [
    "# scaling back to original value\n",
    "views_predicted.apply(lambda x : x**10)"
   ]
  },
  {
   "cell_type": "code",
   "execution_count": null,
   "metadata": {
    "colab": {},
    "colab_type": "code",
    "id": "fJQckt5xqyXa"
   },
   "outputs": [],
   "source": [
    "# storing output in xlsx format\n",
    "views_predicted.to_excel('Views_Prediction.xlsx')"
   ]
  }
 ],
 "metadata": {
  "colab": {
   "collapsed_sections": [
    "H_CCA-lquBnW",
    "BBYbJb4ouBnk",
    "1uRVtps7uBof",
    "N1z29TdVuBog",
    "y7oyrCBcuBol",
    "9Sbaj1YGuBos",
    "ahoydxpEuBqg",
    "aPWTERz2uBqs",
    "q1vbwN7ruBqx",
    "hRjBYMRcuBq5",
    "3sZbZRs-uBq5",
    "yO_jkHgbuBrD",
    "bIZg4h35uBrD",
    "rXSjndu7uBrG",
    "XDKXxYr3uBrO",
    "HleW9XkQuBrV",
    "bVSfvFgxuBra",
    "CQGe49m6uBrb",
    "aokgIekOuBrl",
    "SOSYQ0ejuBrm",
    "h497xmeZuBrn",
    "ZamyNRnFuBrp",
    "_6UCLovcuBrs"
   ],
   "name": "VideoViewsPrediction.ipynb",
   "provenance": [],
   "toc_visible": true
  },
  "kernelspec": {
   "display_name": "Python 3",
   "language": "python",
   "name": "python3"
  },
  "language_info": {
   "codemirror_mode": {
    "name": "ipython",
    "version": 3
   },
   "file_extension": ".py",
   "mimetype": "text/x-python",
   "name": "python",
   "nbconvert_exporter": "python",
   "pygments_lexer": "ipython3",
   "version": "3.7.4"
  }
 },
 "nbformat": 4,
 "nbformat_minor": 1
}
